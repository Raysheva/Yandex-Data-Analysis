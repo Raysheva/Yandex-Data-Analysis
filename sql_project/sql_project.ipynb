{
 "cells": [
  {
   "cell_type": "markdown",
   "metadata": {},
   "source": [
    "# Анализ базы данных крупного сервиса для чтения книг по подписке."
   ]
  },
  {
   "cell_type": "markdown",
   "metadata": {},
   "source": [
    "<div class=\"alert alert-info\">\n",
    "\n",
    "**Задача исследования** - проанализировать базу данных крупного сервиса для чтения книг по подписке.\n",
    "В ней — информация о книгах, издательствах, авторах, а также пользовательские обзоры книг. Эти данные в дальнейшем помогут сформулировать ценностное предложение для нового продукта."
   ]
  },
  {
   "cell_type": "markdown",
   "metadata": {},
   "source": [
    "## Описание данных"
   ]
  },
  {
   "cell_type": "markdown",
   "metadata": {},
   "source": [
    "**Таблица `books`**\n",
    "Содержит данные о книгах:\n",
    "- `book_id` — идентификатор книги;\n",
    "- `author_id` — идентификатор автора;\n",
    "- `title` — название книги;\n",
    "- `num_pages` — количество страниц;\n",
    "- `publication_date` — дата публикации книги;\n",
    "- `publisher_id` — идентификатор издателя.\n",
    "\n",
    "**Таблица `authors`**\n",
    "Содержит данные об авторах:\n",
    "- `publisher_id` — идентификатор издательства;\n",
    "- `publisher` — название издательства;\n",
    "**Таблица `ratings`**\n",
    "\n",
    "Содержит данные о пользовательских оценках книг:\n",
    "- `rating_id` — идентификатор оценки;\n",
    "- `book_id` — идентификатор книги;\n",
    "- `username` — имя пользователя, оставившего оценку;\n",
    "- `rating` — оценка книги. \n",
    "**Таблица `reviews`**\n",
    "\n",
    "Содержит данные о пользовательских обзорах на книги:\n",
    "- `review_id` — идентификатор обзора;\n",
    "- `book_id` — идентификатор книги;\n",
    "- `username` — имя пользователя, написавшего обзор;\n",
    "- `text` — текст обзора."
   ]
  },
  {
   "cell_type": "code",
   "execution_count": 1,
   "metadata": {},
   "outputs": [],
   "source": [
    "#!/usr/bin/python\n",
    "# -*- coding: utf-8 -*-\n",
    "# !pip install -U psycopg2\n",
    "\n",
    "# импортируем библиотеки\n",
    "import pandas as pd\n",
    "from sqlalchemy import create_engine\n",
    "# устанавливаем параметры\n",
    "db_config = {'user': 'praktikum_student', # имя пользователя\n",
    " 'pwd': 'Sdf4$2;d-d30pp', # пароль\n",
    " 'host': 'rc1b-wcoijxj3yxfsf3fs.mdb.yandexcloud.net',\n",
    " 'port': 6432, # порт подключения\n",
    " 'db': 'data-analyst-final-project-db'} # название базы данных\n",
    "# Формируем строку соединения с БД.\n",
    "connection_string = 'postgresql://{}:{}@{}:{}/{}'.format(db_config['user'],\n",
    " db_config['pwd'],\n",
    " db_config['host'],\n",
    " db_config['port'],\n",
    " db_config['db'])\n",
    "# сохраняем коннектор\n",
    "engine = create_engine(connection_string, connect_args={'sslmode':'require'}) "
   ]
  },
  {
   "cell_type": "markdown",
   "metadata": {},
   "source": [
    "## Подготовка данных"
   ]
  },
  {
   "cell_type": "code",
   "execution_count": 2,
   "metadata": {},
   "outputs": [],
   "source": [
    "# Формируем sql-запрос.\n",
    "query1 = ''' SELECT *\n",
    "            FROM books\n",
    "                   '''"
   ]
  },
  {
   "cell_type": "code",
   "execution_count": 3,
   "metadata": {},
   "outputs": [],
   "source": [
    "query2 = ''' SELECT *\n",
    "            FROM authors\n",
    "                   '''"
   ]
  },
  {
   "cell_type": "code",
   "execution_count": 4,
   "metadata": {},
   "outputs": [],
   "source": [
    "query3 = ''' SELECT *\n",
    "            FROM ratings\n",
    "                   '''"
   ]
  },
  {
   "cell_type": "code",
   "execution_count": 5,
   "metadata": {},
   "outputs": [],
   "source": [
    "query4 = ''' SELECT *\n",
    "            FROM reviews\n",
    "                   '''"
   ]
  },
  {
   "cell_type": "code",
   "execution_count": 6,
   "metadata": {},
   "outputs": [],
   "source": [
    "# Выполняем запрос и сохраняем результат\n",
    "# выполнения в DataFrame.\n",
    "# Sqlalchemy автоматически установит названия колонок\n",
    "# такими же, как у таблицы в БД. Нам останется только\n",
    "# указать индексную колонку с помощью index_col.\n",
    "\n",
    "\n",
    "books=pd.io.sql.read_sql(query1, con = engine) \n",
    "authors=pd.io.sql.read_sql(query2, con = engine)\n",
    "ratings=pd.io.sql.read_sql(query3, con = engine) \n",
    "reviews=pd.io.sql.read_sql(query4, con = engine) "
   ]
  },
  {
   "cell_type": "code",
   "execution_count": 7,
   "metadata": {},
   "outputs": [
    {
     "data": {
      "text/html": [
       "<div>\n",
       "<style scoped>\n",
       "    .dataframe tbody tr th:only-of-type {\n",
       "        vertical-align: middle;\n",
       "    }\n",
       "\n",
       "    .dataframe tbody tr th {\n",
       "        vertical-align: top;\n",
       "    }\n",
       "\n",
       "    .dataframe thead th {\n",
       "        text-align: right;\n",
       "    }\n",
       "</style>\n",
       "<table border=\"1\" class=\"dataframe\">\n",
       "  <thead>\n",
       "    <tr style=\"text-align: right;\">\n",
       "      <th></th>\n",
       "      <th>book_id</th>\n",
       "      <th>author_id</th>\n",
       "      <th>title</th>\n",
       "      <th>num_pages</th>\n",
       "      <th>publication_date</th>\n",
       "      <th>publisher_id</th>\n",
       "    </tr>\n",
       "  </thead>\n",
       "  <tbody>\n",
       "    <tr>\n",
       "      <td>0</td>\n",
       "      <td>1</td>\n",
       "      <td>546</td>\n",
       "      <td>'Salem's Lot</td>\n",
       "      <td>594</td>\n",
       "      <td>2005-11-01</td>\n",
       "      <td>93</td>\n",
       "    </tr>\n",
       "    <tr>\n",
       "      <td>1</td>\n",
       "      <td>2</td>\n",
       "      <td>465</td>\n",
       "      <td>1 000 Places to See Before You Die</td>\n",
       "      <td>992</td>\n",
       "      <td>2003-05-22</td>\n",
       "      <td>336</td>\n",
       "    </tr>\n",
       "    <tr>\n",
       "      <td>2</td>\n",
       "      <td>3</td>\n",
       "      <td>407</td>\n",
       "      <td>13 Little Blue Envelopes (Little Blue Envelope...</td>\n",
       "      <td>322</td>\n",
       "      <td>2010-12-21</td>\n",
       "      <td>135</td>\n",
       "    </tr>\n",
       "    <tr>\n",
       "      <td>3</td>\n",
       "      <td>4</td>\n",
       "      <td>82</td>\n",
       "      <td>1491: New Revelations of the Americas Before C...</td>\n",
       "      <td>541</td>\n",
       "      <td>2006-10-10</td>\n",
       "      <td>309</td>\n",
       "    </tr>\n",
       "    <tr>\n",
       "      <td>4</td>\n",
       "      <td>5</td>\n",
       "      <td>125</td>\n",
       "      <td>1776</td>\n",
       "      <td>386</td>\n",
       "      <td>2006-07-04</td>\n",
       "      <td>268</td>\n",
       "    </tr>\n",
       "  </tbody>\n",
       "</table>\n",
       "</div>"
      ],
      "text/plain": [
       "   book_id  author_id                                              title  \\\n",
       "0        1        546                                       'Salem's Lot   \n",
       "1        2        465                 1 000 Places to See Before You Die   \n",
       "2        3        407  13 Little Blue Envelopes (Little Blue Envelope...   \n",
       "3        4         82  1491: New Revelations of the Americas Before C...   \n",
       "4        5        125                                               1776   \n",
       "\n",
       "   num_pages publication_date  publisher_id  \n",
       "0        594       2005-11-01            93  \n",
       "1        992       2003-05-22           336  \n",
       "2        322       2010-12-21           135  \n",
       "3        541       2006-10-10           309  \n",
       "4        386       2006-07-04           268  "
      ]
     },
     "execution_count": 7,
     "metadata": {},
     "output_type": "execute_result"
    }
   ],
   "source": [
    "books.head()"
   ]
  },
  {
   "cell_type": "code",
   "execution_count": 8,
   "metadata": {},
   "outputs": [
    {
     "data": {
      "text/html": [
       "<div>\n",
       "<style scoped>\n",
       "    .dataframe tbody tr th:only-of-type {\n",
       "        vertical-align: middle;\n",
       "    }\n",
       "\n",
       "    .dataframe tbody tr th {\n",
       "        vertical-align: top;\n",
       "    }\n",
       "\n",
       "    .dataframe thead th {\n",
       "        text-align: right;\n",
       "    }\n",
       "</style>\n",
       "<table border=\"1\" class=\"dataframe\">\n",
       "  <thead>\n",
       "    <tr style=\"text-align: right;\">\n",
       "      <th></th>\n",
       "      <th>author_id</th>\n",
       "      <th>author</th>\n",
       "    </tr>\n",
       "  </thead>\n",
       "  <tbody>\n",
       "    <tr>\n",
       "      <td>0</td>\n",
       "      <td>1</td>\n",
       "      <td>A.S. Byatt</td>\n",
       "    </tr>\n",
       "    <tr>\n",
       "      <td>1</td>\n",
       "      <td>2</td>\n",
       "      <td>Aesop/Laura Harris/Laura Gibbs</td>\n",
       "    </tr>\n",
       "    <tr>\n",
       "      <td>2</td>\n",
       "      <td>3</td>\n",
       "      <td>Agatha Christie</td>\n",
       "    </tr>\n",
       "    <tr>\n",
       "      <td>3</td>\n",
       "      <td>4</td>\n",
       "      <td>Alan Brennert</td>\n",
       "    </tr>\n",
       "    <tr>\n",
       "      <td>4</td>\n",
       "      <td>5</td>\n",
       "      <td>Alan Moore/David   Lloyd</td>\n",
       "    </tr>\n",
       "  </tbody>\n",
       "</table>\n",
       "</div>"
      ],
      "text/plain": [
       "   author_id                          author\n",
       "0          1                      A.S. Byatt\n",
       "1          2  Aesop/Laura Harris/Laura Gibbs\n",
       "2          3                 Agatha Christie\n",
       "3          4                   Alan Brennert\n",
       "4          5        Alan Moore/David   Lloyd"
      ]
     },
     "execution_count": 8,
     "metadata": {},
     "output_type": "execute_result"
    }
   ],
   "source": [
    "authors.head()"
   ]
  },
  {
   "cell_type": "code",
   "execution_count": 9,
   "metadata": {},
   "outputs": [
    {
     "data": {
      "text/html": [
       "<div>\n",
       "<style scoped>\n",
       "    .dataframe tbody tr th:only-of-type {\n",
       "        vertical-align: middle;\n",
       "    }\n",
       "\n",
       "    .dataframe tbody tr th {\n",
       "        vertical-align: top;\n",
       "    }\n",
       "\n",
       "    .dataframe thead th {\n",
       "        text-align: right;\n",
       "    }\n",
       "</style>\n",
       "<table border=\"1\" class=\"dataframe\">\n",
       "  <thead>\n",
       "    <tr style=\"text-align: right;\">\n",
       "      <th></th>\n",
       "      <th>rating_id</th>\n",
       "      <th>book_id</th>\n",
       "      <th>username</th>\n",
       "      <th>rating</th>\n",
       "    </tr>\n",
       "  </thead>\n",
       "  <tbody>\n",
       "    <tr>\n",
       "      <td>0</td>\n",
       "      <td>1</td>\n",
       "      <td>1</td>\n",
       "      <td>ryanfranco</td>\n",
       "      <td>4</td>\n",
       "    </tr>\n",
       "    <tr>\n",
       "      <td>1</td>\n",
       "      <td>2</td>\n",
       "      <td>1</td>\n",
       "      <td>grantpatricia</td>\n",
       "      <td>2</td>\n",
       "    </tr>\n",
       "    <tr>\n",
       "      <td>2</td>\n",
       "      <td>3</td>\n",
       "      <td>1</td>\n",
       "      <td>brandtandrea</td>\n",
       "      <td>5</td>\n",
       "    </tr>\n",
       "    <tr>\n",
       "      <td>3</td>\n",
       "      <td>4</td>\n",
       "      <td>2</td>\n",
       "      <td>lorichen</td>\n",
       "      <td>3</td>\n",
       "    </tr>\n",
       "    <tr>\n",
       "      <td>4</td>\n",
       "      <td>5</td>\n",
       "      <td>2</td>\n",
       "      <td>mariokeller</td>\n",
       "      <td>2</td>\n",
       "    </tr>\n",
       "  </tbody>\n",
       "</table>\n",
       "</div>"
      ],
      "text/plain": [
       "   rating_id  book_id       username  rating\n",
       "0          1        1     ryanfranco       4\n",
       "1          2        1  grantpatricia       2\n",
       "2          3        1   brandtandrea       5\n",
       "3          4        2       lorichen       3\n",
       "4          5        2    mariokeller       2"
      ]
     },
     "execution_count": 9,
     "metadata": {},
     "output_type": "execute_result"
    }
   ],
   "source": [
    "ratings.head()"
   ]
  },
  {
   "cell_type": "code",
   "execution_count": 10,
   "metadata": {},
   "outputs": [
    {
     "data": {
      "text/html": [
       "<div>\n",
       "<style scoped>\n",
       "    .dataframe tbody tr th:only-of-type {\n",
       "        vertical-align: middle;\n",
       "    }\n",
       "\n",
       "    .dataframe tbody tr th {\n",
       "        vertical-align: top;\n",
       "    }\n",
       "\n",
       "    .dataframe thead th {\n",
       "        text-align: right;\n",
       "    }\n",
       "</style>\n",
       "<table border=\"1\" class=\"dataframe\">\n",
       "  <thead>\n",
       "    <tr style=\"text-align: right;\">\n",
       "      <th></th>\n",
       "      <th>review_id</th>\n",
       "      <th>book_id</th>\n",
       "      <th>username</th>\n",
       "      <th>text</th>\n",
       "    </tr>\n",
       "  </thead>\n",
       "  <tbody>\n",
       "    <tr>\n",
       "      <td>0</td>\n",
       "      <td>1</td>\n",
       "      <td>1</td>\n",
       "      <td>brandtandrea</td>\n",
       "      <td>Mention society tell send professor analysis. ...</td>\n",
       "    </tr>\n",
       "    <tr>\n",
       "      <td>1</td>\n",
       "      <td>2</td>\n",
       "      <td>1</td>\n",
       "      <td>ryanfranco</td>\n",
       "      <td>Foot glass pretty audience hit themselves. Amo...</td>\n",
       "    </tr>\n",
       "    <tr>\n",
       "      <td>2</td>\n",
       "      <td>3</td>\n",
       "      <td>2</td>\n",
       "      <td>lorichen</td>\n",
       "      <td>Listen treat keep worry. Miss husband tax but ...</td>\n",
       "    </tr>\n",
       "    <tr>\n",
       "      <td>3</td>\n",
       "      <td>4</td>\n",
       "      <td>3</td>\n",
       "      <td>johnsonamanda</td>\n",
       "      <td>Finally month interesting blue could nature cu...</td>\n",
       "    </tr>\n",
       "    <tr>\n",
       "      <td>4</td>\n",
       "      <td>5</td>\n",
       "      <td>3</td>\n",
       "      <td>scotttamara</td>\n",
       "      <td>Nation purpose heavy give wait song will. List...</td>\n",
       "    </tr>\n",
       "  </tbody>\n",
       "</table>\n",
       "</div>"
      ],
      "text/plain": [
       "   review_id  book_id       username  \\\n",
       "0          1        1   brandtandrea   \n",
       "1          2        1     ryanfranco   \n",
       "2          3        2       lorichen   \n",
       "3          4        3  johnsonamanda   \n",
       "4          5        3    scotttamara   \n",
       "\n",
       "                                                text  \n",
       "0  Mention society tell send professor analysis. ...  \n",
       "1  Foot glass pretty audience hit themselves. Amo...  \n",
       "2  Listen treat keep worry. Miss husband tax but ...  \n",
       "3  Finally month interesting blue could nature cu...  \n",
       "4  Nation purpose heavy give wait song will. List...  "
      ]
     },
     "execution_count": 10,
     "metadata": {},
     "output_type": "execute_result"
    }
   ],
   "source": [
    "reviews.head()"
   ]
  },
  {
   "cell_type": "markdown",
   "metadata": {},
   "source": [
    "## Количество книг, вышедших после 1 января 2000 года."
   ]
  },
  {
   "cell_type": "code",
   "execution_count": 11,
   "metadata": {},
   "outputs": [],
   "source": [
    "query5 = '''Select \n",
    "            COUNT (book_id)\n",
    "            FROM books\n",
    "            WHERE publication_date >'2000-01-01' \n",
    "          \n",
    "                   '''"
   ]
  },
  {
   "cell_type": "code",
   "execution_count": 12,
   "metadata": {},
   "outputs": [
    {
     "data": {
      "text/html": [
       "<div>\n",
       "<style scoped>\n",
       "    .dataframe tbody tr th:only-of-type {\n",
       "        vertical-align: middle;\n",
       "    }\n",
       "\n",
       "    .dataframe tbody tr th {\n",
       "        vertical-align: top;\n",
       "    }\n",
       "\n",
       "    .dataframe thead th {\n",
       "        text-align: right;\n",
       "    }\n",
       "</style>\n",
       "<table border=\"1\" class=\"dataframe\">\n",
       "  <thead>\n",
       "    <tr style=\"text-align: right;\">\n",
       "      <th></th>\n",
       "      <th>count</th>\n",
       "    </tr>\n",
       "  </thead>\n",
       "  <tbody>\n",
       "    <tr>\n",
       "      <td>0</td>\n",
       "      <td>819</td>\n",
       "    </tr>\n",
       "  </tbody>\n",
       "</table>\n",
       "</div>"
      ],
      "text/plain": [
       "   count\n",
       "0    819"
      ]
     },
     "execution_count": 12,
     "metadata": {},
     "output_type": "execute_result"
    }
   ],
   "source": [
    "count_books_2020=pd.io.sql.read_sql(query5, con = engine)\n",
    "count_books_2020"
   ]
  },
  {
   "cell_type": "markdown",
   "metadata": {},
   "source": [
    "<div class=\"alert alert-info\">\n",
    "    База данных содержит 819 книг, вышедших после 1 января 2000 года."
   ]
  },
  {
   "cell_type": "markdown",
   "metadata": {},
   "source": [
    "## Количество обзоров и средняя оценка для каждой книги."
   ]
  },
  {
   "cell_type": "code",
   "execution_count": 13,
   "metadata": {},
   "outputs": [],
   "source": [
    "query6 = '''Select books.title,rev.review_count, rat.rating_avg\n",
    "            FROM books\n",
    "            LEFT JOIN \n",
    "                (SELECT book_id, COUNT(review_id) AS review_count\n",
    "                FROM reviews\n",
    "                GROUP BY book_id)rev\n",
    "            ON books.book_id=rev.book_id\n",
    "            LEFT JOIN (SELECT book_id, AVG (rating) AS rating_avg \n",
    "                        FROM ratings \n",
    "                        GROUP BY book_id)rat\n",
    "            ON books.book_id=rat.book_id\n",
    "        \n",
    "         \n",
    "                   '''"
   ]
  },
  {
   "cell_type": "code",
   "execution_count": 14,
   "metadata": {},
   "outputs": [
    {
     "data": {
      "text/html": [
       "<div>\n",
       "<style scoped>\n",
       "    .dataframe tbody tr th:only-of-type {\n",
       "        vertical-align: middle;\n",
       "    }\n",
       "\n",
       "    .dataframe tbody tr th {\n",
       "        vertical-align: top;\n",
       "    }\n",
       "\n",
       "    .dataframe thead th {\n",
       "        text-align: right;\n",
       "    }\n",
       "</style>\n",
       "<table border=\"1\" class=\"dataframe\">\n",
       "  <thead>\n",
       "    <tr style=\"text-align: right;\">\n",
       "      <th></th>\n",
       "      <th>title</th>\n",
       "      <th>review_count</th>\n",
       "      <th>rating_avg</th>\n",
       "    </tr>\n",
       "  </thead>\n",
       "  <tbody>\n",
       "    <tr>\n",
       "      <td>161</td>\n",
       "      <td>Twilight (Twilight  #1)</td>\n",
       "      <td>7.0</td>\n",
       "      <td>3.662500</td>\n",
       "    </tr>\n",
       "    <tr>\n",
       "      <td>510</td>\n",
       "      <td>The Giver (The Giver  #1)</td>\n",
       "      <td>6.0</td>\n",
       "      <td>3.750000</td>\n",
       "    </tr>\n",
       "    <tr>\n",
       "      <td>651</td>\n",
       "      <td>Harry Potter and the Prisoner of Azkaban (Harr...</td>\n",
       "      <td>6.0</td>\n",
       "      <td>4.414634</td>\n",
       "    </tr>\n",
       "    <tr>\n",
       "      <td>245</td>\n",
       "      <td>The Da Vinci Code (Robert Langdon  #2)</td>\n",
       "      <td>6.0</td>\n",
       "      <td>3.830508</td>\n",
       "    </tr>\n",
       "    <tr>\n",
       "      <td>379</td>\n",
       "      <td>The Road</td>\n",
       "      <td>6.0</td>\n",
       "      <td>3.772727</td>\n",
       "    </tr>\n",
       "  </tbody>\n",
       "</table>\n",
       "</div>"
      ],
      "text/plain": [
       "                                                 title  review_count  \\\n",
       "161                            Twilight (Twilight  #1)           7.0   \n",
       "510                          The Giver (The Giver  #1)           6.0   \n",
       "651  Harry Potter and the Prisoner of Azkaban (Harr...           6.0   \n",
       "245             The Da Vinci Code (Robert Langdon  #2)           6.0   \n",
       "379                                           The Road           6.0   \n",
       "\n",
       "     rating_avg  \n",
       "161    3.662500  \n",
       "510    3.750000  \n",
       "651    4.414634  \n",
       "245    3.830508  \n",
       "379    3.772727  "
      ]
     },
     "metadata": {},
     "output_type": "display_data"
    }
   ],
   "source": [
    "review_rating=pd.io.sql.read_sql(query6, con = engine)\n",
    "review_rating=review_rating.fillna(0).sort_values(by='review_count', ascending=False)\n",
    "display(review_rating.head())"
   ]
  },
  {
   "cell_type": "markdown",
   "metadata": {},
   "source": [
    "<div class=\"alert alert-info\">\n",
    "Наибольшее количество обзоров на книгу Сумерки/Twilight- популярный романов американской писательницы Стефани Майер."
   ]
  },
  {
   "cell_type": "markdown",
   "metadata": {},
   "source": [
    "## Издательство, которое выпустило наибольшее число книг толще 50 страниц."
   ]
  },
  {
   "cell_type": "code",
   "execution_count": 15,
   "metadata": {},
   "outputs": [],
   "source": [
    "query7 = '''Select publisher, COUNT(book_id) AS books_count\n",
    "            FROM books INNER JOIN publishers ON books.publisher_id=publishers.publisher_id\n",
    "            WHERE num_pages > 50\n",
    "            GROUP BY publisher\n",
    "            ORDER BY books_count DESC\n",
    "            LIMIT 1\n",
    "                   '''"
   ]
  },
  {
   "cell_type": "code",
   "execution_count": 16,
   "metadata": {},
   "outputs": [
    {
     "data": {
      "text/html": [
       "<div>\n",
       "<style scoped>\n",
       "    .dataframe tbody tr th:only-of-type {\n",
       "        vertical-align: middle;\n",
       "    }\n",
       "\n",
       "    .dataframe tbody tr th {\n",
       "        vertical-align: top;\n",
       "    }\n",
       "\n",
       "    .dataframe thead th {\n",
       "        text-align: right;\n",
       "    }\n",
       "</style>\n",
       "<table border=\"1\" class=\"dataframe\">\n",
       "  <thead>\n",
       "    <tr style=\"text-align: right;\">\n",
       "      <th></th>\n",
       "      <th>publisher</th>\n",
       "      <th>books_count</th>\n",
       "    </tr>\n",
       "  </thead>\n",
       "  <tbody>\n",
       "    <tr>\n",
       "      <td>0</td>\n",
       "      <td>Penguin Books</td>\n",
       "      <td>42</td>\n",
       "    </tr>\n",
       "  </tbody>\n",
       "</table>\n",
       "</div>"
      ],
      "text/plain": [
       "       publisher  books_count\n",
       "0  Penguin Books           42"
      ]
     },
     "metadata": {},
     "output_type": "display_data"
    }
   ],
   "source": [
    "publisher_books=pd.io.sql.read_sql(query7, con = engine)\n",
    "display(publisher_books.head())"
   ]
  },
  {
   "cell_type": "markdown",
   "metadata": {},
   "source": [
    "**Наибольшее количество книг, толще 50 страниц выпустило британское издательство Penguin Books.**"
   ]
  },
  {
   "cell_type": "markdown",
   "metadata": {},
   "source": [
    "## Автор с самой высокой средней оценкой книг."
   ]
  },
  {
   "cell_type": "code",
   "execution_count": 17,
   "metadata": {},
   "outputs": [],
   "source": [
    "query8 = '''Select author, AVG(rating) AS rating_avg, COUNT (ratings.book_id) AS count_rating\n",
    "            FROM books INNER JOIN authors ON books.author_id= authors.author_id\n",
    "                         INNER JOIN ratings ON books.book_id= ratings.book_id\n",
    "            \n",
    "            GROUP BY author\n",
    "            HAVING COUNT(ratings.book_id)> 50\n",
    "            ORDER BY rating_avg DESC\n",
    "            \n",
    "                   '''"
   ]
  },
  {
   "cell_type": "code",
   "execution_count": 18,
   "metadata": {},
   "outputs": [
    {
     "data": {
      "text/html": [
       "<div>\n",
       "<style scoped>\n",
       "    .dataframe tbody tr th:only-of-type {\n",
       "        vertical-align: middle;\n",
       "    }\n",
       "\n",
       "    .dataframe tbody tr th {\n",
       "        vertical-align: top;\n",
       "    }\n",
       "\n",
       "    .dataframe thead th {\n",
       "        text-align: right;\n",
       "    }\n",
       "</style>\n",
       "<table border=\"1\" class=\"dataframe\">\n",
       "  <thead>\n",
       "    <tr style=\"text-align: right;\">\n",
       "      <th></th>\n",
       "      <th>author</th>\n",
       "      <th>rating_avg</th>\n",
       "      <th>count_rating</th>\n",
       "    </tr>\n",
       "  </thead>\n",
       "  <tbody>\n",
       "    <tr>\n",
       "      <td>0</td>\n",
       "      <td>J.K. Rowling/Mary GrandPré</td>\n",
       "      <td>4.288462</td>\n",
       "      <td>312</td>\n",
       "    </tr>\n",
       "    <tr>\n",
       "      <td>1</td>\n",
       "      <td>Agatha Christie</td>\n",
       "      <td>4.283019</td>\n",
       "      <td>53</td>\n",
       "    </tr>\n",
       "    <tr>\n",
       "      <td>2</td>\n",
       "      <td>Markus Zusak/Cao Xuân Việt Khương</td>\n",
       "      <td>4.264151</td>\n",
       "      <td>53</td>\n",
       "    </tr>\n",
       "    <tr>\n",
       "      <td>3</td>\n",
       "      <td>J.R.R. Tolkien</td>\n",
       "      <td>4.240964</td>\n",
       "      <td>166</td>\n",
       "    </tr>\n",
       "    <tr>\n",
       "      <td>4</td>\n",
       "      <td>Roald Dahl/Quentin Blake</td>\n",
       "      <td>4.209677</td>\n",
       "      <td>62</td>\n",
       "    </tr>\n",
       "  </tbody>\n",
       "</table>\n",
       "</div>"
      ],
      "text/plain": [
       "                              author  rating_avg  count_rating\n",
       "0         J.K. Rowling/Mary GrandPré    4.288462           312\n",
       "1                    Agatha Christie    4.283019            53\n",
       "2  Markus Zusak/Cao Xuân Việt Khương    4.264151            53\n",
       "3                     J.R.R. Tolkien    4.240964           166\n",
       "4           Roald Dahl/Quentin Blake    4.209677            62"
      ]
     },
     "metadata": {},
     "output_type": "display_data"
    }
   ],
   "source": [
    "author_rating=pd.io.sql.read_sql(query8, con = engine)\n",
    "display(author_rating.head())"
   ]
  },
  {
   "cell_type": "markdown",
   "metadata": {},
   "source": [
    "<div class=\"alert alert-info\">\n",
    "Автор с самой высокой средней оценкой книг - J.K. Rowling/Mary GrandPré. средний рейтинг составил 4,3. Такую популярность автору принесли книги о Гарри Поттере."
   ]
  },
  {
   "cell_type": "markdown",
   "metadata": {},
   "source": [
    "## Cреднее количество обзоров от пользователей, которые поставили больше 50 оценок."
   ]
  },
  {
   "cell_type": "code",
   "execution_count": 19,
   "metadata": {},
   "outputs": [],
   "source": [
    "query9 = '''SELECT AVG(review__count) AS review__avg\n",
    "            FROM (SELECT username, COUNT(review_id) AS review__count\n",
    "                  FROM reviews\n",
    "                  WHERE username IN (SELECT DISTINCT username\n",
    "                                    FROM ratings  \n",
    "                                    GROUP BY username\n",
    "                                    HAVING COUNT(rating_id) >50)\n",
    "                  GROUP BY username)A\n",
    "         \n",
    "                     \n",
    "                   '''\n"
   ]
  },
  {
   "cell_type": "code",
   "execution_count": 20,
   "metadata": {},
   "outputs": [
    {
     "data": {
      "text/html": [
       "<div>\n",
       "<style scoped>\n",
       "    .dataframe tbody tr th:only-of-type {\n",
       "        vertical-align: middle;\n",
       "    }\n",
       "\n",
       "    .dataframe tbody tr th {\n",
       "        vertical-align: top;\n",
       "    }\n",
       "\n",
       "    .dataframe thead th {\n",
       "        text-align: right;\n",
       "    }\n",
       "</style>\n",
       "<table border=\"1\" class=\"dataframe\">\n",
       "  <thead>\n",
       "    <tr style=\"text-align: right;\">\n",
       "      <th></th>\n",
       "      <th>review__avg</th>\n",
       "    </tr>\n",
       "  </thead>\n",
       "  <tbody>\n",
       "    <tr>\n",
       "      <td>0</td>\n",
       "      <td>24.333333</td>\n",
       "    </tr>\n",
       "  </tbody>\n",
       "</table>\n",
       "</div>"
      ],
      "text/plain": [
       "   review__avg\n",
       "0    24.333333"
      ]
     },
     "metadata": {},
     "output_type": "display_data"
    }
   ],
   "source": [
    "review__avg=pd.io.sql.read_sql(query9, con = engine)\n",
    "display(review__avg.head())"
   ]
  },
  {
   "cell_type": "markdown",
   "metadata": {},
   "source": [
    "<div class=\"alert alert-info\">\n",
    "Самые активные пользователи в среднем оставили 24 обзора на книги. "
   ]
  },
  {
   "cell_type": "markdown",
   "metadata": {},
   "source": [
    "<div class=\"alert alert-info\">\n",
    "\n",
    "**ВЫВОДЫ**\n",
    "    \n",
    "В результате анализа базы данных крупного сервиса для чтения книг по подписке были получены следующие данные: \n",
    "- База данных содержит 819 книг, вышедших после 1 января 2000 года.\n",
    "- Наибольшее количество обзоров на книгу Сумерки/Twilight- популярный романов американской писательницы Стефани Майер.\n",
    "- Автор с самой высокой средней оценкой книг - J.K. Rowling/Mary GrandPré. средний рейтинг составил 4,3. Такую популярность автору принесли книги о Гарри Поттере.\n",
    "- Наибольшее количество книг, c количеством страниц более 50 выпустило британское издательство Penguin Books.\n",
    "- Самые активные пользователи в среднем оставили 24 обзора на книги. "
   ]
  }
 ],
 "metadata": {
  "ExecuteTimeLog": [
   {
    "duration": 902,
    "start_time": "2021-08-22T09:26:41.835Z"
   },
   {
    "duration": 4,
    "start_time": "2021-08-22T09:26:49.405Z"
   },
   {
    "duration": 6,
    "start_time": "2021-08-22T09:26:49.412Z"
   },
   {
    "duration": 4,
    "start_time": "2021-08-22T09:26:49.422Z"
   },
   {
    "duration": 5,
    "start_time": "2021-08-22T09:26:49.429Z"
   },
   {
    "duration": 458,
    "start_time": "2021-08-22T09:26:49.437Z"
   },
   {
    "duration": 22,
    "start_time": "2021-08-22T09:26:49.897Z"
   },
   {
    "duration": 8,
    "start_time": "2021-08-22T09:26:49.921Z"
   },
   {
    "duration": 13,
    "start_time": "2021-08-22T09:26:49.932Z"
   },
   {
    "duration": 10,
    "start_time": "2021-08-22T09:26:49.963Z"
   },
   {
    "duration": 4,
    "start_time": "2021-08-22T09:26:49.977Z"
   },
   {
    "duration": 69,
    "start_time": "2021-08-22T09:26:49.984Z"
   },
   {
    "duration": 4,
    "start_time": "2021-08-22T09:26:50.056Z"
   },
   {
    "duration": 82,
    "start_time": "2021-08-22T09:26:50.063Z"
   },
   {
    "duration": 4,
    "start_time": "2021-08-22T09:26:50.148Z"
   },
   {
    "duration": 68,
    "start_time": "2021-08-22T09:26:50.155Z"
   },
   {
    "duration": 12,
    "start_time": "2021-08-22T09:26:50.225Z"
   },
   {
    "duration": 77,
    "start_time": "2021-08-22T09:26:50.239Z"
   },
   {
    "duration": 3,
    "start_time": "2021-08-22T09:26:50.318Z"
   },
   {
    "duration": 78,
    "start_time": "2021-08-22T09:26:50.323Z"
   },
   {
    "duration": 3,
    "start_time": "2021-08-22T09:28:01.538Z"
   },
   {
    "duration": 64,
    "start_time": "2021-08-22T09:28:05.525Z"
   },
   {
    "duration": 3,
    "start_time": "2021-08-22T09:28:30.848Z"
   },
   {
    "duration": 62,
    "start_time": "2021-08-22T09:28:31.837Z"
   },
   {
    "duration": 3,
    "start_time": "2021-08-22T09:29:01.256Z"
   },
   {
    "duration": 64,
    "start_time": "2021-08-22T09:29:02.490Z"
   },
   {
    "duration": 978,
    "start_time": "2021-08-22T09:31:43.260Z"
   },
   {
    "duration": 4,
    "start_time": "2021-08-22T09:33:39.401Z"
   },
   {
    "duration": 72,
    "start_time": "2021-08-22T09:33:41.333Z"
   },
   {
    "duration": 4,
    "start_time": "2021-08-22T09:33:44.886Z"
   },
   {
    "duration": 69,
    "start_time": "2021-08-22T09:33:45.142Z"
   },
   {
    "duration": 860,
    "start_time": "2021-08-22T10:15:31.955Z"
   },
   {
    "duration": 4,
    "start_time": "2021-08-22T10:15:32.818Z"
   },
   {
    "duration": 9,
    "start_time": "2021-08-22T10:15:32.824Z"
   },
   {
    "duration": 5,
    "start_time": "2021-08-22T10:15:32.836Z"
   },
   {
    "duration": 7,
    "start_time": "2021-08-22T10:15:32.843Z"
   },
   {
    "duration": 413,
    "start_time": "2021-08-22T10:15:32.852Z"
   },
   {
    "duration": 20,
    "start_time": "2021-08-22T10:15:33.267Z"
   },
   {
    "duration": 9,
    "start_time": "2021-08-22T10:15:33.291Z"
   },
   {
    "duration": 11,
    "start_time": "2021-08-22T10:15:33.303Z"
   },
   {
    "duration": 11,
    "start_time": "2021-08-22T10:15:33.317Z"
   },
   {
    "duration": 4,
    "start_time": "2021-08-22T10:15:33.330Z"
   },
   {
    "duration": 45,
    "start_time": "2021-08-22T10:15:33.337Z"
   },
   {
    "duration": 74,
    "start_time": "2021-08-22T10:15:33.385Z"
   },
   {
    "duration": 3,
    "start_time": "2021-08-22T10:15:33.462Z"
   },
   {
    "duration": 64,
    "start_time": "2021-08-22T10:15:33.467Z"
   },
   {
    "duration": 3,
    "start_time": "2021-08-22T10:15:33.533Z"
   },
   {
    "duration": 73,
    "start_time": "2021-08-22T10:15:33.538Z"
   },
   {
    "duration": 3,
    "start_time": "2021-08-22T10:15:33.613Z"
   },
   {
    "duration": 74,
    "start_time": "2021-08-22T10:15:33.619Z"
   },
   {
    "duration": 4,
    "start_time": "2021-08-22T10:15:46.004Z"
   },
   {
    "duration": 4,
    "start_time": "2021-08-22T10:15:54.288Z"
   },
   {
    "duration": 56,
    "start_time": "2021-08-22T10:16:52.901Z"
   },
   {
    "duration": 60,
    "start_time": "2021-08-22T10:17:06.828Z"
   },
   {
    "duration": 4,
    "start_time": "2021-08-22T10:21:16.646Z"
   },
   {
    "duration": 57,
    "start_time": "2021-08-22T10:21:19.638Z"
   },
   {
    "duration": 3,
    "start_time": "2021-08-22T10:31:28.300Z"
   },
   {
    "duration": 515,
    "start_time": "2021-08-22T10:31:29.245Z"
   },
   {
    "duration": 4,
    "start_time": "2021-08-22T10:36:47.618Z"
   },
   {
    "duration": 390,
    "start_time": "2021-08-22T10:36:50.543Z"
   },
   {
    "duration": 3,
    "start_time": "2021-08-22T10:37:51.328Z"
   },
   {
    "duration": 435,
    "start_time": "2021-08-22T10:37:53.554Z"
   },
   {
    "duration": 3,
    "start_time": "2021-08-22T10:38:26.024Z"
   },
   {
    "duration": 425,
    "start_time": "2021-08-22T10:38:27.378Z"
   },
   {
    "duration": 4,
    "start_time": "2021-08-22T10:39:21.046Z"
   },
   {
    "duration": 467,
    "start_time": "2021-08-22T10:39:21.905Z"
   },
   {
    "duration": 4,
    "start_time": "2021-08-22T10:40:00.782Z"
   },
   {
    "duration": 85,
    "start_time": "2021-08-22T10:40:01.897Z"
   },
   {
    "duration": 124,
    "start_time": "2021-08-22T10:40:44.744Z"
   },
   {
    "duration": 121,
    "start_time": "2021-08-22T10:41:40.951Z"
   },
   {
    "duration": 115,
    "start_time": "2021-08-22T10:42:47.287Z"
   },
   {
    "duration": 4,
    "start_time": "2021-08-22T10:43:05.049Z"
   },
   {
    "duration": 4,
    "start_time": "2021-08-22T10:43:47.873Z"
   },
   {
    "duration": 4,
    "start_time": "2021-08-22T10:44:01.540Z"
   },
   {
    "duration": 83,
    "start_time": "2021-08-22T10:44:02.616Z"
   },
   {
    "duration": 4,
    "start_time": "2021-08-22T10:45:05.851Z"
   },
   {
    "duration": 467,
    "start_time": "2021-08-22T10:45:07.125Z"
   },
   {
    "duration": 99,
    "start_time": "2021-08-22T10:46:50.601Z"
   },
   {
    "duration": 74,
    "start_time": "2021-08-22T10:47:03.394Z"
   },
   {
    "duration": 3,
    "start_time": "2021-08-22T10:47:51.520Z"
   },
   {
    "duration": 83,
    "start_time": "2021-08-22T10:47:55.048Z"
   },
   {
    "duration": 4,
    "start_time": "2021-08-22T10:48:48.914Z"
   },
   {
    "duration": 82,
    "start_time": "2021-08-22T10:48:49.595Z"
   },
   {
    "duration": 3,
    "start_time": "2021-08-22T10:48:56.721Z"
   },
   {
    "duration": 82,
    "start_time": "2021-08-22T10:48:57.908Z"
   },
   {
    "duration": 4,
    "start_time": "2021-08-22T10:49:52.671Z"
   },
   {
    "duration": 82,
    "start_time": "2021-08-22T10:49:53.733Z"
   },
   {
    "duration": 3,
    "start_time": "2021-08-22T10:50:37.010Z"
   },
   {
    "duration": 84,
    "start_time": "2021-08-22T10:50:37.947Z"
   },
   {
    "duration": 4,
    "start_time": "2021-08-22T10:50:56.636Z"
   },
   {
    "duration": 82,
    "start_time": "2021-08-22T10:50:57.361Z"
   },
   {
    "duration": 3,
    "start_time": "2021-08-22T10:51:15.297Z"
   },
   {
    "duration": 82,
    "start_time": "2021-08-22T10:51:16.074Z"
   },
   {
    "duration": 4,
    "start_time": "2021-08-22T10:51:29.584Z"
   },
   {
    "duration": 87,
    "start_time": "2021-08-22T10:51:32.997Z"
   },
   {
    "duration": 3,
    "start_time": "2021-08-22T10:52:38.611Z"
   },
   {
    "duration": 84,
    "start_time": "2021-08-22T10:52:39.476Z"
   },
   {
    "duration": 85,
    "start_time": "2021-08-22T10:53:29.584Z"
   },
   {
    "duration": 3,
    "start_time": "2021-08-22T10:53:39.101Z"
   },
   {
    "duration": 84,
    "start_time": "2021-08-22T10:53:40.471Z"
   },
   {
    "duration": 4,
    "start_time": "2021-08-22T10:54:46.051Z"
   },
   {
    "duration": 84,
    "start_time": "2021-08-22T10:54:46.397Z"
   },
   {
    "duration": 83,
    "start_time": "2021-08-22T10:55:49.135Z"
   },
   {
    "duration": 728,
    "start_time": "2021-08-22T10:56:10.956Z"
   },
   {
    "duration": 85,
    "start_time": "2021-08-22T10:56:20.922Z"
   },
   {
    "duration": 87,
    "start_time": "2021-08-22T10:56:41.549Z"
   },
   {
    "duration": 85,
    "start_time": "2021-08-22T10:56:50.964Z"
   },
   {
    "duration": 4,
    "start_time": "2021-08-22T11:18:37.931Z"
   },
   {
    "duration": 426,
    "start_time": "2021-08-22T11:18:38.948Z"
   },
   {
    "duration": 3,
    "start_time": "2021-08-22T11:18:52.310Z"
   },
   {
    "duration": 418,
    "start_time": "2021-08-22T11:18:53.295Z"
   },
   {
    "duration": 3,
    "start_time": "2021-08-22T11:19:22.894Z"
   },
   {
    "duration": 435,
    "start_time": "2021-08-22T11:19:23.857Z"
   },
   {
    "duration": 3,
    "start_time": "2021-08-22T11:21:13.141Z"
   },
   {
    "duration": 535,
    "start_time": "2021-08-22T11:21:13.873Z"
   },
   {
    "duration": 3,
    "start_time": "2021-08-22T11:22:04.852Z"
   },
   {
    "duration": 3,
    "start_time": "2021-08-22T11:22:28.304Z"
   },
   {
    "duration": 441,
    "start_time": "2021-08-22T11:22:28.986Z"
   },
   {
    "duration": 3,
    "start_time": "2021-08-22T11:23:22.791Z"
   },
   {
    "duration": 62,
    "start_time": "2021-08-22T11:23:23.445Z"
   },
   {
    "duration": 60,
    "start_time": "2021-08-22T11:23:39.498Z"
   },
   {
    "duration": 4,
    "start_time": "2021-08-22T11:27:06.237Z"
   },
   {
    "duration": 3,
    "start_time": "2021-08-22T11:27:06.775Z"
   },
   {
    "duration": 401,
    "start_time": "2021-08-22T11:27:07.714Z"
   },
   {
    "duration": 415,
    "start_time": "2021-08-22T11:27:15.905Z"
   },
   {
    "duration": 4,
    "start_time": "2021-08-22T11:29:17.395Z"
   },
   {
    "duration": 60,
    "start_time": "2021-08-22T11:29:18.114Z"
   },
   {
    "duration": 3,
    "start_time": "2021-08-22T11:30:34.352Z"
   },
   {
    "duration": 60,
    "start_time": "2021-08-22T11:30:35.172Z"
   },
   {
    "duration": 3,
    "start_time": "2021-08-22T11:31:09.230Z"
   },
   {
    "duration": 625,
    "start_time": "2021-08-22T11:31:09.758Z"
   },
   {
    "duration": 3,
    "start_time": "2021-08-22T11:33:35.418Z"
   },
   {
    "duration": 444,
    "start_time": "2021-08-22T11:33:36.271Z"
   },
   {
    "duration": 3,
    "start_time": "2021-08-22T11:33:55.082Z"
   },
   {
    "duration": 413,
    "start_time": "2021-08-22T11:33:55.765Z"
   },
   {
    "duration": 4,
    "start_time": "2021-08-22T11:35:08.643Z"
   },
   {
    "duration": 60,
    "start_time": "2021-08-22T11:35:09.442Z"
   },
   {
    "duration": 4,
    "start_time": "2021-08-22T11:35:33.239Z"
   },
   {
    "duration": 412,
    "start_time": "2021-08-22T11:35:34.059Z"
   },
   {
    "duration": 3,
    "start_time": "2021-08-22T11:37:09.748Z"
   },
   {
    "duration": 427,
    "start_time": "2021-08-22T11:37:10.354Z"
   },
   {
    "duration": 3,
    "start_time": "2021-08-22T11:37:45.435Z"
   },
   {
    "duration": 420,
    "start_time": "2021-08-22T11:37:45.991Z"
   },
   {
    "duration": 3,
    "start_time": "2021-08-22T11:38:44.258Z"
   },
   {
    "duration": 411,
    "start_time": "2021-08-22T11:38:44.689Z"
   },
   {
    "duration": 3,
    "start_time": "2021-08-22T11:38:52.183Z"
   },
   {
    "duration": 398,
    "start_time": "2021-08-22T11:38:52.919Z"
   },
   {
    "duration": 3,
    "start_time": "2021-08-22T11:40:37.575Z"
   },
   {
    "duration": 61,
    "start_time": "2021-08-22T11:40:38.281Z"
   },
   {
    "duration": 3,
    "start_time": "2021-08-22T11:40:58.499Z"
   },
   {
    "duration": 3,
    "start_time": "2021-08-22T11:40:59.580Z"
   },
   {
    "duration": 420,
    "start_time": "2021-08-22T11:41:04.033Z"
   },
   {
    "duration": 4,
    "start_time": "2021-08-22T11:42:10.402Z"
   },
   {
    "duration": 3,
    "start_time": "2021-08-22T11:42:13.502Z"
   },
   {
    "duration": 385,
    "start_time": "2021-08-22T11:42:15.031Z"
   },
   {
    "duration": 4,
    "start_time": "2021-08-22T11:42:29.476Z"
   },
   {
    "duration": 62,
    "start_time": "2021-08-22T11:42:34.347Z"
   },
   {
    "duration": 3,
    "start_time": "2021-08-22T11:45:36.803Z"
   },
   {
    "duration": 61,
    "start_time": "2021-08-22T11:45:37.826Z"
   },
   {
    "duration": 4,
    "start_time": "2021-08-22T11:46:16.432Z"
   },
   {
    "duration": 4,
    "start_time": "2021-08-22T11:46:17.116Z"
   },
   {
    "duration": 385,
    "start_time": "2021-08-22T11:46:31.821Z"
   },
   {
    "duration": 3,
    "start_time": "2021-08-22T11:46:38.048Z"
   },
   {
    "duration": 374,
    "start_time": "2021-08-22T11:46:38.663Z"
   },
   {
    "duration": 4,
    "start_time": "2021-08-22T11:46:59.090Z"
   },
   {
    "duration": 60,
    "start_time": "2021-08-22T11:46:59.866Z"
   },
   {
    "duration": 830,
    "start_time": "2021-08-22T12:04:21.986Z"
   },
   {
    "duration": 3,
    "start_time": "2021-08-22T12:04:22.819Z"
   },
   {
    "duration": 7,
    "start_time": "2021-08-22T12:04:22.825Z"
   },
   {
    "duration": 8,
    "start_time": "2021-08-22T12:04:22.835Z"
   },
   {
    "duration": 9,
    "start_time": "2021-08-22T12:04:22.845Z"
   },
   {
    "duration": 391,
    "start_time": "2021-08-22T12:04:22.856Z"
   },
   {
    "duration": 20,
    "start_time": "2021-08-22T12:04:23.249Z"
   },
   {
    "duration": 11,
    "start_time": "2021-08-22T12:04:23.274Z"
   },
   {
    "duration": 29,
    "start_time": "2021-08-22T12:04:23.288Z"
   },
   {
    "duration": 14,
    "start_time": "2021-08-22T12:04:23.319Z"
   },
   {
    "duration": 21,
    "start_time": "2021-08-22T12:04:23.335Z"
   },
   {
    "duration": 57,
    "start_time": "2021-08-22T12:04:23.358Z"
   },
   {
    "duration": 3,
    "start_time": "2021-08-22T12:04:23.417Z"
   },
   {
    "duration": 68,
    "start_time": "2021-08-22T12:04:23.423Z"
   },
   {
    "duration": 3,
    "start_time": "2021-08-22T12:04:23.494Z"
   },
   {
    "duration": 60,
    "start_time": "2021-08-22T12:04:23.500Z"
   },
   {
    "duration": 3,
    "start_time": "2021-08-22T12:04:23.563Z"
   },
   {
    "duration": 68,
    "start_time": "2021-08-22T12:04:23.569Z"
   },
   {
    "duration": 3,
    "start_time": "2021-08-22T12:04:23.640Z"
   },
   {
    "duration": 62,
    "start_time": "2021-08-22T12:04:23.646Z"
   },
   {
    "duration": 839,
    "start_time": "2021-08-22T12:05:43.014Z"
   },
   {
    "duration": 4,
    "start_time": "2021-08-22T12:05:43.856Z"
   },
   {
    "duration": 19,
    "start_time": "2021-08-22T12:05:43.864Z"
   },
   {
    "duration": 7,
    "start_time": "2021-08-22T12:05:43.886Z"
   },
   {
    "duration": 6,
    "start_time": "2021-08-22T12:05:43.895Z"
   },
   {
    "duration": 414,
    "start_time": "2021-08-22T12:05:43.903Z"
   },
   {
    "duration": 24,
    "start_time": "2021-08-22T12:05:44.319Z"
   },
   {
    "duration": 9,
    "start_time": "2021-08-22T12:05:44.348Z"
   },
   {
    "duration": 13,
    "start_time": "2021-08-22T12:05:44.360Z"
   },
   {
    "duration": 11,
    "start_time": "2021-08-22T12:05:44.384Z"
   },
   {
    "duration": 4,
    "start_time": "2021-08-22T12:05:44.398Z"
   },
   {
    "duration": 61,
    "start_time": "2021-08-22T12:05:44.405Z"
   },
   {
    "duration": 3,
    "start_time": "2021-08-22T12:05:44.468Z"
   },
   {
    "duration": 71,
    "start_time": "2021-08-22T12:05:44.474Z"
   },
   {
    "duration": 3,
    "start_time": "2021-08-22T12:05:44.547Z"
   },
   {
    "duration": 67,
    "start_time": "2021-08-22T12:05:44.552Z"
   },
   {
    "duration": 4,
    "start_time": "2021-08-22T12:05:44.622Z"
   },
   {
    "duration": 67,
    "start_time": "2021-08-22T12:05:44.629Z"
   },
   {
    "duration": 4,
    "start_time": "2021-08-22T12:05:44.699Z"
   },
   {
    "duration": 65,
    "start_time": "2021-08-22T12:05:44.706Z"
   }
  ],
  "kernelspec": {
   "display_name": "Python 3",
   "language": "python",
   "name": "python3"
  },
  "language_info": {
   "codemirror_mode": {
    "name": "ipython",
    "version": 3
   },
   "file_extension": ".py",
   "mimetype": "text/x-python",
   "name": "python",
   "nbconvert_exporter": "python",
   "pygments_lexer": "ipython3",
   "version": "3.7.8"
  },
  "toc": {
   "base_numbering": 1,
   "nav_menu": {},
   "number_sections": true,
   "sideBar": true,
   "skip_h1_title": true,
   "title_cell": "Table of Contents",
   "title_sidebar": "Contents",
   "toc_cell": false,
   "toc_position": {},
   "toc_section_display": true,
   "toc_window_display": false
  }
 },
 "nbformat": 4,
 "nbformat_minor": 5
}
