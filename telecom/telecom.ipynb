{
 "cells": [
  {
   "cell_type": "markdown",
   "metadata": {},
   "source": [
    "# Телеком — Определение неэффективных операторов."
   ]
  },
  {
   "cell_type": "markdown",
   "metadata": {},
   "source": [
    "**Задача проекта** найти самых неэффективных операторов провайдера виртуальный телефонии «Нупозвони». \n",
    "\n",
    "Признаки низкой эффективности:\n",
    "- много пропущенных входящих вызовов,\n",
    "- долгое ожидания ответа при входящих внешних вызовах,\n",
    "- мало исходящих вывозов — в случае тех колл-центров, что специализируются на обзвонах, а не обработке входящих звонков."
   ]
  },
  {
   "cell_type": "markdown",
   "metadata": {},
   "source": [
    "**Описание данных:**\n",
    "\n",
    "Датасеты описывают использование услуг «Нупозвони» — провайдера виртуальный телефонии. Его клиенты — колл-центры, которые:\n",
    "- распределяют входящие вызовы на операторов,\n",
    "- совершают исходящие вызовы силами операторов.\n",
    "\n",
    "Также операторы могут делать внутренние вызовы —  вызовы друг между другом внутри сети виртуальной телефонии.\n",
    "\n",
    "Колонки в `telecom_dataset.csv`:\n",
    "\n",
    "- `user_id` — Идентификатор клиентского аккаунта в сервисе\n",
    "- `date` — Дата статистики\n",
    "- `direction` — Направление вызовов (out - исходящий вызов, in — входящий вызов)\n",
    "- `internal` — Является ли звонок внутренним звонком между операторами клиента\n",
    "- `operator_id` — Идентификатор оператора\n",
    "- `is_missed_call` — Является ли звонок пропущенным\n",
    "- `calls_count` — Количество звонков\n",
    "- `call_duration` — Длительность звонка (без учета времени ожидания)\n",
    "- `total_call_duration` — Длительность звонка (с учетом времени ожидания)\n",
    "\n",
    "Колонки в `telecom_clients.csv`:\n",
    "\n",
    "- `user_id` — Идентификатор клиентского аккаунта в сервисе\n",
    "- `tariff_plan` — Текущий тарифный план клиента\n",
    "- `date_start` — Дата регистрации клиентв в сервисе"
   ]
  },
  {
   "cell_type": "code",
   "execution_count": 1,
   "metadata": {},
   "outputs": [],
   "source": [
    "import pandas as pd\n",
    "import datetime as dt\n",
    "from datetime import date\n",
    "import numpy as np\n",
    "import matplotlib.pyplot as plt\n",
    "import seaborn as sns\n",
    "plt.style.use('seaborn-whitegrid')# единый стиль графиков\n",
    "sns.set_palette('muted')\n",
    "sns.set_style(\"white\") \n",
    "\n",
    "from scipy import stats as st\n",
    "import math as mth\n",
    "\n",
    "from pandas.plotting import register_matplotlib_converters\n",
    "register_matplotlib_converters()\n",
    "\n"
   ]
  },
  {
   "cell_type": "markdown",
   "metadata": {},
   "source": [
    "## Изучение общей информации. Подготовка данных."
   ]
  },
  {
   "cell_type": "code",
   "execution_count": 2,
   "metadata": {
    "scrolled": true
   },
   "outputs": [
    {
     "name": "stdout",
     "output_type": "stream",
     "text": [
      "<class 'pandas.core.frame.DataFrame'>\n",
      "RangeIndex: 53902 entries, 0 to 53901\n",
      "Data columns (total 9 columns):\n",
      "user_id                53902 non-null int64\n",
      "date                   53902 non-null object\n",
      "direction              53902 non-null object\n",
      "internal               53785 non-null object\n",
      "operator_id            45730 non-null float64\n",
      "is_missed_call         53902 non-null bool\n",
      "calls_count            53902 non-null int64\n",
      "call_duration          53902 non-null int64\n",
      "total_call_duration    53902 non-null int64\n",
      "dtypes: bool(1), float64(1), int64(4), object(3)\n",
      "memory usage: 3.3+ MB\n",
      "None\n"
     ]
    }
   ],
   "source": [
    "df = pd.read_csv('/datasets/telecom_dataset.csv',sep =',')#данные об услугах\n",
    "print(df.info())# общая информация о датасете"
   ]
  },
  {
   "cell_type": "code",
   "execution_count": 3,
   "metadata": {},
   "outputs": [
    {
     "name": "stdout",
     "output_type": "stream",
     "text": [
      "<class 'pandas.core.frame.DataFrame'>\n",
      "RangeIndex: 53902 entries, 0 to 53901\n",
      "Data columns (total 9 columns):\n",
      "user_id                53902 non-null int64\n",
      "date                   53902 non-null object\n",
      "direction              53902 non-null object\n",
      "internal               53785 non-null object\n",
      "operator_id            45730 non-null float64\n",
      "is_missed_call         53902 non-null bool\n",
      "calls_count            53902 non-null int64\n",
      "call_duration          53902 non-null int64\n",
      "total_call_duration    53902 non-null int64\n",
      "dtypes: bool(1), float64(1), int64(4), object(3)\n",
      "memory usage: 3.3+ MB\n",
      "None\n"
     ]
    }
   ],
   "source": [
    "df = pd.read_csv('/datasets/telecom_dataset.csv',sep =',')#данные об услугах\n",
    "print(df.info())# общая информация о датасете"
   ]
  },
  {
   "cell_type": "code",
   "execution_count": 4,
   "metadata": {},
   "outputs": [],
   "source": [
    "df['date']=pd.to_datetime(df['date'])#изменение типа данных в столбце,содержащем дату\n",
    "df['weekday'] = df['date'].dt.day_name()# добавлен день недели\n",
    "df['date'] = df['date'].dt.date # изменен формат даты\n",
    "df.operator_id = df.operator_id.fillna(0)# замена пустых значений по столбцу на 0\n",
    "df['operator_id']=df.operator_id.astype('int64')#замена типа данных на целочисленный\n"
   ]
  },
  {
   "cell_type": "code",
   "execution_count": 5,
   "metadata": {},
   "outputs": [
    {
     "name": "stdout",
     "output_type": "stream",
     "text": [
      "Количество строк дубликатов: 4900\n"
     ]
    }
   ],
   "source": [
    "duplicated =df.duplicated().sum()\n",
    "print('Количество строк дубликатов:',duplicated) #определяем количество строк дубликатов\n",
    "df.drop_duplicates(keep=False, inplace=True)# удаление дубликатов"
   ]
  },
  {
   "cell_type": "code",
   "execution_count": 6,
   "metadata": {},
   "outputs": [
    {
     "name": "stdout",
     "output_type": "stream",
     "text": [
      "<class 'pandas.core.frame.DataFrame'>\n",
      "Int64Index: 44102 entries, 0 to 53901\n",
      "Data columns (total 10 columns):\n",
      "user_id                44102 non-null int64\n",
      "date                   44102 non-null object\n",
      "direction              44102 non-null object\n",
      "internal               43999 non-null object\n",
      "operator_id            44102 non-null int64\n",
      "is_missed_call         44102 non-null bool\n",
      "calls_count            44102 non-null int64\n",
      "call_duration          44102 non-null int64\n",
      "total_call_duration    44102 non-null int64\n",
      "weekday                44102 non-null object\n",
      "dtypes: bool(1), int64(5), object(4)\n",
      "memory usage: 3.4+ MB\n",
      "None\n",
      "\n",
      "user_id                0.000000\n",
      "date                   0.000000\n",
      "direction              0.000000\n",
      "internal               0.233549\n",
      "operator_id            0.000000\n",
      "is_missed_call         0.000000\n",
      "calls_count            0.000000\n",
      "call_duration          0.000000\n",
      "total_call_duration    0.000000\n",
      "weekday                0.000000\n",
      "dtype: float64\n"
     ]
    }
   ],
   "source": [
    "print(df.info())\n",
    "print()\n",
    "print(df.isnull().sum()*100/len(df)) #процент пропусков по колонкам\n"
   ]
  },
  {
   "cell_type": "code",
   "execution_count": 7,
   "metadata": {
    "scrolled": true
   },
   "outputs": [
    {
     "data": {
      "text/html": [
       "<div>\n",
       "<style scoped>\n",
       "    .dataframe tbody tr th:only-of-type {\n",
       "        vertical-align: middle;\n",
       "    }\n",
       "\n",
       "    .dataframe tbody tr th {\n",
       "        vertical-align: top;\n",
       "    }\n",
       "\n",
       "    .dataframe thead th {\n",
       "        text-align: right;\n",
       "    }\n",
       "</style>\n",
       "<table border=\"1\" class=\"dataframe\">\n",
       "  <thead>\n",
       "    <tr style=\"text-align: right;\">\n",
       "      <th></th>\n",
       "      <th>index</th>\n",
       "      <th>0</th>\n",
       "    </tr>\n",
       "  </thead>\n",
       "  <tbody>\n",
       "    <tr>\n",
       "      <td>0</td>\n",
       "      <td>user_id</td>\n",
       "      <td>0.000000</td>\n",
       "    </tr>\n",
       "    <tr>\n",
       "      <td>1</td>\n",
       "      <td>date</td>\n",
       "      <td>0.000000</td>\n",
       "    </tr>\n",
       "    <tr>\n",
       "      <td>2</td>\n",
       "      <td>direction</td>\n",
       "      <td>0.000000</td>\n",
       "    </tr>\n",
       "    <tr>\n",
       "      <td>3</td>\n",
       "      <td>internal</td>\n",
       "      <td>0.002335</td>\n",
       "    </tr>\n",
       "    <tr>\n",
       "      <td>4</td>\n",
       "      <td>operator_id</td>\n",
       "      <td>0.000000</td>\n",
       "    </tr>\n",
       "    <tr>\n",
       "      <td>5</td>\n",
       "      <td>is_missed_call</td>\n",
       "      <td>0.000000</td>\n",
       "    </tr>\n",
       "    <tr>\n",
       "      <td>6</td>\n",
       "      <td>calls_count</td>\n",
       "      <td>0.000000</td>\n",
       "    </tr>\n",
       "    <tr>\n",
       "      <td>7</td>\n",
       "      <td>call_duration</td>\n",
       "      <td>0.000000</td>\n",
       "    </tr>\n",
       "    <tr>\n",
       "      <td>8</td>\n",
       "      <td>total_call_duration</td>\n",
       "      <td>0.000000</td>\n",
       "    </tr>\n",
       "    <tr>\n",
       "      <td>9</td>\n",
       "      <td>weekday</td>\n",
       "      <td>0.000000</td>\n",
       "    </tr>\n",
       "  </tbody>\n",
       "</table>\n",
       "</div>"
      ],
      "text/plain": [
       "                 index         0\n",
       "0              user_id  0.000000\n",
       "1                 date  0.000000\n",
       "2            direction  0.000000\n",
       "3             internal  0.002335\n",
       "4          operator_id  0.000000\n",
       "5       is_missed_call  0.000000\n",
       "6          calls_count  0.000000\n",
       "7        call_duration  0.000000\n",
       "8  total_call_duration  0.000000\n",
       "9              weekday  0.000000"
      ]
     },
     "execution_count": 7,
     "metadata": {},
     "output_type": "execute_result"
    }
   ],
   "source": [
    "df.isna().mean().reset_index()"
   ]
  },
  {
   "cell_type": "code",
   "execution_count": 8,
   "metadata": {},
   "outputs": [
    {
     "data": {
      "text/html": [
       "<div>\n",
       "<style scoped>\n",
       "    .dataframe tbody tr th:only-of-type {\n",
       "        vertical-align: middle;\n",
       "    }\n",
       "\n",
       "    .dataframe tbody tr th {\n",
       "        vertical-align: top;\n",
       "    }\n",
       "\n",
       "    .dataframe thead th {\n",
       "        text-align: right;\n",
       "    }\n",
       "</style>\n",
       "<table border=\"1\" class=\"dataframe\">\n",
       "  <thead>\n",
       "    <tr style=\"text-align: right;\">\n",
       "      <th></th>\n",
       "      <th>user_id</th>\n",
       "      <th>date</th>\n",
       "      <th>direction</th>\n",
       "      <th>internal</th>\n",
       "      <th>operator_id</th>\n",
       "      <th>is_missed_call</th>\n",
       "      <th>calls_count</th>\n",
       "      <th>call_duration</th>\n",
       "      <th>total_call_duration</th>\n",
       "      <th>weekday</th>\n",
       "      <th>waiting</th>\n",
       "      <th>duration_mean</th>\n",
       "    </tr>\n",
       "  </thead>\n",
       "  <tbody>\n",
       "    <tr>\n",
       "      <td>0</td>\n",
       "      <td>166377</td>\n",
       "      <td>2019-08-04</td>\n",
       "      <td>in</td>\n",
       "      <td>False</td>\n",
       "      <td>0</td>\n",
       "      <td>True</td>\n",
       "      <td>2</td>\n",
       "      <td>0</td>\n",
       "      <td>4</td>\n",
       "      <td>Sunday</td>\n",
       "      <td>4</td>\n",
       "      <td>2</td>\n",
       "    </tr>\n",
       "    <tr>\n",
       "      <td>1</td>\n",
       "      <td>166377</td>\n",
       "      <td>2019-08-05</td>\n",
       "      <td>out</td>\n",
       "      <td>True</td>\n",
       "      <td>880022</td>\n",
       "      <td>True</td>\n",
       "      <td>3</td>\n",
       "      <td>0</td>\n",
       "      <td>5</td>\n",
       "      <td>Monday</td>\n",
       "      <td>5</td>\n",
       "      <td>1</td>\n",
       "    </tr>\n",
       "    <tr>\n",
       "      <td>2</td>\n",
       "      <td>166377</td>\n",
       "      <td>2019-08-05</td>\n",
       "      <td>out</td>\n",
       "      <td>True</td>\n",
       "      <td>880020</td>\n",
       "      <td>True</td>\n",
       "      <td>1</td>\n",
       "      <td>0</td>\n",
       "      <td>1</td>\n",
       "      <td>Monday</td>\n",
       "      <td>1</td>\n",
       "      <td>1</td>\n",
       "    </tr>\n",
       "    <tr>\n",
       "      <td>3</td>\n",
       "      <td>166377</td>\n",
       "      <td>2019-08-05</td>\n",
       "      <td>out</td>\n",
       "      <td>True</td>\n",
       "      <td>880020</td>\n",
       "      <td>False</td>\n",
       "      <td>1</td>\n",
       "      <td>10</td>\n",
       "      <td>18</td>\n",
       "      <td>Monday</td>\n",
       "      <td>8</td>\n",
       "      <td>18</td>\n",
       "    </tr>\n",
       "    <tr>\n",
       "      <td>4</td>\n",
       "      <td>166377</td>\n",
       "      <td>2019-08-05</td>\n",
       "      <td>out</td>\n",
       "      <td>False</td>\n",
       "      <td>880022</td>\n",
       "      <td>True</td>\n",
       "      <td>3</td>\n",
       "      <td>0</td>\n",
       "      <td>25</td>\n",
       "      <td>Monday</td>\n",
       "      <td>25</td>\n",
       "      <td>8</td>\n",
       "    </tr>\n",
       "  </tbody>\n",
       "</table>\n",
       "</div>"
      ],
      "text/plain": [
       "   user_id        date direction  internal  operator_id  is_missed_call  \\\n",
       "0   166377  2019-08-04        in     False            0            True   \n",
       "1   166377  2019-08-05       out      True       880022            True   \n",
       "2   166377  2019-08-05       out      True       880020            True   \n",
       "3   166377  2019-08-05       out      True       880020           False   \n",
       "4   166377  2019-08-05       out     False       880022            True   \n",
       "\n",
       "   calls_count  call_duration  total_call_duration weekday  waiting  \\\n",
       "0            2              0                    4  Sunday        4   \n",
       "1            3              0                    5  Monday        5   \n",
       "2            1              0                    1  Monday        1   \n",
       "3            1             10                   18  Monday        8   \n",
       "4            3              0                   25  Monday       25   \n",
       "\n",
       "   duration_mean  \n",
       "0              2  \n",
       "1              1  \n",
       "2              1  \n",
       "3             18  \n",
       "4              8  "
      ]
     },
     "execution_count": 8,
     "metadata": {},
     "output_type": "execute_result"
    }
   ],
   "source": [
    "df.internal = df.internal.astype('bool')#изменение типа данных \n",
    "df['waiting']=df['total_call_duration']-df['call_duration']#добавлен столбец со временем ожидания\n",
    "df['duration_mean']=df['total_call_duration']/df['calls_count']#добавлен столбец со средней продолжительностью звонка\n",
    "df.duration_mean = df.duration_mean.astype('int64')#изменение типа данных \n",
    "df.head(5)"
   ]
  },
  {
   "cell_type": "markdown",
   "metadata": {},
   "source": [
    "<div class=\"alert alert-info\">\n",
    "Изучены данные с информацией об услугах провайдера. Изменены типы данных в столбцах с данными даты и operator_id. Удалены дубликаты. Отсутствуют данные в 15% по полю идентификатор оператора (operator_id) и  0,2% данных по полю internal, указывающим является ли звонок внутренним звонком между операторами."
   ]
  },
  {
   "cell_type": "code",
   "execution_count": 9,
   "metadata": {},
   "outputs": [
    {
     "name": "stdout",
     "output_type": "stream",
     "text": [
      "<class 'pandas.core.frame.DataFrame'>\n",
      "RangeIndex: 732 entries, 0 to 731\n",
      "Data columns (total 3 columns):\n",
      "user_id        732 non-null int64\n",
      "tariff_plan    732 non-null object\n",
      "date_start     732 non-null object\n",
      "dtypes: int64(1), object(2)\n",
      "memory usage: 17.3+ KB\n",
      "None\n"
     ]
    }
   ],
   "source": [
    "df_clients = pd.read_csv('/datasets/telecom_clients.csv',sep =',')#данные о клиентах\n",
    "print(df_clients.info())# общая информация о датасете"
   ]
  },
  {
   "cell_type": "code",
   "execution_count": 10,
   "metadata": {},
   "outputs": [
    {
     "data": {
      "text/plain": [
       "0"
      ]
     },
     "execution_count": 10,
     "metadata": {},
     "output_type": "execute_result"
    }
   ],
   "source": [
    "duplicated_clients =df_clients.duplicated().sum()#определяем количество строк дубликатов\n",
    "duplicated_clients"
   ]
  },
  {
   "cell_type": "code",
   "execution_count": 11,
   "metadata": {},
   "outputs": [
    {
     "data": {
      "text/html": [
       "<div>\n",
       "<style scoped>\n",
       "    .dataframe tbody tr th:only-of-type {\n",
       "        vertical-align: middle;\n",
       "    }\n",
       "\n",
       "    .dataframe tbody tr th {\n",
       "        vertical-align: top;\n",
       "    }\n",
       "\n",
       "    .dataframe thead th {\n",
       "        text-align: right;\n",
       "    }\n",
       "</style>\n",
       "<table border=\"1\" class=\"dataframe\">\n",
       "  <thead>\n",
       "    <tr style=\"text-align: right;\">\n",
       "      <th></th>\n",
       "      <th>user_id</th>\n",
       "      <th>tariff_plan</th>\n",
       "      <th>date_start</th>\n",
       "    </tr>\n",
       "  </thead>\n",
       "  <tbody>\n",
       "    <tr>\n",
       "      <td>0</td>\n",
       "      <td>166713</td>\n",
       "      <td>A</td>\n",
       "      <td>2019-08-15</td>\n",
       "    </tr>\n",
       "    <tr>\n",
       "      <td>1</td>\n",
       "      <td>166901</td>\n",
       "      <td>A</td>\n",
       "      <td>2019-08-23</td>\n",
       "    </tr>\n",
       "  </tbody>\n",
       "</table>\n",
       "</div>"
      ],
      "text/plain": [
       "   user_id tariff_plan  date_start\n",
       "0   166713           A  2019-08-15\n",
       "1   166901           A  2019-08-23"
      ]
     },
     "execution_count": 11,
     "metadata": {},
     "output_type": "execute_result"
    }
   ],
   "source": [
    "df_clients.head(2)"
   ]
  },
  {
   "cell_type": "code",
   "execution_count": 12,
   "metadata": {},
   "outputs": [
    {
     "name": "stdout",
     "output_type": "stream",
     "text": [
      "Всего клиентов: 732\n",
      "\n",
      "Распределение клиентов по тарифам\n",
      "  tariff_plan  user_id       part\n",
      "0           A       76  10.382514\n",
      "1           B      261  35.655738\n",
      "2           C      395  53.961749\n"
     ]
    }
   ],
   "source": [
    "clients_tariffs_count=df_clients.pivot_table(index= ['tariff_plan'], values = ['user_id'],aggfunc='count').reset_index()\n",
    "clients_len=len(df_clients)\n",
    "print('Всего клиентов:', clients_len)\n",
    "clients_tariffs_count['part']=clients_tariffs_count['user_id']/clients_len*100 # добавление столбца с долей тарифа в общем числе клиентов\n",
    "print()\n",
    "print('Распределение клиентов по тарифам')\n",
    "print(clients_tariffs_count)#количество клиентов по тарифам"
   ]
  },
  {
   "cell_type": "markdown",
   "metadata": {},
   "source": [
    "<div class=\"alert alert-info\">\n",
    "Изучены данные о клиентах провайдера. Дубликатов и пропусков в данных нет. Всего 732 клиента на 3 тарифах, самый популярный тариф \"С\" - 54% клиентов, тариф \"В\" - 36%, \"А\" - 10%."
   ]
  },
  {
   "cell_type": "code",
   "execution_count": 13,
   "metadata": {},
   "outputs": [
    {
     "name": "stdout",
     "output_type": "stream",
     "text": [
      "44102\n"
     ]
    }
   ],
   "source": [
    "data=df.merge(df_clients, on='user_id', how='left')# объединение таблиц с данными о клиентах и тарифах\n",
    "print(len(data))# проверка количества записей после объединения таблиц\n"
   ]
  },
  {
   "cell_type": "markdown",
   "metadata": {},
   "source": [
    "<div class=\"alert alert-info\">\n",
    "Учитывая то, что задачей проекта является поиск самых неэффективных операторов, мы будем в дальнейшем использовать срез данных, в котором  поле operator_id в исходном датасете не является пустым.\n",
    "Кроме того, в соответствии с признаками эффективности нас не будут интересовать внутренние звонки между операторами клиента (internal), их мы также исключим для последующего анализа."
   ]
  },
  {
   "cell_type": "code",
   "execution_count": 14,
   "metadata": {},
   "outputs": [],
   "source": [
    "data_fin = data[(data['internal'] == False)&(data['operator_id'] != 0)]\n",
    "# исключение записей с  отсутствующими данными в поле operator_id и  внутренних звонков между операторами"
   ]
  },
  {
   "cell_type": "code",
   "execution_count": 15,
   "metadata": {},
   "outputs": [
    {
     "name": "stdout",
     "output_type": "stream",
     "text": [
      "Количество записей по исходящим и входящим звонкам в срезе данных с заполненным идентификатом: 32461\n",
      "Доля записей, исключенных из исходного датасета без дубликатов: -0.26395628316176134\n"
     ]
    }
   ],
   "source": [
    "print('Количество записей по исходящим и входящим звонкам в срезе данных с заполненным идентификатом:', len(data_fin))\n",
    "print('Доля записей, исключенных из исходного датасета без дубликатов:', (len(data_fin)/len(df)-1))"
   ]
  },
  {
   "cell_type": "code",
   "execution_count": 16,
   "metadata": {
    "scrolled": true
   },
   "outputs": [
    {
     "data": {
      "text/html": [
       "<div>\n",
       "<style scoped>\n",
       "    .dataframe tbody tr th:only-of-type {\n",
       "        vertical-align: middle;\n",
       "    }\n",
       "\n",
       "    .dataframe tbody tr th {\n",
       "        vertical-align: top;\n",
       "    }\n",
       "\n",
       "    .dataframe thead th {\n",
       "        text-align: right;\n",
       "    }\n",
       "</style>\n",
       "<table border=\"1\" class=\"dataframe\">\n",
       "  <thead>\n",
       "    <tr style=\"text-align: right;\">\n",
       "      <th></th>\n",
       "      <th>user_id</th>\n",
       "      <th>date</th>\n",
       "      <th>direction</th>\n",
       "      <th>internal</th>\n",
       "      <th>operator_id</th>\n",
       "      <th>is_missed_call</th>\n",
       "      <th>calls_count</th>\n",
       "      <th>call_duration</th>\n",
       "      <th>total_call_duration</th>\n",
       "      <th>weekday</th>\n",
       "      <th>waiting</th>\n",
       "      <th>duration_mean</th>\n",
       "      <th>tariff_plan</th>\n",
       "      <th>date_start</th>\n",
       "    </tr>\n",
       "  </thead>\n",
       "  <tbody>\n",
       "    <tr>\n",
       "      <td>4</td>\n",
       "      <td>166377</td>\n",
       "      <td>2019-08-05</td>\n",
       "      <td>out</td>\n",
       "      <td>False</td>\n",
       "      <td>880022</td>\n",
       "      <td>True</td>\n",
       "      <td>3</td>\n",
       "      <td>0</td>\n",
       "      <td>25</td>\n",
       "      <td>Monday</td>\n",
       "      <td>25</td>\n",
       "      <td>8</td>\n",
       "      <td>B</td>\n",
       "      <td>2019-08-01</td>\n",
       "    </tr>\n",
       "    <tr>\n",
       "      <td>5</td>\n",
       "      <td>166377</td>\n",
       "      <td>2019-08-05</td>\n",
       "      <td>out</td>\n",
       "      <td>False</td>\n",
       "      <td>880020</td>\n",
       "      <td>False</td>\n",
       "      <td>2</td>\n",
       "      <td>3</td>\n",
       "      <td>29</td>\n",
       "      <td>Monday</td>\n",
       "      <td>26</td>\n",
       "      <td>14</td>\n",
       "      <td>B</td>\n",
       "      <td>2019-08-01</td>\n",
       "    </tr>\n",
       "  </tbody>\n",
       "</table>\n",
       "</div>"
      ],
      "text/plain": [
       "   user_id        date direction  internal  operator_id  is_missed_call  \\\n",
       "4   166377  2019-08-05       out     False       880022            True   \n",
       "5   166377  2019-08-05       out     False       880020           False   \n",
       "\n",
       "   calls_count  call_duration  total_call_duration weekday  waiting  \\\n",
       "4            3              0                   25  Monday       25   \n",
       "5            2              3                   29  Monday       26   \n",
       "\n",
       "   duration_mean tariff_plan  date_start  \n",
       "4              8           B  2019-08-01  \n",
       "5             14           B  2019-08-01  "
      ]
     },
     "execution_count": 16,
     "metadata": {},
     "output_type": "execute_result"
    }
   ],
   "source": [
    "data_fin.head(2)"
   ]
  },
  {
   "cell_type": "markdown",
   "metadata": {},
   "source": [
    "## Исследовательский анализ данных (EDA)"
   ]
  },
  {
   "cell_type": "code",
   "execution_count": 17,
   "metadata": {},
   "outputs": [
    {
     "data": {
      "text/html": [
       "<div>\n",
       "<style scoped>\n",
       "    .dataframe tbody tr th:only-of-type {\n",
       "        vertical-align: middle;\n",
       "    }\n",
       "\n",
       "    .dataframe tbody tr th {\n",
       "        vertical-align: top;\n",
       "    }\n",
       "\n",
       "    .dataframe thead th {\n",
       "        text-align: right;\n",
       "    }\n",
       "</style>\n",
       "<table border=\"1\" class=\"dataframe\">\n",
       "  <thead>\n",
       "    <tr style=\"text-align: right;\">\n",
       "      <th></th>\n",
       "      <th>count</th>\n",
       "      <th>mean</th>\n",
       "      <th>std</th>\n",
       "      <th>min</th>\n",
       "      <th>25%</th>\n",
       "      <th>50%</th>\n",
       "      <th>75%</th>\n",
       "      <th>max</th>\n",
       "    </tr>\n",
       "  </thead>\n",
       "  <tbody>\n",
       "    <tr>\n",
       "      <td>user_id</td>\n",
       "      <td>32461.0</td>\n",
       "      <td>167304.636240</td>\n",
       "      <td>607.712475</td>\n",
       "      <td>166377.0</td>\n",
       "      <td>166782.0</td>\n",
       "      <td>167175.0</td>\n",
       "      <td>167828.0</td>\n",
       "      <td>168606.0</td>\n",
       "    </tr>\n",
       "    <tr>\n",
       "      <td>operator_id</td>\n",
       "      <td>32461.0</td>\n",
       "      <td>916473.463849</td>\n",
       "      <td>21273.934930</td>\n",
       "      <td>879896.0</td>\n",
       "      <td>900492.0</td>\n",
       "      <td>914440.0</td>\n",
       "      <td>937736.0</td>\n",
       "      <td>973286.0</td>\n",
       "    </tr>\n",
       "    <tr>\n",
       "      <td>calls_count</td>\n",
       "      <td>32461.0</td>\n",
       "      <td>19.059302</td>\n",
       "      <td>64.729732</td>\n",
       "      <td>1.0</td>\n",
       "      <td>2.0</td>\n",
       "      <td>5.0</td>\n",
       "      <td>16.0</td>\n",
       "      <td>4817.0</td>\n",
       "    </tr>\n",
       "    <tr>\n",
       "      <td>call_duration</td>\n",
       "      <td>32461.0</td>\n",
       "      <td>1145.574320</td>\n",
       "      <td>4407.258723</td>\n",
       "      <td>0.0</td>\n",
       "      <td>0.0</td>\n",
       "      <td>153.0</td>\n",
       "      <td>956.0</td>\n",
       "      <td>144395.0</td>\n",
       "    </tr>\n",
       "    <tr>\n",
       "      <td>total_call_duration</td>\n",
       "      <td>32461.0</td>\n",
       "      <td>1500.508518</td>\n",
       "      <td>5179.339647</td>\n",
       "      <td>0.0</td>\n",
       "      <td>98.0</td>\n",
       "      <td>377.0</td>\n",
       "      <td>1313.0</td>\n",
       "      <td>166155.0</td>\n",
       "    </tr>\n",
       "    <tr>\n",
       "      <td>waiting</td>\n",
       "      <td>32461.0</td>\n",
       "      <td>354.934198</td>\n",
       "      <td>1256.698635</td>\n",
       "      <td>0.0</td>\n",
       "      <td>25.0</td>\n",
       "      <td>79.0</td>\n",
       "      <td>263.0</td>\n",
       "      <td>46474.0</td>\n",
       "    </tr>\n",
       "    <tr>\n",
       "      <td>duration_mean</td>\n",
       "      <td>32461.0</td>\n",
       "      <td>100.570192</td>\n",
       "      <td>134.110360</td>\n",
       "      <td>0.0</td>\n",
       "      <td>27.0</td>\n",
       "      <td>66.0</td>\n",
       "      <td>124.0</td>\n",
       "      <td>3609.0</td>\n",
       "    </tr>\n",
       "  </tbody>\n",
       "</table>\n",
       "</div>"
      ],
      "text/plain": [
       "                       count           mean           std       min       25%  \\\n",
       "user_id              32461.0  167304.636240    607.712475  166377.0  166782.0   \n",
       "operator_id          32461.0  916473.463849  21273.934930  879896.0  900492.0   \n",
       "calls_count          32461.0      19.059302     64.729732       1.0       2.0   \n",
       "call_duration        32461.0    1145.574320   4407.258723       0.0       0.0   \n",
       "total_call_duration  32461.0    1500.508518   5179.339647       0.0      98.0   \n",
       "waiting              32461.0     354.934198   1256.698635       0.0      25.0   \n",
       "duration_mean        32461.0     100.570192    134.110360       0.0      27.0   \n",
       "\n",
       "                          50%       75%       max  \n",
       "user_id              167175.0  167828.0  168606.0  \n",
       "operator_id          914440.0  937736.0  973286.0  \n",
       "calls_count               5.0      16.0    4817.0  \n",
       "call_duration           153.0     956.0  144395.0  \n",
       "total_call_duration     377.0    1313.0  166155.0  \n",
       "waiting                  79.0     263.0   46474.0  \n",
       "duration_mean            66.0     124.0    3609.0  "
      ]
     },
     "execution_count": 17,
     "metadata": {},
     "output_type": "execute_result"
    }
   ],
   "source": [
    "data_fin.describe().T# изучим разброс значений, среднее и медиану."
   ]
  },
  {
   "cell_type": "markdown",
   "metadata": {},
   "source": [
    "<div class=\"alert alert-info\">\n",
    "Большая разница между  средними и медианными значениями может свидетельствовать о наличии выбросов. \n",
    "Целесообразно изучить данные о средней продолжительности звонка (duration_mean) на предмет сверхбольших значений."
   ]
  },
  {
   "cell_type": "code",
   "execution_count": 18,
   "metadata": {},
   "outputs": [
    {
     "data": {
      "image/png": "[encoded data removed]",
      "text/plain": [
       "<Figure size 432x288 with 1 Axes>"
      ]
     },
     "metadata": {},
     "output_type": "display_data"
    }
   ],
   "source": [
    "data_fin['duration_mean'].hist(bins=10,range = (20, 600))\n",
    "plt.title(\"Гистрограмма распределения средней длительности звонка\")\n",
    "plt.ylabel(\"Количество звонков\")\n",
    "plt.xlabel(\"Средняя  длительность звонка\")\n",
    "plt.show()"
   ]
  },
  {
   "cell_type": "code",
   "execution_count": 19,
   "metadata": {},
   "outputs": [
    {
     "name": "stdout",
     "output_type": "stream",
     "text": [
      "4.978281630264009\n"
     ]
    }
   ],
   "source": [
    "print(len(data_fin.query('duration_mean > 300'))*100 / len(data_fin))\n",
    "#процент звонков с очень большой длительностью."
   ]
  },
  {
   "cell_type": "markdown",
   "metadata": {},
   "source": [
    "<div class=\"alert alert-info\">\n",
    "Построена гистограмма по средней продолжительности звонка. Учитывая то,что 75% звонков длятся не более 124 секунд,следует исключить сверхдолгие звонки (более 300 секунд) из датасета для последующего анализа. Таких звонков 3% от общего количества."
   ]
  },
  {
   "cell_type": "code",
   "execution_count": 20,
   "metadata": {},
   "outputs": [
    {
     "data": {
      "text/html": [
       "<div>\n",
       "<style scoped>\n",
       "    .dataframe tbody tr th:only-of-type {\n",
       "        vertical-align: middle;\n",
       "    }\n",
       "\n",
       "    .dataframe tbody tr th {\n",
       "        vertical-align: top;\n",
       "    }\n",
       "\n",
       "    .dataframe thead th {\n",
       "        text-align: right;\n",
       "    }\n",
       "</style>\n",
       "<table border=\"1\" class=\"dataframe\">\n",
       "  <thead>\n",
       "    <tr style=\"text-align: right;\">\n",
       "      <th></th>\n",
       "      <th>count</th>\n",
       "      <th>mean</th>\n",
       "      <th>std</th>\n",
       "      <th>min</th>\n",
       "      <th>25%</th>\n",
       "      <th>50%</th>\n",
       "      <th>75%</th>\n",
       "      <th>max</th>\n",
       "    </tr>\n",
       "  </thead>\n",
       "  <tbody>\n",
       "    <tr>\n",
       "      <td>user_id</td>\n",
       "      <td>30833.0</td>\n",
       "      <td>167313.800765</td>\n",
       "      <td>608.972596</td>\n",
       "      <td>166377.0</td>\n",
       "      <td>166782.0</td>\n",
       "      <td>167175.0</td>\n",
       "      <td>167828.0</td>\n",
       "      <td>168606.0</td>\n",
       "    </tr>\n",
       "    <tr>\n",
       "      <td>operator_id</td>\n",
       "      <td>30833.0</td>\n",
       "      <td>916798.213213</td>\n",
       "      <td>21288.533996</td>\n",
       "      <td>879896.0</td>\n",
       "      <td>900614.0</td>\n",
       "      <td>915556.0</td>\n",
       "      <td>937760.0</td>\n",
       "      <td>973286.0</td>\n",
       "    </tr>\n",
       "    <tr>\n",
       "      <td>calls_count</td>\n",
       "      <td>30833.0</td>\n",
       "      <td>19.771284</td>\n",
       "      <td>66.250825</td>\n",
       "      <td>1.0</td>\n",
       "      <td>2.0</td>\n",
       "      <td>5.0</td>\n",
       "      <td>17.0</td>\n",
       "      <td>4817.0</td>\n",
       "    </tr>\n",
       "    <tr>\n",
       "      <td>call_duration</td>\n",
       "      <td>30833.0</td>\n",
       "      <td>1080.088541</td>\n",
       "      <td>4374.756618</td>\n",
       "      <td>0.0</td>\n",
       "      <td>0.0</td>\n",
       "      <td>119.0</td>\n",
       "      <td>845.0</td>\n",
       "      <td>144395.0</td>\n",
       "    </tr>\n",
       "    <tr>\n",
       "      <td>total_call_duration</td>\n",
       "      <td>30833.0</td>\n",
       "      <td>1447.820647</td>\n",
       "      <td>5170.897376</td>\n",
       "      <td>0.0</td>\n",
       "      <td>91.0</td>\n",
       "      <td>337.0</td>\n",
       "      <td>1230.0</td>\n",
       "      <td>166155.0</td>\n",
       "    </tr>\n",
       "    <tr>\n",
       "      <td>waiting</td>\n",
       "      <td>30833.0</td>\n",
       "      <td>367.732105</td>\n",
       "      <td>1259.456682</td>\n",
       "      <td>0.0</td>\n",
       "      <td>26.0</td>\n",
       "      <td>84.0</td>\n",
       "      <td>278.0</td>\n",
       "      <td>45312.0</td>\n",
       "    </tr>\n",
       "    <tr>\n",
       "      <td>duration_mean</td>\n",
       "      <td>30833.0</td>\n",
       "      <td>78.224532</td>\n",
       "      <td>64.178237</td>\n",
       "      <td>0.0</td>\n",
       "      <td>26.0</td>\n",
       "      <td>61.0</td>\n",
       "      <td>113.0</td>\n",
       "      <td>299.0</td>\n",
       "    </tr>\n",
       "  </tbody>\n",
       "</table>\n",
       "</div>"
      ],
      "text/plain": [
       "                       count           mean           std       min       25%  \\\n",
       "user_id              30833.0  167313.800765    608.972596  166377.0  166782.0   \n",
       "operator_id          30833.0  916798.213213  21288.533996  879896.0  900614.0   \n",
       "calls_count          30833.0      19.771284     66.250825       1.0       2.0   \n",
       "call_duration        30833.0    1080.088541   4374.756618       0.0       0.0   \n",
       "total_call_duration  30833.0    1447.820647   5170.897376       0.0      91.0   \n",
       "waiting              30833.0     367.732105   1259.456682       0.0      26.0   \n",
       "duration_mean        30833.0      78.224532     64.178237       0.0      26.0   \n",
       "\n",
       "                          50%       75%       max  \n",
       "user_id              167175.0  167828.0  168606.0  \n",
       "operator_id          915556.0  937760.0  973286.0  \n",
       "calls_count               5.0      17.0    4817.0  \n",
       "call_duration           119.0     845.0  144395.0  \n",
       "total_call_duration     337.0    1230.0  166155.0  \n",
       "waiting                  84.0     278.0   45312.0  \n",
       "duration_mean            61.0     113.0     299.0  "
      ]
     },
     "execution_count": 20,
     "metadata": {},
     "output_type": "execute_result"
    }
   ],
   "source": [
    "data_fin= data_fin.loc[(data_fin['duration_mean'] < 300)] #срез данных по звонкам с длительностью менее 300 секунд(5минут).\n",
    "data_fin.describe().T"
   ]
  },
  {
   "cell_type": "markdown",
   "metadata": {},
   "source": [
    "<div class=\"alert alert-info\">\n",
    "Для дальнейшего анализа мы будем использовать данные по исходящим и входящим звонкам, очищеные от дубликатов, имеющие данные по полю operator_id, со средней продолжительностью звонка менее 300 секунд."
   ]
  },
  {
   "cell_type": "markdown",
   "metadata": {},
   "source": [
    "### Анализ цикличной нагрузки на операторов по дням недели"
   ]
  },
  {
   "cell_type": "code",
   "execution_count": 21,
   "metadata": {},
   "outputs": [
    {
     "data": {
      "image/png": "[encoded data removed]",
      "text/plain": [
       "<Figure size 1080x360 with 1 Axes>"
      ]
     },
     "metadata": {},
     "output_type": "display_data"
    }
   ],
   "source": [
    "fig = plt.figure(figsize=(15,5))\n",
    "funnel_event=data_fin.groupby(['weekday'])['calls_count'].sum().sort_values(ascending=False)\n",
    "#funnel_event = funnel_event.sort_values()\n",
    "funnel_event.plot(kind='bar')             \n",
    "plt.ylabel('Количество звонков')\n",
    "plt.xlabel('Дни недели')\n",
    "plt.title('Количество звонков по дням недели') \n",
    "plt.xticks(rotation=45)\n",
    "plt.show()"
   ]
  },
  {
   "cell_type": "markdown",
   "metadata": {},
   "source": [
    "<div class=\"alert alert-info\">\n",
    "Пик работы операторов приходится на будние дни, наибольшее количество звонков приходится на четверг, вторник, среду и понедельник. К выходным дням нагрузка на операторов снижается."
   ]
  },
  {
   "cell_type": "markdown",
   "metadata": {},
   "source": [
    "### Сегментация колл-центров "
   ]
  },
  {
   "cell_type": "markdown",
   "metadata": {},
   "source": [
    "<div class=\"alert alert-info\">\n",
    "Проведем сегментацию колл-центров на 2 группы :1) специализирующихся на обзвонах, 2) специализирующихся на обработке входящих звонков по следующему условию: если доля входящих звонков в колл-центре (user_id) более 50%, то колл-центр будет отнесен к группе \"обзвоны\" -специализирующихся на обзвонах, в других случаях оператор будет отнесен в группе \"входящие звонки\"."
   ]
  },
  {
   "cell_type": "code",
   "execution_count": 22,
   "metadata": {},
   "outputs": [
    {
     "data": {
      "text/html": [
       "<div>\n",
       "<style scoped>\n",
       "    .dataframe tbody tr th:only-of-type {\n",
       "        vertical-align: middle;\n",
       "    }\n",
       "\n",
       "    .dataframe tbody tr th {\n",
       "        vertical-align: top;\n",
       "    }\n",
       "\n",
       "    .dataframe thead th {\n",
       "        text-align: right;\n",
       "    }\n",
       "</style>\n",
       "<table border=\"1\" class=\"dataframe\">\n",
       "  <thead>\n",
       "    <tr style=\"text-align: right;\">\n",
       "      <th>direction</th>\n",
       "      <th>user_id</th>\n",
       "      <th>in</th>\n",
       "      <th>out</th>\n",
       "      <th>total</th>\n",
       "      <th>in_part</th>\n",
       "      <th>in_out_group</th>\n",
       "    </tr>\n",
       "  </thead>\n",
       "  <tbody>\n",
       "    <tr>\n",
       "      <td>0</td>\n",
       "      <td>166377</td>\n",
       "      <td>92</td>\n",
       "      <td>4318</td>\n",
       "      <td>4410</td>\n",
       "      <td>2.086168</td>\n",
       "      <td>обзвоны</td>\n",
       "    </tr>\n",
       "    <tr>\n",
       "      <td>1</td>\n",
       "      <td>166391</td>\n",
       "      <td>4</td>\n",
       "      <td>0</td>\n",
       "      <td>4</td>\n",
       "      <td>100.000000</td>\n",
       "      <td>входящие звонки</td>\n",
       "    </tr>\n",
       "    <tr>\n",
       "      <td>2</td>\n",
       "      <td>166392</td>\n",
       "      <td>73</td>\n",
       "      <td>0</td>\n",
       "      <td>73</td>\n",
       "      <td>100.000000</td>\n",
       "      <td>входящие звонки</td>\n",
       "    </tr>\n",
       "    <tr>\n",
       "      <td>3</td>\n",
       "      <td>166399</td>\n",
       "      <td>8</td>\n",
       "      <td>0</td>\n",
       "      <td>8</td>\n",
       "      <td>100.000000</td>\n",
       "      <td>входящие звонки</td>\n",
       "    </tr>\n",
       "    <tr>\n",
       "      <td>4</td>\n",
       "      <td>166405</td>\n",
       "      <td>1839</td>\n",
       "      <td>8850</td>\n",
       "      <td>10689</td>\n",
       "      <td>17.204603</td>\n",
       "      <td>обзвоны</td>\n",
       "    </tr>\n",
       "  </tbody>\n",
       "</table>\n",
       "</div>"
      ],
      "text/plain": [
       "direction user_id    in   out  total     in_part     in_out_group\n",
       "0          166377    92  4318   4410    2.086168          обзвоны\n",
       "1          166391     4     0      4  100.000000  входящие звонки\n",
       "2          166392    73     0     73  100.000000  входящие звонки\n",
       "3          166399     8     0      8  100.000000  входящие звонки\n",
       "4          166405  1839  8850  10689   17.204603          обзвоны"
      ]
     },
     "metadata": {},
     "output_type": "display_data"
    }
   ],
   "source": [
    "user_id_group=data_fin.pivot_table(index=[\"user_id\"],columns=[\"direction\"],\n",
    "               values=[\"calls_count\"],aggfunc={ \"calls_count\": np.sum},fill_value=0,margins=True,\n",
    "                       margins_name=\"total\")# сводная по количеству звонков\n",
    "user_id_group.columns = user_id_group.columns.droplevel(0)                                        \n",
    "user_id_group = user_id_group.reset_index().rename_axis(None, axis=0)# преобразование сводной в плоскую таблицу\n",
    "user_id_group['in_part']=user_id_group['in']/user_id_group['total']*100\n",
    "\n",
    "# категоризация колл-центров.\n",
    "def in_out(in_part):\n",
    "    if in_part > 50:\n",
    "                return 'входящие звонки'\n",
    "    return 'обзвоны'\n",
    "user_id_group['in_out_group'] = user_id_group['in_part'].apply(in_out) #создание столбца с категориями \n",
    "\n",
    "display(user_id_group.head())\n",
    "\n",
    "user_id_group_fin=user_id_group[['user_id','in_out_group']]"
   ]
  },
  {
   "cell_type": "code",
   "execution_count": 23,
   "metadata": {
    "scrolled": true
   },
   "outputs": [
    {
     "name": "stdout",
     "output_type": "stream",
     "text": [
      "44102\n"
     ]
    },
    {
     "data": {
      "text/html": [
       "<div>\n",
       "<style scoped>\n",
       "    .dataframe tbody tr th:only-of-type {\n",
       "        vertical-align: middle;\n",
       "    }\n",
       "\n",
       "    .dataframe tbody tr th {\n",
       "        vertical-align: top;\n",
       "    }\n",
       "\n",
       "    .dataframe thead th {\n",
       "        text-align: right;\n",
       "    }\n",
       "</style>\n",
       "<table border=\"1\" class=\"dataframe\">\n",
       "  <thead>\n",
       "    <tr style=\"text-align: right;\">\n",
       "      <th></th>\n",
       "      <th>user_id</th>\n",
       "      <th>date</th>\n",
       "      <th>direction</th>\n",
       "      <th>internal</th>\n",
       "      <th>operator_id</th>\n",
       "      <th>is_missed_call</th>\n",
       "      <th>calls_count</th>\n",
       "      <th>call_duration</th>\n",
       "      <th>total_call_duration</th>\n",
       "      <th>weekday</th>\n",
       "      <th>waiting</th>\n",
       "      <th>duration_mean</th>\n",
       "      <th>tariff_plan</th>\n",
       "      <th>date_start</th>\n",
       "      <th>in_out_group</th>\n",
       "    </tr>\n",
       "  </thead>\n",
       "  <tbody>\n",
       "    <tr>\n",
       "      <td>0</td>\n",
       "      <td>166377</td>\n",
       "      <td>2019-08-05</td>\n",
       "      <td>out</td>\n",
       "      <td>False</td>\n",
       "      <td>880022</td>\n",
       "      <td>True</td>\n",
       "      <td>3</td>\n",
       "      <td>0</td>\n",
       "      <td>25</td>\n",
       "      <td>Monday</td>\n",
       "      <td>25</td>\n",
       "      <td>8</td>\n",
       "      <td>B</td>\n",
       "      <td>2019-08-01</td>\n",
       "      <td>обзвоны</td>\n",
       "    </tr>\n",
       "    <tr>\n",
       "      <td>1</td>\n",
       "      <td>166377</td>\n",
       "      <td>2019-08-05</td>\n",
       "      <td>out</td>\n",
       "      <td>False</td>\n",
       "      <td>880020</td>\n",
       "      <td>False</td>\n",
       "      <td>2</td>\n",
       "      <td>3</td>\n",
       "      <td>29</td>\n",
       "      <td>Monday</td>\n",
       "      <td>26</td>\n",
       "      <td>14</td>\n",
       "      <td>B</td>\n",
       "      <td>2019-08-01</td>\n",
       "      <td>обзвоны</td>\n",
       "    </tr>\n",
       "  </tbody>\n",
       "</table>\n",
       "</div>"
      ],
      "text/plain": [
       "  user_id        date direction  internal  operator_id  is_missed_call  \\\n",
       "0  166377  2019-08-05       out     False       880022            True   \n",
       "1  166377  2019-08-05       out     False       880020           False   \n",
       "\n",
       "   calls_count  call_duration  total_call_duration weekday  waiting  \\\n",
       "0            3              0                   25  Monday       25   \n",
       "1            2              3                   29  Monday       26   \n",
       "\n",
       "   duration_mean tariff_plan  date_start in_out_group  \n",
       "0              8           B  2019-08-01      обзвоны  \n",
       "1             14           B  2019-08-01      обзвоны  "
      ]
     },
     "execution_count": 23,
     "metadata": {},
     "output_type": "execute_result"
    }
   ],
   "source": [
    "data_fin=data_fin.merge(user_id_group_fin, on='user_id', how='left')# объединение таблиц\n",
    "print(len(data))# проверка количества записей после объединения таблиц\n",
    "data_fin.head(2)"
   ]
  },
  {
   "cell_type": "code",
   "execution_count": 24,
   "metadata": {},
   "outputs": [
    {
     "data": {
      "text/plain": [
       "1039"
      ]
     },
     "execution_count": 24,
     "metadata": {},
     "output_type": "execute_result"
    }
   ],
   "source": [
    "len(data_fin['operator_id'].unique())# уникальное количество операторов"
   ]
  },
  {
   "cell_type": "markdown",
   "metadata": {},
   "source": [
    "### Анализ данных по входящим звонкам"
   ]
  },
  {
   "cell_type": "code",
   "execution_count": 25,
   "metadata": {},
   "outputs": [
    {
     "data": {
      "text/html": [
       "<div>\n",
       "<style scoped>\n",
       "    .dataframe tbody tr th:only-of-type {\n",
       "        vertical-align: middle;\n",
       "    }\n",
       "\n",
       "    .dataframe tbody tr th {\n",
       "        vertical-align: top;\n",
       "    }\n",
       "\n",
       "    .dataframe thead th {\n",
       "        text-align: right;\n",
       "    }\n",
       "</style>\n",
       "<table border=\"1\" class=\"dataframe\">\n",
       "  <thead>\n",
       "    <tr style=\"text-align: right;\">\n",
       "      <th></th>\n",
       "      <th>count</th>\n",
       "      <th>mean</th>\n",
       "      <th>std</th>\n",
       "      <th>min</th>\n",
       "      <th>25%</th>\n",
       "      <th>50%</th>\n",
       "      <th>75%</th>\n",
       "      <th>max</th>\n",
       "    </tr>\n",
       "  </thead>\n",
       "  <tbody>\n",
       "    <tr>\n",
       "      <td>operator_id</td>\n",
       "      <td>5385.0</td>\n",
       "      <td>917398.407428</td>\n",
       "      <td>19169.538664</td>\n",
       "      <td>882476.0</td>\n",
       "      <td>904344.0</td>\n",
       "      <td>911136.0</td>\n",
       "      <td>933986.0</td>\n",
       "      <td>973286.0</td>\n",
       "    </tr>\n",
       "    <tr>\n",
       "      <td>calls_count</td>\n",
       "      <td>5385.0</td>\n",
       "      <td>6.610585</td>\n",
       "      <td>15.430477</td>\n",
       "      <td>1.0</td>\n",
       "      <td>1.0</td>\n",
       "      <td>2.0</td>\n",
       "      <td>6.0</td>\n",
       "      <td>273.0</td>\n",
       "    </tr>\n",
       "    <tr>\n",
       "      <td>call_duration</td>\n",
       "      <td>5385.0</td>\n",
       "      <td>573.919406</td>\n",
       "      <td>1544.171856</td>\n",
       "      <td>0.0</td>\n",
       "      <td>23.0</td>\n",
       "      <td>136.0</td>\n",
       "      <td>539.0</td>\n",
       "      <td>33897.0</td>\n",
       "    </tr>\n",
       "    <tr>\n",
       "      <td>total_call_duration</td>\n",
       "      <td>5385.0</td>\n",
       "      <td>685.788115</td>\n",
       "      <td>1670.607223</td>\n",
       "      <td>0.0</td>\n",
       "      <td>58.0</td>\n",
       "      <td>179.0</td>\n",
       "      <td>634.0</td>\n",
       "      <td>34280.0</td>\n",
       "    </tr>\n",
       "    <tr>\n",
       "      <td>waiting</td>\n",
       "      <td>5385.0</td>\n",
       "      <td>111.868709</td>\n",
       "      <td>217.520210</td>\n",
       "      <td>0.0</td>\n",
       "      <td>16.0</td>\n",
       "      <td>38.0</td>\n",
       "      <td>102.0</td>\n",
       "      <td>3725.0</td>\n",
       "    </tr>\n",
       "    <tr>\n",
       "      <td>duration_mean</td>\n",
       "      <td>5385.0</td>\n",
       "      <td>90.617456</td>\n",
       "      <td>64.517762</td>\n",
       "      <td>0.0</td>\n",
       "      <td>38.0</td>\n",
       "      <td>81.0</td>\n",
       "      <td>127.0</td>\n",
       "      <td>299.0</td>\n",
       "    </tr>\n",
       "  </tbody>\n",
       "</table>\n",
       "</div>"
      ],
      "text/plain": [
       "                      count           mean           std       min       25%  \\\n",
       "operator_id          5385.0  917398.407428  19169.538664  882476.0  904344.0   \n",
       "calls_count          5385.0       6.610585     15.430477       1.0       1.0   \n",
       "call_duration        5385.0     573.919406   1544.171856       0.0      23.0   \n",
       "total_call_duration  5385.0     685.788115   1670.607223       0.0      58.0   \n",
       "waiting              5385.0     111.868709    217.520210       0.0      16.0   \n",
       "duration_mean        5385.0      90.617456     64.517762       0.0      38.0   \n",
       "\n",
       "                          50%       75%       max  \n",
       "operator_id          911136.0  933986.0  973286.0  \n",
       "calls_count               2.0       6.0     273.0  \n",
       "call_duration           136.0     539.0   33897.0  \n",
       "total_call_duration     179.0     634.0   34280.0  \n",
       "waiting                  38.0     102.0    3725.0  \n",
       "duration_mean            81.0     127.0     299.0  "
      ]
     },
     "execution_count": 25,
     "metadata": {},
     "output_type": "execute_result"
    }
   ],
   "source": [
    "data_in=data_fin.query('in_out_group == \"входящие звонки\"')\n",
    "data_in.describe().T # изучим разброс значений, среднее и медиану.\n"
   ]
  },
  {
   "cell_type": "code",
   "execution_count": 26,
   "metadata": {},
   "outputs": [
    {
     "data": {
      "image/png": "[encoded data removed]",
      "text/plain": [
       "<Figure size 432x288 with 1 Axes>"
      ]
     },
     "metadata": {},
     "output_type": "display_data"
    }
   ],
   "source": [
    "plt.hist(data_in['duration_mean'], bins = 50) \n",
    "plt.title(\"Гистограмма распределения длительности входящих звонков\")\n",
    "plt.ylabel(\"Количество входящих звонков\")\n",
    "plt.xlabel(\"Длительность звонка\")\n",
    "plt.show()"
   ]
  },
  {
   "cell_type": "markdown",
   "metadata": {},
   "source": [
    "<div class=\"alert alert-info\">\n",
    "75% звонков длятся не более 127 секунд. Средняя длительность одного входящего звонка 91 секунда, медианное значение-81 секунды. Среднее время ожидания ответа оператора 111 секунд. Среднее ожидание входящих обращений по каждому оператору мы будем  использовать в качестве критерия оценки эффективности оператора по показателю \"долгое ожидания ответа при входящих внешних вызовах\"."
   ]
  },
  {
   "cell_type": "code",
   "execution_count": 27,
   "metadata": {},
   "outputs": [
    {
     "data": {
      "text/plain": [
       "124"
      ]
     },
     "execution_count": 27,
     "metadata": {},
     "output_type": "execute_result"
    }
   ],
   "source": [
    "len(data_in['user_id'].unique())# уникальное количество операторов на входящих звонках"
   ]
  },
  {
   "cell_type": "code",
   "execution_count": 28,
   "metadata": {},
   "outputs": [
    {
     "data": {
      "text/plain": [
       "288"
      ]
     },
     "execution_count": 28,
     "metadata": {},
     "output_type": "execute_result"
    }
   ],
   "source": [
    "len(data_fin['user_id'].unique())"
   ]
  },
  {
   "cell_type": "code",
   "execution_count": 29,
   "metadata": {},
   "outputs": [
    {
     "data": {
      "text/html": [
       "<div>\n",
       "<style scoped>\n",
       "    .dataframe tbody tr th:only-of-type {\n",
       "        vertical-align: middle;\n",
       "    }\n",
       "\n",
       "    .dataframe tbody tr th {\n",
       "        vertical-align: top;\n",
       "    }\n",
       "\n",
       "    .dataframe thead th {\n",
       "        text-align: right;\n",
       "    }\n",
       "</style>\n",
       "<table border=\"1\" class=\"dataframe\">\n",
       "  <thead>\n",
       "    <tr style=\"text-align: right;\">\n",
       "      <th></th>\n",
       "      <th>user_id</th>\n",
       "    </tr>\n",
       "  </thead>\n",
       "  <tbody>\n",
       "    <tr>\n",
       "      <td>0</td>\n",
       "      <td>166377</td>\n",
       "    </tr>\n",
       "    <tr>\n",
       "      <td>398</td>\n",
       "      <td>166391</td>\n",
       "    </tr>\n",
       "    <tr>\n",
       "      <td>402</td>\n",
       "      <td>166392</td>\n",
       "    </tr>\n",
       "  </tbody>\n",
       "</table>\n",
       "</div>"
      ],
      "text/plain": [
       "    user_id\n",
       "0    166377\n",
       "398  166391\n",
       "402  166392"
      ]
     },
     "execution_count": 29,
     "metadata": {},
     "output_type": "execute_result"
    }
   ],
   "source": [
    "#список уникальных клиентов\n",
    "user_uniq=data_fin[['user_id']].drop_duplicates()\n",
    "user_uniq.head(3)"
   ]
  },
  {
   "cell_type": "code",
   "execution_count": 30,
   "metadata": {},
   "outputs": [
    {
     "name": "stderr",
     "output_type": "stream",
     "text": [
      "/opt/conda/lib/python3.7/site-packages/ipykernel_launcher.py:5: FutureWarning: set_axis currently defaults to operating inplace.\n",
      "This will change in a future version of pandas, use inplace=True to avoid this warning.\n",
      "  \"\"\"\n"
     ]
    },
    {
     "data": {
      "text/html": [
       "<div>\n",
       "<style scoped>\n",
       "    .dataframe tbody tr th:only-of-type {\n",
       "        vertical-align: middle;\n",
       "    }\n",
       "\n",
       "    .dataframe tbody tr th {\n",
       "        vertical-align: top;\n",
       "    }\n",
       "\n",
       "    .dataframe thead th {\n",
       "        text-align: right;\n",
       "    }\n",
       "</style>\n",
       "<table border=\"1\" class=\"dataframe\">\n",
       "  <thead>\n",
       "    <tr style=\"text-align: right;\">\n",
       "      <th></th>\n",
       "      <th>user_id</th>\n",
       "      <th>mean_wait</th>\n",
       "    </tr>\n",
       "  </thead>\n",
       "  <tbody>\n",
       "    <tr>\n",
       "      <td>0</td>\n",
       "      <td>166391</td>\n",
       "      <td>27.0</td>\n",
       "    </tr>\n",
       "    <tr>\n",
       "      <td>1</td>\n",
       "      <td>166392</td>\n",
       "      <td>74.0</td>\n",
       "    </tr>\n",
       "  </tbody>\n",
       "</table>\n",
       "</div>"
      ],
      "text/plain": [
       "   user_id  mean_wait\n",
       "0   166391       27.0\n",
       "1   166392       74.0"
      ]
     },
     "execution_count": 30,
     "metadata": {},
     "output_type": "execute_result"
    }
   ],
   "source": [
    "# среднее ожидание по каждому клиенту\n",
    "mean_waiting =data_in.groupby(['user_id']).mean().reset_index()\n",
    "mean_waiting= mean_waiting[['user_id','waiting']]\n",
    "new_names= ['user_id','mean_wait']\n",
    "mean_waiting.set_axis(new_names, axis = 'columns')# переименование столбцов\n",
    "\n",
    "mean_waiting.head(2)"
   ]
  },
  {
   "cell_type": "code",
   "execution_count": 31,
   "metadata": {},
   "outputs": [
    {
     "data": {
      "text/html": [
       "<div>\n",
       "<style scoped>\n",
       "    .dataframe tbody tr th:only-of-type {\n",
       "        vertical-align: middle;\n",
       "    }\n",
       "\n",
       "    .dataframe tbody tr th {\n",
       "        vertical-align: top;\n",
       "    }\n",
       "\n",
       "    .dataframe thead th {\n",
       "        text-align: right;\n",
       "    }\n",
       "</style>\n",
       "<table border=\"1\" class=\"dataframe\">\n",
       "  <thead>\n",
       "    <tr style=\"text-align: right;\">\n",
       "      <th></th>\n",
       "      <th>user_id</th>\n",
       "      <th>operator_id</th>\n",
       "      <th>internal</th>\n",
       "      <th>is_missed_call</th>\n",
       "      <th>calls_count</th>\n",
       "      <th>call_duration</th>\n",
       "      <th>total_call_duration</th>\n",
       "      <th>waiting</th>\n",
       "      <th>duration_mean</th>\n",
       "      <th>mean_wait</th>\n",
       "    </tr>\n",
       "  </thead>\n",
       "  <tbody>\n",
       "    <tr>\n",
       "      <td>0</td>\n",
       "      <td>166391</td>\n",
       "      <td>882476</td>\n",
       "      <td>0.0</td>\n",
       "      <td>0.0</td>\n",
       "      <td>1.0</td>\n",
       "      <td>64.0</td>\n",
       "      <td>95.666667</td>\n",
       "      <td>31.666667</td>\n",
       "      <td>95.666667</td>\n",
       "      <td>27.0</td>\n",
       "    </tr>\n",
       "    <tr>\n",
       "      <td>1</td>\n",
       "      <td>166391</td>\n",
       "      <td>882478</td>\n",
       "      <td>0.0</td>\n",
       "      <td>0.0</td>\n",
       "      <td>1.0</td>\n",
       "      <td>57.0</td>\n",
       "      <td>70.000000</td>\n",
       "      <td>13.000000</td>\n",
       "      <td>70.000000</td>\n",
       "      <td>27.0</td>\n",
       "    </tr>\n",
       "  </tbody>\n",
       "</table>\n",
       "</div>"
      ],
      "text/plain": [
       "   user_id  operator_id  internal  is_missed_call  calls_count  call_duration  \\\n",
       "0   166391       882476       0.0             0.0          1.0           64.0   \n",
       "1   166391       882478       0.0             0.0          1.0           57.0   \n",
       "\n",
       "   total_call_duration    waiting  duration_mean  mean_wait  \n",
       "0            95.666667  31.666667      95.666667       27.0  \n",
       "1            70.000000  13.000000      70.000000       27.0  "
      ]
     },
     "execution_count": 31,
     "metadata": {},
     "output_type": "execute_result"
    }
   ],
   "source": [
    "in_waiting =data_in.groupby(['user_id', 'operator_id']).mean().reset_index()\n",
    "in_waiting=in_waiting.merge(mean_waiting, how='left', on='user_id')\n",
    "in_waiting.head(2)\n"
   ]
  },
  {
   "cell_type": "code",
   "execution_count": 32,
   "metadata": {},
   "outputs": [
    {
     "data": {
      "text/html": [
       "<div>\n",
       "<style scoped>\n",
       "    .dataframe tbody tr th:only-of-type {\n",
       "        vertical-align: middle;\n",
       "    }\n",
       "\n",
       "    .dataframe tbody tr th {\n",
       "        vertical-align: top;\n",
       "    }\n",
       "\n",
       "    .dataframe thead th {\n",
       "        text-align: right;\n",
       "    }\n",
       "</style>\n",
       "<table border=\"1\" class=\"dataframe\">\n",
       "  <thead>\n",
       "    <tr style=\"text-align: right;\">\n",
       "      <th></th>\n",
       "      <th>user_id</th>\n",
       "      <th>operator_id</th>\n",
       "      <th>waiting</th>\n",
       "      <th>mean_wait</th>\n",
       "      <th>effect_wait</th>\n",
       "    </tr>\n",
       "  </thead>\n",
       "  <tbody>\n",
       "    <tr>\n",
       "      <td>0</td>\n",
       "      <td>166391</td>\n",
       "      <td>882476</td>\n",
       "      <td>31.666667</td>\n",
       "      <td>27.0</td>\n",
       "      <td>1</td>\n",
       "    </tr>\n",
       "    <tr>\n",
       "      <td>1</td>\n",
       "      <td>166391</td>\n",
       "      <td>882478</td>\n",
       "      <td>13.000000</td>\n",
       "      <td>27.0</td>\n",
       "      <td>0</td>\n",
       "    </tr>\n",
       "    <tr>\n",
       "      <td>2</td>\n",
       "      <td>166392</td>\n",
       "      <td>886892</td>\n",
       "      <td>58.000000</td>\n",
       "      <td>74.0</td>\n",
       "      <td>0</td>\n",
       "    </tr>\n",
       "    <tr>\n",
       "      <td>3</td>\n",
       "      <td>166392</td>\n",
       "      <td>891900</td>\n",
       "      <td>84.181818</td>\n",
       "      <td>74.0</td>\n",
       "      <td>1</td>\n",
       "    </tr>\n",
       "    <tr>\n",
       "      <td>4</td>\n",
       "      <td>166392</td>\n",
       "      <td>891906</td>\n",
       "      <td>68.666667</td>\n",
       "      <td>74.0</td>\n",
       "      <td>0</td>\n",
       "    </tr>\n",
       "  </tbody>\n",
       "</table>\n",
       "</div>"
      ],
      "text/plain": [
       "   user_id  operator_id    waiting  mean_wait  effect_wait\n",
       "0   166391       882476  31.666667       27.0            1\n",
       "1   166391       882478  13.000000       27.0            0\n",
       "2   166392       886892  58.000000       74.0            0\n",
       "3   166392       891900  84.181818       74.0            1\n",
       "4   166392       891906  68.666667       74.0            0"
      ]
     },
     "execution_count": 32,
     "metadata": {},
     "output_type": "execute_result"
    }
   ],
   "source": [
    "def effective(row):\n",
    "    for user_id in user_uniq:\n",
    "        info1 = row['waiting']\n",
    "        info2 = row['mean_wait']\n",
    "        if info1 > info2:\n",
    "            return 1\n",
    "        return 0\n",
    "in_waiting['effect_wait'] = in_waiting.apply(effective, axis=1)\n",
    "#создание столбца с категориями \n",
    "in_waiting=in_waiting[['user_id','operator_id','waiting','mean_wait','effect_wait']]\n",
    "#ОЦЕНКА ЭФФЕКТИВНОСТИ ПО ВРЕМЕНИ ОЖИДАНИЯ\n",
    "in_waiting.head()\n"
   ]
  },
  {
   "cell_type": "code",
   "execution_count": 33,
   "metadata": {},
   "outputs": [
    {
     "name": "stdout",
     "output_type": "stream",
     "text": [
      "30.79710144927536\n"
     ]
    }
   ],
   "source": [
    "#ПРОВЕРКА\n",
    "in__wait1=in_waiting.query('effect_wait >0')\n",
    "print(len(in__wait1)/len(in_waiting)*100)\n",
    "# доля неэффективных операторов по времени ожидания от общего числа операторов на входящих звонках\n"
   ]
  },
  {
   "cell_type": "code",
   "execution_count": 34,
   "metadata": {},
   "outputs": [
    {
     "data": {
      "text/html": [
       "<div>\n",
       "<style scoped>\n",
       "    .dataframe tbody tr th:only-of-type {\n",
       "        vertical-align: middle;\n",
       "    }\n",
       "\n",
       "    .dataframe tbody tr th {\n",
       "        vertical-align: top;\n",
       "    }\n",
       "\n",
       "    .dataframe thead th {\n",
       "        text-align: right;\n",
       "    }\n",
       "</style>\n",
       "<table border=\"1\" class=\"dataframe\">\n",
       "  <thead>\n",
       "    <tr style=\"text-align: right;\">\n",
       "      <th></th>\n",
       "      <th>user_id</th>\n",
       "      <th>user_missed_part</th>\n",
       "    </tr>\n",
       "  </thead>\n",
       "  <tbody>\n",
       "    <tr>\n",
       "      <td>0</td>\n",
       "      <td>166391</td>\n",
       "      <td>0.0</td>\n",
       "    </tr>\n",
       "    <tr>\n",
       "      <td>1</td>\n",
       "      <td>166392</td>\n",
       "      <td>0.0</td>\n",
       "    </tr>\n",
       "    <tr>\n",
       "      <td>2</td>\n",
       "      <td>166399</td>\n",
       "      <td>0.0</td>\n",
       "    </tr>\n",
       "  </tbody>\n",
       "</table>\n",
       "</div>"
      ],
      "text/plain": [
       "  user_id  user_missed_part\n",
       "0  166391               0.0\n",
       "1  166392               0.0\n",
       "2  166399               0.0"
      ]
     },
     "metadata": {},
     "output_type": "display_data"
    }
   ],
   "source": [
    "# Сводная по клиентам по  входящим пропущенным звонкам\n",
    "user_missed=data_in.pivot_table(index=[\"user_id\"],columns=[\"is_missed_call\"],\n",
    "               values=[\"calls_count\"],aggfunc={ \"calls_count\": np.sum},fill_value=0,margins=True,\n",
    "                       margins_name=\"total\")# сводная по количеству звонков\n",
    "user_missed.columns = user_missed.columns.droplevel(0)                                        \n",
    "user_missed = user_missed.reset_index().rename_axis(None, axis=0)# преобразование сводной в плоскую таблицу\n",
    "\n",
    "new_names= ['user_id','принят','пропущен','total']\n",
    "user_missed.set_axis(new_names, axis = 'columns', inplace = True)# переименование столбцов\n",
    "\n",
    "user_missed['user_missed_part']=user_missed['пропущен']/user_missed['total']*100\n",
    "user_missed=user_missed[['user_id','user_missed_part']]\n",
    "display(user_missed.head(3))\n",
    "\n"
   ]
  },
  {
   "cell_type": "code",
   "execution_count": 35,
   "metadata": {},
   "outputs": [
    {
     "data": {
      "text/html": [
       "<div>\n",
       "<style scoped>\n",
       "    .dataframe tbody tr th:only-of-type {\n",
       "        vertical-align: middle;\n",
       "    }\n",
       "\n",
       "    .dataframe tbody tr th {\n",
       "        vertical-align: top;\n",
       "    }\n",
       "\n",
       "    .dataframe thead th {\n",
       "        text-align: right;\n",
       "    }\n",
       "</style>\n",
       "<table border=\"1\" class=\"dataframe\">\n",
       "  <thead>\n",
       "    <tr style=\"text-align: right;\">\n",
       "      <th></th>\n",
       "      <th>user_id</th>\n",
       "      <th>operator_id</th>\n",
       "      <th>принят</th>\n",
       "      <th>пропущен</th>\n",
       "      <th>total</th>\n",
       "      <th>missed_part</th>\n",
       "    </tr>\n",
       "  </thead>\n",
       "  <tbody>\n",
       "    <tr>\n",
       "      <td>0</td>\n",
       "      <td>166391</td>\n",
       "      <td>882476</td>\n",
       "      <td>3</td>\n",
       "      <td>0</td>\n",
       "      <td>3</td>\n",
       "      <td>0.0</td>\n",
       "    </tr>\n",
       "    <tr>\n",
       "      <td>1</td>\n",
       "      <td>166391</td>\n",
       "      <td>882478</td>\n",
       "      <td>1</td>\n",
       "      <td>0</td>\n",
       "      <td>1</td>\n",
       "      <td>0.0</td>\n",
       "    </tr>\n",
       "    <tr>\n",
       "      <td>2</td>\n",
       "      <td>166392</td>\n",
       "      <td>886892</td>\n",
       "      <td>2</td>\n",
       "      <td>0</td>\n",
       "      <td>2</td>\n",
       "      <td>0.0</td>\n",
       "    </tr>\n",
       "  </tbody>\n",
       "</table>\n",
       "</div>"
      ],
      "text/plain": [
       "  user_id operator_id  принят  пропущен  total  missed_part\n",
       "0  166391      882476       3         0      3          0.0\n",
       "1  166391      882478       1         0      1          0.0\n",
       "2  166392      886892       2         0      2          0.0"
      ]
     },
     "metadata": {},
     "output_type": "display_data"
    },
    {
     "data": {
      "text/html": [
       "<div>\n",
       "<style scoped>\n",
       "    .dataframe tbody tr th:only-of-type {\n",
       "        vertical-align: middle;\n",
       "    }\n",
       "\n",
       "    .dataframe tbody tr th {\n",
       "        vertical-align: top;\n",
       "    }\n",
       "\n",
       "    .dataframe thead th {\n",
       "        text-align: right;\n",
       "    }\n",
       "</style>\n",
       "<table border=\"1\" class=\"dataframe\">\n",
       "  <thead>\n",
       "    <tr style=\"text-align: right;\">\n",
       "      <th></th>\n",
       "      <th>count</th>\n",
       "      <th>mean</th>\n",
       "      <th>std</th>\n",
       "      <th>min</th>\n",
       "      <th>25%</th>\n",
       "      <th>50%</th>\n",
       "      <th>75%</th>\n",
       "      <th>max</th>\n",
       "    </tr>\n",
       "  </thead>\n",
       "  <tbody>\n",
       "    <tr>\n",
       "      <td>принят</td>\n",
       "      <td>277.0</td>\n",
       "      <td>238.606498</td>\n",
       "      <td>2021.920661</td>\n",
       "      <td>0.0</td>\n",
       "      <td>4.0</td>\n",
       "      <td>12.0</td>\n",
       "      <td>69.000000</td>\n",
       "      <td>33047.0</td>\n",
       "    </tr>\n",
       "    <tr>\n",
       "      <td>пропущен</td>\n",
       "      <td>277.0</td>\n",
       "      <td>18.418773</td>\n",
       "      <td>155.705075</td>\n",
       "      <td>0.0</td>\n",
       "      <td>0.0</td>\n",
       "      <td>0.0</td>\n",
       "      <td>5.000000</td>\n",
       "      <td>2551.0</td>\n",
       "    </tr>\n",
       "    <tr>\n",
       "      <td>total</td>\n",
       "      <td>277.0</td>\n",
       "      <td>257.025271</td>\n",
       "      <td>2176.250288</td>\n",
       "      <td>1.0</td>\n",
       "      <td>5.0</td>\n",
       "      <td>14.0</td>\n",
       "      <td>75.000000</td>\n",
       "      <td>35598.0</td>\n",
       "    </tr>\n",
       "    <tr>\n",
       "      <td>missed_part</td>\n",
       "      <td>277.0</td>\n",
       "      <td>7.859175</td>\n",
       "      <td>14.017480</td>\n",
       "      <td>0.0</td>\n",
       "      <td>0.0</td>\n",
       "      <td>0.0</td>\n",
       "      <td>9.090909</td>\n",
       "      <td>100.0</td>\n",
       "    </tr>\n",
       "  </tbody>\n",
       "</table>\n",
       "</div>"
      ],
      "text/plain": [
       "             count        mean          std  min  25%   50%        75%  \\\n",
       "принят       277.0  238.606498  2021.920661  0.0  4.0  12.0  69.000000   \n",
       "пропущен     277.0   18.418773   155.705075  0.0  0.0   0.0   5.000000   \n",
       "total        277.0  257.025271  2176.250288  1.0  5.0  14.0  75.000000   \n",
       "missed_part  277.0    7.859175    14.017480  0.0  0.0   0.0   9.090909   \n",
       "\n",
       "                 max  \n",
       "принят       33047.0  \n",
       "пропущен      2551.0  \n",
       "total        35598.0  \n",
       "missed_part    100.0  "
      ]
     },
     "execution_count": 35,
     "metadata": {},
     "output_type": "execute_result"
    }
   ],
   "source": [
    "# Сводная по операторам входящим пропущенным звонкам\n",
    "missed_group=data_in.pivot_table(index=[\"user_id\",\"operator_id\"],columns=[\"is_missed_call\"],\n",
    "               values=[\"calls_count\"],aggfunc={ \"calls_count\": np.sum},fill_value=0,margins=True,\n",
    "                       margins_name=\"total\")# сводная по количеству звонков\n",
    "missed_group.columns = missed_group.columns.droplevel(0)                                        \n",
    "missed_group = missed_group.reset_index().rename_axis(None, axis=0)# преобразование сводной в плоскую таблицу\n",
    "\n",
    "new_names= [\"user_id\",'operator_id','принят','пропущен','total']\n",
    "missed_group.set_axis(new_names, axis = 'columns', inplace = True)# переименование столбцов\n",
    "\n",
    "missed_group['missed_part']=missed_group['пропущен']/missed_group['total']*100\n",
    "display(missed_group.head(3))\n",
    "\n",
    "missed_group.describe().T"
   ]
  },
  {
   "cell_type": "code",
   "execution_count": 36,
   "metadata": {},
   "outputs": [
    {
     "data": {
      "text/html": [
       "<div>\n",
       "<style scoped>\n",
       "    .dataframe tbody tr th:only-of-type {\n",
       "        vertical-align: middle;\n",
       "    }\n",
       "\n",
       "    .dataframe tbody tr th {\n",
       "        vertical-align: top;\n",
       "    }\n",
       "\n",
       "    .dataframe thead th {\n",
       "        text-align: right;\n",
       "    }\n",
       "</style>\n",
       "<table border=\"1\" class=\"dataframe\">\n",
       "  <thead>\n",
       "    <tr style=\"text-align: right;\">\n",
       "      <th></th>\n",
       "      <th>user_id</th>\n",
       "      <th>operator_id</th>\n",
       "      <th>принят</th>\n",
       "      <th>пропущен</th>\n",
       "      <th>total</th>\n",
       "      <th>missed_part</th>\n",
       "      <th>user_missed_part</th>\n",
       "    </tr>\n",
       "  </thead>\n",
       "  <tbody>\n",
       "    <tr>\n",
       "      <td>0</td>\n",
       "      <td>166391</td>\n",
       "      <td>882476</td>\n",
       "      <td>3</td>\n",
       "      <td>0</td>\n",
       "      <td>3</td>\n",
       "      <td>0.0</td>\n",
       "      <td>0.0</td>\n",
       "    </tr>\n",
       "    <tr>\n",
       "      <td>1</td>\n",
       "      <td>166391</td>\n",
       "      <td>882478</td>\n",
       "      <td>1</td>\n",
       "      <td>0</td>\n",
       "      <td>1</td>\n",
       "      <td>0.0</td>\n",
       "      <td>0.0</td>\n",
       "    </tr>\n",
       "    <tr>\n",
       "      <td>2</td>\n",
       "      <td>166392</td>\n",
       "      <td>886892</td>\n",
       "      <td>2</td>\n",
       "      <td>0</td>\n",
       "      <td>2</td>\n",
       "      <td>0.0</td>\n",
       "      <td>0.0</td>\n",
       "    </tr>\n",
       "    <tr>\n",
       "      <td>3</td>\n",
       "      <td>166392</td>\n",
       "      <td>891900</td>\n",
       "      <td>25</td>\n",
       "      <td>0</td>\n",
       "      <td>25</td>\n",
       "      <td>0.0</td>\n",
       "      <td>0.0</td>\n",
       "    </tr>\n",
       "    <tr>\n",
       "      <td>4</td>\n",
       "      <td>166392</td>\n",
       "      <td>891906</td>\n",
       "      <td>46</td>\n",
       "      <td>0</td>\n",
       "      <td>46</td>\n",
       "      <td>0.0</td>\n",
       "      <td>0.0</td>\n",
       "    </tr>\n",
       "  </tbody>\n",
       "</table>\n",
       "</div>"
      ],
      "text/plain": [
       "  user_id operator_id  принят  пропущен  total  missed_part  user_missed_part\n",
       "0  166391      882476       3         0      3          0.0               0.0\n",
       "1  166391      882478       1         0      1          0.0               0.0\n",
       "2  166392      886892       2         0      2          0.0               0.0\n",
       "3  166392      891900      25         0     25          0.0               0.0\n",
       "4  166392      891906      46         0     46          0.0               0.0"
      ]
     },
     "metadata": {},
     "output_type": "display_data"
    }
   ],
   "source": [
    "missed_group=missed_group.merge(user_missed, on='user_id', how='inner')# объединение таблиц \n",
    "display(missed_group.head())\n"
   ]
  },
  {
   "cell_type": "markdown",
   "metadata": {},
   "source": [
    "<div class=\"alert alert-info\">\n",
    "    В среднем на оператора приходится до 8% пропущенных звонков от общего числа поступающих на него входящих вызовов, 75% операторов пропускают не более 9%.\n",
    "    Cреднее значение доли пропущенных звонков по каждому клиенту мы используем для определения эффективности операторов по показателю \"много пропущенных входящих вызовов\"."
   ]
  },
  {
   "cell_type": "code",
   "execution_count": 37,
   "metadata": {},
   "outputs": [
    {
     "data": {
      "text/html": [
       "<div>\n",
       "<style scoped>\n",
       "    .dataframe tbody tr th:only-of-type {\n",
       "        vertical-align: middle;\n",
       "    }\n",
       "\n",
       "    .dataframe tbody tr th {\n",
       "        vertical-align: top;\n",
       "    }\n",
       "\n",
       "    .dataframe thead th {\n",
       "        text-align: right;\n",
       "    }\n",
       "</style>\n",
       "<table border=\"1\" class=\"dataframe\">\n",
       "  <thead>\n",
       "    <tr style=\"text-align: right;\">\n",
       "      <th></th>\n",
       "      <th>user_id</th>\n",
       "      <th>operator_id</th>\n",
       "      <th>missed_part</th>\n",
       "      <th>effect_missed</th>\n",
       "    </tr>\n",
       "  </thead>\n",
       "  <tbody>\n",
       "    <tr>\n",
       "      <td>0</td>\n",
       "      <td>166391</td>\n",
       "      <td>882476</td>\n",
       "      <td>0.0</td>\n",
       "      <td>0</td>\n",
       "    </tr>\n",
       "    <tr>\n",
       "      <td>1</td>\n",
       "      <td>166391</td>\n",
       "      <td>882478</td>\n",
       "      <td>0.0</td>\n",
       "      <td>0</td>\n",
       "    </tr>\n",
       "    <tr>\n",
       "      <td>2</td>\n",
       "      <td>166392</td>\n",
       "      <td>886892</td>\n",
       "      <td>0.0</td>\n",
       "      <td>0</td>\n",
       "    </tr>\n",
       "    <tr>\n",
       "      <td>3</td>\n",
       "      <td>166392</td>\n",
       "      <td>891900</td>\n",
       "      <td>0.0</td>\n",
       "      <td>0</td>\n",
       "    </tr>\n",
       "    <tr>\n",
       "      <td>4</td>\n",
       "      <td>166392</td>\n",
       "      <td>891906</td>\n",
       "      <td>0.0</td>\n",
       "      <td>0</td>\n",
       "    </tr>\n",
       "  </tbody>\n",
       "</table>\n",
       "</div>"
      ],
      "text/plain": [
       "  user_id operator_id  missed_part  effect_missed\n",
       "0  166391      882476          0.0              0\n",
       "1  166391      882478          0.0              0\n",
       "2  166392      886892          0.0              0\n",
       "3  166392      891900          0.0              0\n",
       "4  166392      891906          0.0              0"
      ]
     },
     "execution_count": 37,
     "metadata": {},
     "output_type": "execute_result"
    }
   ],
   "source": [
    "in_missed =missed_group\n",
    "def missed(row):\n",
    "    for user_id in user_uniq:\n",
    "        info1 = row['missed_part']\n",
    "        info2 = row['user_missed_part']\n",
    "        if info1 > info2:\n",
    "            return 1\n",
    "        return 0  \n",
    "in_missed['effect_missed'] = in_missed.apply(missed,axis=1) #создание столбца с категориями \n",
    "in_missed=in_missed[['user_id','operator_id','missed_part','effect_missed']]\n",
    "#ОЦЕНКА ЭФФЕКТИВНОСТИ ПО КОЛИЧЕСТВУ ПРОПУЩЕННЫХ ЗВОНКОВ\n",
    "in_missed.head()"
   ]
  },
  {
   "cell_type": "code",
   "execution_count": 38,
   "metadata": {},
   "outputs": [
    {
     "name": "stdout",
     "output_type": "stream",
     "text": [
      "25.992779783393498\n"
     ]
    }
   ],
   "source": [
    "#ПРОВЕРКА\n",
    "in_missed1=in_missed.query('effect_missed >0')\n",
    "print(len(in_missed1)/len(in_missed)*100)# доля неэффективных по пропущенным звонкам\n"
   ]
  },
  {
   "cell_type": "code",
   "execution_count": 39,
   "metadata": {},
   "outputs": [
    {
     "data": {
      "text/html": [
       "<div>\n",
       "<style scoped>\n",
       "    .dataframe tbody tr th:only-of-type {\n",
       "        vertical-align: middle;\n",
       "    }\n",
       "\n",
       "    .dataframe tbody tr th {\n",
       "        vertical-align: top;\n",
       "    }\n",
       "\n",
       "    .dataframe thead th {\n",
       "        text-align: right;\n",
       "    }\n",
       "</style>\n",
       "<table border=\"1\" class=\"dataframe\">\n",
       "  <thead>\n",
       "    <tr style=\"text-align: right;\">\n",
       "      <th></th>\n",
       "      <th>user_id</th>\n",
       "      <th>operator_id</th>\n",
       "      <th>waiting</th>\n",
       "      <th>missed_part</th>\n",
       "      <th>effective_in</th>\n",
       "    </tr>\n",
       "  </thead>\n",
       "  <tbody>\n",
       "    <tr>\n",
       "      <td>0</td>\n",
       "      <td>166391</td>\n",
       "      <td>882476</td>\n",
       "      <td>31.666667</td>\n",
       "      <td>0.0</td>\n",
       "      <td>1</td>\n",
       "    </tr>\n",
       "    <tr>\n",
       "      <td>1</td>\n",
       "      <td>166391</td>\n",
       "      <td>882478</td>\n",
       "      <td>13.000000</td>\n",
       "      <td>0.0</td>\n",
       "      <td>0</td>\n",
       "    </tr>\n",
       "    <tr>\n",
       "      <td>2</td>\n",
       "      <td>166392</td>\n",
       "      <td>886892</td>\n",
       "      <td>58.000000</td>\n",
       "      <td>0.0</td>\n",
       "      <td>0</td>\n",
       "    </tr>\n",
       "    <tr>\n",
       "      <td>3</td>\n",
       "      <td>166392</td>\n",
       "      <td>891900</td>\n",
       "      <td>84.181818</td>\n",
       "      <td>0.0</td>\n",
       "      <td>1</td>\n",
       "    </tr>\n",
       "    <tr>\n",
       "      <td>4</td>\n",
       "      <td>166392</td>\n",
       "      <td>891906</td>\n",
       "      <td>68.666667</td>\n",
       "      <td>0.0</td>\n",
       "      <td>0</td>\n",
       "    </tr>\n",
       "  </tbody>\n",
       "</table>\n",
       "</div>"
      ],
      "text/plain": [
       "   user_id operator_id    waiting  missed_part  effective_in\n",
       "0   166391      882476  31.666667          0.0             1\n",
       "1   166391      882478  13.000000          0.0             0\n",
       "2   166392      886892  58.000000          0.0             0\n",
       "3   166392      891900  84.181818          0.0             1\n",
       "4   166392      891906  68.666667          0.0             0"
      ]
     },
     "execution_count": 39,
     "metadata": {},
     "output_type": "execute_result"
    }
   ],
   "source": [
    "effective_in=in_waiting.merge(in_missed, on='operator_id', how='inner')# объединение таблиц \n",
    "effective_in['effective_in']=effective_in['effect_wait']+effective_in['effect_missed']\n",
    "# признак эффективности оператора на входящих звонках по 2 параметрам. значение больше 0 - неэффективный оператор.\n",
    "effective_in=effective_in[['user_id_x','operator_id','waiting','missed_part','effective_in']]\n",
    "new_names= [\"user_id\",'operator_id','waiting','missed_part','effective_in']\n",
    "effective_in.set_axis(new_names, axis = 'columns', inplace = True)# переименование столбцов\n",
    "\n",
    "effective_in.head()"
   ]
  },
  {
   "cell_type": "code",
   "execution_count": 40,
   "metadata": {},
   "outputs": [
    {
     "data": {
      "text/plain": [
       "30"
      ]
     },
     "execution_count": 40,
     "metadata": {},
     "output_type": "execute_result"
    }
   ],
   "source": [
    "#ПРОВЕРКА\n",
    "in_not=effective_in.query('effective_in >1')\n",
    "len(in_not['operator_id'].unique())# уникальное количество неэффективных операторов на входящих по двум параметрам\n"
   ]
  },
  {
   "cell_type": "markdown",
   "metadata": {},
   "source": [
    "<div class=\"alert alert-info\">\n",
    "Таким образом, к  неэффективным операторам на входящих звонках  отнесены те операторы, у которых средние значения показателей оператора не превышают средних значений времени ожидания и доли пропущенных звонков клиента, к которому они относятся."
   ]
  },
  {
   "cell_type": "markdown",
   "metadata": {},
   "source": [
    "### Анализ данных по исходящим звонкам"
   ]
  },
  {
   "cell_type": "code",
   "execution_count": 41,
   "metadata": {},
   "outputs": [
    {
     "data": {
      "text/html": [
       "<div>\n",
       "<style scoped>\n",
       "    .dataframe tbody tr th:only-of-type {\n",
       "        vertical-align: middle;\n",
       "    }\n",
       "\n",
       "    .dataframe tbody tr th {\n",
       "        vertical-align: top;\n",
       "    }\n",
       "\n",
       "    .dataframe thead th {\n",
       "        text-align: right;\n",
       "    }\n",
       "</style>\n",
       "<table border=\"1\" class=\"dataframe\">\n",
       "  <thead>\n",
       "    <tr style=\"text-align: right;\">\n",
       "      <th></th>\n",
       "      <th>count</th>\n",
       "      <th>mean</th>\n",
       "      <th>std</th>\n",
       "      <th>min</th>\n",
       "      <th>25%</th>\n",
       "      <th>50%</th>\n",
       "      <th>75%</th>\n",
       "      <th>max</th>\n",
       "    </tr>\n",
       "  </thead>\n",
       "  <tbody>\n",
       "    <tr>\n",
       "      <td>operator_id</td>\n",
       "      <td>25448.0</td>\n",
       "      <td>916671.207325</td>\n",
       "      <td>21708.655470</td>\n",
       "      <td>879896.0</td>\n",
       "      <td>900194.0</td>\n",
       "      <td>918436.0</td>\n",
       "      <td>937788.00</td>\n",
       "      <td>973120.0</td>\n",
       "    </tr>\n",
       "    <tr>\n",
       "      <td>calls_count</td>\n",
       "      <td>25448.0</td>\n",
       "      <td>22.556193</td>\n",
       "      <td>72.271758</td>\n",
       "      <td>1.0</td>\n",
       "      <td>2.0</td>\n",
       "      <td>7.0</td>\n",
       "      <td>20.00</td>\n",
       "      <td>4817.0</td>\n",
       "    </tr>\n",
       "    <tr>\n",
       "      <td>call_duration</td>\n",
       "      <td>25448.0</td>\n",
       "      <td>1187.197972</td>\n",
       "      <td>4755.872607</td>\n",
       "      <td>0.0</td>\n",
       "      <td>0.0</td>\n",
       "      <td>113.0</td>\n",
       "      <td>944.25</td>\n",
       "      <td>144395.0</td>\n",
       "    </tr>\n",
       "    <tr>\n",
       "      <td>total_call_duration</td>\n",
       "      <td>25448.0</td>\n",
       "      <td>1609.072815</td>\n",
       "      <td>5626.458081</td>\n",
       "      <td>0.0</td>\n",
       "      <td>104.0</td>\n",
       "      <td>391.0</td>\n",
       "      <td>1376.00</td>\n",
       "      <td>166155.0</td>\n",
       "    </tr>\n",
       "    <tr>\n",
       "      <td>waiting</td>\n",
       "      <td>25448.0</td>\n",
       "      <td>421.874843</td>\n",
       "      <td>1376.629029</td>\n",
       "      <td>0.0</td>\n",
       "      <td>31.0</td>\n",
       "      <td>103.0</td>\n",
       "      <td>326.00</td>\n",
       "      <td>45312.0</td>\n",
       "    </tr>\n",
       "    <tr>\n",
       "      <td>duration_mean</td>\n",
       "      <td>25448.0</td>\n",
       "      <td>75.602091</td>\n",
       "      <td>63.799566</td>\n",
       "      <td>0.0</td>\n",
       "      <td>25.0</td>\n",
       "      <td>58.0</td>\n",
       "      <td>109.00</td>\n",
       "      <td>299.0</td>\n",
       "    </tr>\n",
       "  </tbody>\n",
       "</table>\n",
       "</div>"
      ],
      "text/plain": [
       "                       count           mean           std       min       25%  \\\n",
       "operator_id          25448.0  916671.207325  21708.655470  879896.0  900194.0   \n",
       "calls_count          25448.0      22.556193     72.271758       1.0       2.0   \n",
       "call_duration        25448.0    1187.197972   4755.872607       0.0       0.0   \n",
       "total_call_duration  25448.0    1609.072815   5626.458081       0.0     104.0   \n",
       "waiting              25448.0     421.874843   1376.629029       0.0      31.0   \n",
       "duration_mean        25448.0      75.602091     63.799566       0.0      25.0   \n",
       "\n",
       "                          50%        75%       max  \n",
       "operator_id          918436.0  937788.00  973120.0  \n",
       "calls_count               7.0      20.00    4817.0  \n",
       "call_duration           113.0     944.25  144395.0  \n",
       "total_call_duration     391.0    1376.00  166155.0  \n",
       "waiting                 103.0     326.00   45312.0  \n",
       "duration_mean            58.0     109.00     299.0  "
      ]
     },
     "execution_count": 41,
     "metadata": {},
     "output_type": "execute_result"
    }
   ],
   "source": [
    "data_out=data_fin.query('in_out_group == \"обзвоны\"')\n",
    "data_out.describe().T # изучим разброс значений, среднее и медиану."
   ]
  },
  {
   "cell_type": "code",
   "execution_count": 42,
   "metadata": {},
   "outputs": [
    {
     "data": {
      "text/plain": [
       "763"
      ]
     },
     "execution_count": 42,
     "metadata": {},
     "output_type": "execute_result"
    }
   ],
   "source": [
    "len(data_out['operator_id'].unique())# уникальное количество операторов на обзвонах"
   ]
  },
  {
   "cell_type": "code",
   "execution_count": 43,
   "metadata": {},
   "outputs": [
    {
     "data": {
      "image/png": "[encoded data removed]",
      "text/plain": [
       "<Figure size 432x288 with 1 Axes>"
      ]
     },
     "metadata": {},
     "output_type": "display_data"
    }
   ],
   "source": [
    "data_out.boxplot('calls_count') \n",
    "plt.title('Распределение данных о количестве исходящих звонков')\n",
    "plt.show()"
   ]
  },
  {
   "cell_type": "markdown",
   "metadata": {},
   "source": [
    "<div class=\"alert alert-info\">\n",
    "Данные по исходящим звонкам имеют выбросы. Исключим из данных по исходящим звонкам 2 аномальные записи по количеству звонков"
   ]
  },
  {
   "cell_type": "code",
   "execution_count": 44,
   "metadata": {},
   "outputs": [
    {
     "data": {
      "text/html": [
       "<div>\n",
       "<style scoped>\n",
       "    .dataframe tbody tr th:only-of-type {\n",
       "        vertical-align: middle;\n",
       "    }\n",
       "\n",
       "    .dataframe tbody tr th {\n",
       "        vertical-align: top;\n",
       "    }\n",
       "\n",
       "    .dataframe thead th {\n",
       "        text-align: right;\n",
       "    }\n",
       "</style>\n",
       "<table border=\"1\" class=\"dataframe\">\n",
       "  <thead>\n",
       "    <tr style=\"text-align: right;\">\n",
       "      <th></th>\n",
       "      <th>count</th>\n",
       "      <th>mean</th>\n",
       "      <th>std</th>\n",
       "      <th>min</th>\n",
       "      <th>25%</th>\n",
       "      <th>50%</th>\n",
       "      <th>75%</th>\n",
       "      <th>max</th>\n",
       "    </tr>\n",
       "  </thead>\n",
       "  <tbody>\n",
       "    <tr>\n",
       "      <td>operator_id</td>\n",
       "      <td>25446.0</td>\n",
       "      <td>916670.204669</td>\n",
       "      <td>21709.213990</td>\n",
       "      <td>879896.0</td>\n",
       "      <td>900194.0</td>\n",
       "      <td>918436.0</td>\n",
       "      <td>937788.00</td>\n",
       "      <td>973120.0</td>\n",
       "    </tr>\n",
       "    <tr>\n",
       "      <td>calls_count</td>\n",
       "      <td>25446.0</td>\n",
       "      <td>22.265936</td>\n",
       "      <td>63.688465</td>\n",
       "      <td>1.0</td>\n",
       "      <td>2.0</td>\n",
       "      <td>7.0</td>\n",
       "      <td>20.00</td>\n",
       "      <td>1533.0</td>\n",
       "    </tr>\n",
       "    <tr>\n",
       "      <td>call_duration</td>\n",
       "      <td>25446.0</td>\n",
       "      <td>1187.291284</td>\n",
       "      <td>4756.047864</td>\n",
       "      <td>0.0</td>\n",
       "      <td>0.0</td>\n",
       "      <td>113.0</td>\n",
       "      <td>944.75</td>\n",
       "      <td>144395.0</td>\n",
       "    </tr>\n",
       "    <tr>\n",
       "      <td>total_call_duration</td>\n",
       "      <td>25446.0</td>\n",
       "      <td>1607.201289</td>\n",
       "      <td>5619.951040</td>\n",
       "      <td>0.0</td>\n",
       "      <td>104.0</td>\n",
       "      <td>391.0</td>\n",
       "      <td>1375.00</td>\n",
       "      <td>166155.0</td>\n",
       "    </tr>\n",
       "    <tr>\n",
       "      <td>waiting</td>\n",
       "      <td>25446.0</td>\n",
       "      <td>419.910006</td>\n",
       "      <td>1347.231331</td>\n",
       "      <td>0.0</td>\n",
       "      <td>31.0</td>\n",
       "      <td>103.0</td>\n",
       "      <td>326.00</td>\n",
       "      <td>33367.0</td>\n",
       "    </tr>\n",
       "    <tr>\n",
       "      <td>duration_mean</td>\n",
       "      <td>25446.0</td>\n",
       "      <td>75.607325</td>\n",
       "      <td>63.799301</td>\n",
       "      <td>0.0</td>\n",
       "      <td>25.0</td>\n",
       "      <td>58.0</td>\n",
       "      <td>109.00</td>\n",
       "      <td>299.0</td>\n",
       "    </tr>\n",
       "  </tbody>\n",
       "</table>\n",
       "</div>"
      ],
      "text/plain": [
       "                       count           mean           std       min       25%  \\\n",
       "operator_id          25446.0  916670.204669  21709.213990  879896.0  900194.0   \n",
       "calls_count          25446.0      22.265936     63.688465       1.0       2.0   \n",
       "call_duration        25446.0    1187.291284   4756.047864       0.0       0.0   \n",
       "total_call_duration  25446.0    1607.201289   5619.951040       0.0     104.0   \n",
       "waiting              25446.0     419.910006   1347.231331       0.0      31.0   \n",
       "duration_mean        25446.0      75.607325     63.799301       0.0      25.0   \n",
       "\n",
       "                          50%        75%       max  \n",
       "operator_id          918436.0  937788.00  973120.0  \n",
       "calls_count               7.0      20.00    1533.0  \n",
       "call_duration           113.0     944.75  144395.0  \n",
       "total_call_duration     391.0    1375.00  166155.0  \n",
       "waiting                 103.0     326.00   33367.0  \n",
       "duration_mean            58.0     109.00     299.0  "
      ]
     },
     "execution_count": 44,
     "metadata": {},
     "output_type": "execute_result"
    }
   ],
   "source": [
    "data_out_fin=data_out.query('calls_count < 2000')# срез данных без выбросов\n",
    "data_out_fin.describe().T"
   ]
  },
  {
   "cell_type": "markdown",
   "metadata": {},
   "source": [
    "<div class=\"alert alert-info\">\n",
    "В среднем у операторов колл-центров, специализирующихся обзвонах по 22 звонка в сутки, средней длительностью - 76 секунд.\n",
    "75% операторов совершают до 20 звонков. Менее 25% операторов совершают 2 звонка. Среднее значение по количеству исходящих вызовов по каждому клиенту мы используем как пороговое  для определения эффективности операторов по параметру \"мало исходящих вызовов\"."
   ]
  },
  {
   "cell_type": "code",
   "execution_count": 45,
   "metadata": {},
   "outputs": [
    {
     "data": {
      "text/html": [
       "<div>\n",
       "<style scoped>\n",
       "    .dataframe tbody tr th:only-of-type {\n",
       "        vertical-align: middle;\n",
       "    }\n",
       "\n",
       "    .dataframe tbody tr th {\n",
       "        vertical-align: top;\n",
       "    }\n",
       "\n",
       "    .dataframe thead th {\n",
       "        text-align: right;\n",
       "    }\n",
       "</style>\n",
       "<table border=\"1\" class=\"dataframe\">\n",
       "  <thead>\n",
       "    <tr style=\"text-align: right;\">\n",
       "      <th></th>\n",
       "      <th>user_id</th>\n",
       "      <th>user_calls_count</th>\n",
       "    </tr>\n",
       "  </thead>\n",
       "  <tbody>\n",
       "    <tr>\n",
       "      <td>0</td>\n",
       "      <td>166377</td>\n",
       "      <td>11.080402</td>\n",
       "    </tr>\n",
       "    <tr>\n",
       "      <td>1</td>\n",
       "      <td>166405</td>\n",
       "      <td>14.723140</td>\n",
       "    </tr>\n",
       "  </tbody>\n",
       "</table>\n",
       "</div>"
      ],
      "text/plain": [
       "   user_id  user_calls_count\n",
       "0   166377         11.080402\n",
       "1   166405         14.723140"
      ]
     },
     "execution_count": 45,
     "metadata": {},
     "output_type": "execute_result"
    }
   ],
   "source": [
    "#среднее количество звонков по клиенту\n",
    "user_out_calls =data_out_fin.groupby(['user_id']).mean().reset_index()\n",
    "user_out_calls=user_out_calls[['user_id','calls_count']]\n",
    "new_names= [\"user_id\",'user_calls_count']\n",
    "user_out_calls.set_axis(new_names, axis = 'columns', inplace = True)# переименование столбцов\n",
    "user_out_calls.head(2)"
   ]
  },
  {
   "cell_type": "code",
   "execution_count": 46,
   "metadata": {},
   "outputs": [
    {
     "data": {
      "text/html": [
       "<div>\n",
       "<style scoped>\n",
       "    .dataframe tbody tr th:only-of-type {\n",
       "        vertical-align: middle;\n",
       "    }\n",
       "\n",
       "    .dataframe tbody tr th {\n",
       "        vertical-align: top;\n",
       "    }\n",
       "\n",
       "    .dataframe thead th {\n",
       "        text-align: right;\n",
       "    }\n",
       "</style>\n",
       "<table border=\"1\" class=\"dataframe\">\n",
       "  <thead>\n",
       "    <tr style=\"text-align: right;\">\n",
       "      <th></th>\n",
       "      <th>user_id</th>\n",
       "      <th>operator_id</th>\n",
       "      <th>internal</th>\n",
       "      <th>is_missed_call</th>\n",
       "      <th>calls_count</th>\n",
       "      <th>call_duration</th>\n",
       "      <th>total_call_duration</th>\n",
       "      <th>waiting</th>\n",
       "      <th>duration_mean</th>\n",
       "      <th>user_calls_count</th>\n",
       "    </tr>\n",
       "  </thead>\n",
       "  <tbody>\n",
       "    <tr>\n",
       "      <td>0</td>\n",
       "      <td>166377</td>\n",
       "      <td>880020</td>\n",
       "      <td>0.0</td>\n",
       "      <td>0.200000</td>\n",
       "      <td>2.133333</td>\n",
       "      <td>146.000000</td>\n",
       "      <td>160.466667</td>\n",
       "      <td>14.466667</td>\n",
       "      <td>65.800000</td>\n",
       "      <td>11.080402</td>\n",
       "    </tr>\n",
       "    <tr>\n",
       "      <td>1</td>\n",
       "      <td>166377</td>\n",
       "      <td>880022</td>\n",
       "      <td>0.0</td>\n",
       "      <td>0.320755</td>\n",
       "      <td>2.905660</td>\n",
       "      <td>181.056604</td>\n",
       "      <td>240.396226</td>\n",
       "      <td>59.339623</td>\n",
       "      <td>90.264151</td>\n",
       "      <td>11.080402</td>\n",
       "    </tr>\n",
       "  </tbody>\n",
       "</table>\n",
       "</div>"
      ],
      "text/plain": [
       "   user_id  operator_id  internal  is_missed_call  calls_count  call_duration  \\\n",
       "0   166377       880020       0.0        0.200000     2.133333     146.000000   \n",
       "1   166377       880022       0.0        0.320755     2.905660     181.056604   \n",
       "\n",
       "   total_call_duration    waiting  duration_mean  user_calls_count  \n",
       "0           160.466667  14.466667      65.800000         11.080402  \n",
       "1           240.396226  59.339623      90.264151         11.080402  "
      ]
     },
     "execution_count": 46,
     "metadata": {},
     "output_type": "execute_result"
    }
   ],
   "source": [
    "#среднее количество звонков по операторам\n",
    "out_calls =data_out_fin.groupby(['user_id','operator_id']).mean().reset_index()\n",
    "out_calls=out_calls.merge(user_out_calls, on='user_id', how='left')# объединение таблиц \n",
    "out_calls.head(2)"
   ]
  },
  {
   "cell_type": "code",
   "execution_count": 47,
   "metadata": {},
   "outputs": [
    {
     "data": {
      "text/html": [
       "<div>\n",
       "<style scoped>\n",
       "    .dataframe tbody tr th:only-of-type {\n",
       "        vertical-align: middle;\n",
       "    }\n",
       "\n",
       "    .dataframe tbody tr th {\n",
       "        vertical-align: top;\n",
       "    }\n",
       "\n",
       "    .dataframe thead th {\n",
       "        text-align: right;\n",
       "    }\n",
       "</style>\n",
       "<table border=\"1\" class=\"dataframe\">\n",
       "  <thead>\n",
       "    <tr style=\"text-align: right;\">\n",
       "      <th></th>\n",
       "      <th>operator_id</th>\n",
       "      <th>count_calls_out</th>\n",
       "      <th>effect_out_calls</th>\n",
       "    </tr>\n",
       "  </thead>\n",
       "  <tbody>\n",
       "    <tr>\n",
       "      <td>0</td>\n",
       "      <td>880020</td>\n",
       "      <td>2.133333</td>\n",
       "      <td>0</td>\n",
       "    </tr>\n",
       "    <tr>\n",
       "      <td>1</td>\n",
       "      <td>880022</td>\n",
       "      <td>2.905660</td>\n",
       "      <td>0</td>\n",
       "    </tr>\n",
       "    <tr>\n",
       "      <td>2</td>\n",
       "      <td>880026</td>\n",
       "      <td>13.025974</td>\n",
       "      <td>1</td>\n",
       "    </tr>\n",
       "    <tr>\n",
       "      <td>3</td>\n",
       "      <td>880028</td>\n",
       "      <td>12.900585</td>\n",
       "      <td>1</td>\n",
       "    </tr>\n",
       "    <tr>\n",
       "      <td>4</td>\n",
       "      <td>881278</td>\n",
       "      <td>2.400000</td>\n",
       "      <td>0</td>\n",
       "    </tr>\n",
       "  </tbody>\n",
       "</table>\n",
       "</div>"
      ],
      "text/plain": [
       "   operator_id  count_calls_out  effect_out_calls\n",
       "0       880020         2.133333                 0\n",
       "1       880022         2.905660                 0\n",
       "2       880026        13.025974                 1\n",
       "3       880028        12.900585                 1\n",
       "4       881278         2.400000                 0"
      ]
     },
     "execution_count": 47,
     "metadata": {},
     "output_type": "execute_result"
    }
   ],
   "source": [
    "def effect_out(row):\n",
    "    for user_id in user_uniq:\n",
    "        info1 = row['calls_count']\n",
    "        info2 = row['user_calls_count']\n",
    "        if info1 > info2:\n",
    "            return 1\n",
    "        return 0\n",
    "out_calls['effect_out_calls'] = out_calls.apply(effect_out, axis=1)\n",
    "out_calls=out_calls[['operator_id','calls_count','effect_out_calls']]\n",
    "out_calls=out_calls.rename(columns = {'calls_count':'count_calls_out'})\n",
    "#ОЦЕНКА ЭФФЕКТИВНОСТИ ПО КОЛИЧЕСТВУ ИСХОДЯЩИХ ЗВОНКОВ\n",
    "out_calls.head()"
   ]
  },
  {
   "cell_type": "code",
   "execution_count": 48,
   "metadata": {},
   "outputs": [
    {
     "data": {
      "text/plain": [
       "261"
      ]
     },
     "execution_count": 48,
     "metadata": {},
     "output_type": "execute_result"
    }
   ],
   "source": [
    "#ПРОВЕРКА\n",
    "out_not=out_calls.query('effect_out_calls >0')\n",
    "len(out_not['operator_id'].unique())# уникальное количество неэффективных операторов по количеству исходящих звонков."
   ]
  },
  {
   "cell_type": "code",
   "execution_count": 49,
   "metadata": {},
   "outputs": [
    {
     "data": {
      "text/plain": [
       "34.20707732634338"
      ]
     },
     "execution_count": 49,
     "metadata": {},
     "output_type": "execute_result"
    }
   ],
   "source": [
    "len(out_not['operator_id'].unique())/len(data_out['operator_id'].unique())*100"
   ]
  },
  {
   "cell_type": "code",
   "execution_count": 50,
   "metadata": {},
   "outputs": [],
   "source": [
    "effective=in_not.merge(out_calls, on='operator_id', how='outer').apply(lambda x: x.fillna(0))\n",
    "effective['effective_total']=effective['effect_out_calls']+effective['effective_in'] # значение больше 0 - неэффективный оператор.\n",
    "\n",
    "def effective_not(effective_total):\n",
    "    if effective_total !=0:\n",
    "            return 'неэффективный'\n",
    "    return 'эффективный'\n",
    "effective['effective_not'] = effective['effective_total'].apply(effective_not) #создание столбца с категориями \n",
    "\n",
    "effective=effective[['operator_id','waiting','missed_part','count_calls_out','effective_not']]\n"
   ]
  },
  {
   "cell_type": "markdown",
   "metadata": {},
   "source": [
    "**Список неэффективных операторов с признаками неэффективности**\n",
    "\n"
   ]
  },
  {
   "cell_type": "code",
   "execution_count": 51,
   "metadata": {},
   "outputs": [
    {
     "data": {
      "text/html": [
       "<div>\n",
       "<style scoped>\n",
       "    .dataframe tbody tr th:only-of-type {\n",
       "        vertical-align: middle;\n",
       "    }\n",
       "\n",
       "    .dataframe tbody tr th {\n",
       "        vertical-align: top;\n",
       "    }\n",
       "\n",
       "    .dataframe thead th {\n",
       "        text-align: right;\n",
       "    }\n",
       "</style>\n",
       "<table border=\"1\" class=\"dataframe\">\n",
       "  <thead>\n",
       "    <tr style=\"text-align: right;\">\n",
       "      <th></th>\n",
       "      <th>operator_id</th>\n",
       "      <th>waiting</th>\n",
       "      <th>missed_part</th>\n",
       "      <th>count_calls_out</th>\n",
       "      <th>effective_not</th>\n",
       "    </tr>\n",
       "  </thead>\n",
       "  <tbody>\n",
       "    <tr>\n",
       "      <td>0</td>\n",
       "      <td>882680.0</td>\n",
       "      <td>39.0</td>\n",
       "      <td>4.0</td>\n",
       "      <td>0.0</td>\n",
       "      <td>неэффективный</td>\n",
       "    </tr>\n",
       "    <tr>\n",
       "      <td>1</td>\n",
       "      <td>934076.0</td>\n",
       "      <td>44.0</td>\n",
       "      <td>9.0</td>\n",
       "      <td>0.0</td>\n",
       "      <td>неэффективный</td>\n",
       "    </tr>\n",
       "    <tr>\n",
       "      <td>2</td>\n",
       "      <td>891918.0</td>\n",
       "      <td>26.0</td>\n",
       "      <td>25.0</td>\n",
       "      <td>0.0</td>\n",
       "      <td>неэффективный</td>\n",
       "    </tr>\n",
       "    <tr>\n",
       "      <td>3</td>\n",
       "      <td>895574.0</td>\n",
       "      <td>31.0</td>\n",
       "      <td>3.0</td>\n",
       "      <td>0.0</td>\n",
       "      <td>неэффективный</td>\n",
       "    </tr>\n",
       "    <tr>\n",
       "      <td>4</td>\n",
       "      <td>896016.0</td>\n",
       "      <td>33.0</td>\n",
       "      <td>27.0</td>\n",
       "      <td>0.0</td>\n",
       "      <td>неэффективный</td>\n",
       "    </tr>\n",
       "  </tbody>\n",
       "</table>\n",
       "</div>"
      ],
      "text/plain": [
       "   operator_id  waiting  missed_part  count_calls_out  effective_not\n",
       "0     882680.0     39.0          4.0              0.0  неэффективный\n",
       "1     934076.0     44.0          9.0              0.0  неэффективный\n",
       "2     891918.0     26.0         25.0              0.0  неэффективный\n",
       "3     895574.0     31.0          3.0              0.0  неэффективный\n",
       "4     896016.0     33.0         27.0              0.0  неэффективный"
      ]
     },
     "execution_count": 51,
     "metadata": {},
     "output_type": "execute_result"
    }
   ],
   "source": [
    "# объединение таблиц с данными об эффективнности входящих и исходящих операторов\n",
    "not_effective=effective.query('effective_not == \"неэффективный\"')\n",
    "#not_effective.rename(columns = {'calls_count_x':'count_calls_in', 'calls_count_y':'count_calls_out'})\n",
    "#переименование названия столбцов\n",
    "not_effective=not_effective.round(0)\n",
    "\n",
    "not_effective.head()\n"
   ]
  },
  {
   "cell_type": "code",
   "execution_count": 52,
   "metadata": {},
   "outputs": [
    {
     "name": "stdout",
     "output_type": "stream",
     "text": [
      "1039\n",
      "291\n"
     ]
    },
    {
     "data": {
      "text/plain": [
       "28.007699711260827"
      ]
     },
     "execution_count": 52,
     "metadata": {},
     "output_type": "execute_result"
    }
   ],
   "source": [
    "print(len(data_fin['operator_id'].unique ())) #уникальных операторов\n",
    "\n",
    "print(len(not_effective)) # неэффективных операторов\n",
    "len(not_effective)/len(data_fin['operator_id'].unique ())*100 #доля  неэффективных операторов"
   ]
  },
  {
   "cell_type": "markdown",
   "metadata": {},
   "source": [
    "<div class=\"alert alert-info\">\n",
    "Доля неэффективных операторов составляет около 19% от общего числа."
   ]
  },
  {
   "cell_type": "markdown",
   "metadata": {},
   "source": [
    "**Детализация эффективности операторов по клиентам и тарифным планам**"
   ]
  },
  {
   "cell_type": "code",
   "execution_count": 53,
   "metadata": {},
   "outputs": [
    {
     "data": {
      "text/html": [
       "<div>\n",
       "<style scoped>\n",
       "    .dataframe tbody tr th:only-of-type {\n",
       "        vertical-align: middle;\n",
       "    }\n",
       "\n",
       "    .dataframe tbody tr th {\n",
       "        vertical-align: top;\n",
       "    }\n",
       "\n",
       "    .dataframe thead th {\n",
       "        text-align: right;\n",
       "    }\n",
       "</style>\n",
       "<table border=\"1\" class=\"dataframe\">\n",
       "  <thead>\n",
       "    <tr style=\"text-align: right;\">\n",
       "      <th></th>\n",
       "      <th>operator_id</th>\n",
       "      <th>user_id</th>\n",
       "      <th>tariff_plan</th>\n",
       "      <th>in_out_group</th>\n",
       "      <th>calls_count</th>\n",
       "      <th>waiting</th>\n",
       "      <th>missed_part</th>\n",
       "      <th>count_calls_out</th>\n",
       "      <th>effective_not</th>\n",
       "    </tr>\n",
       "  </thead>\n",
       "  <tbody>\n",
       "    <tr>\n",
       "      <td>0</td>\n",
       "      <td>879896</td>\n",
       "      <td>166406</td>\n",
       "      <td>B</td>\n",
       "      <td>обзвоны</td>\n",
       "      <td>668</td>\n",
       "      <td>0.0</td>\n",
       "      <td>0.0</td>\n",
       "      <td>7.590909</td>\n",
       "      <td>эффективный</td>\n",
       "    </tr>\n",
       "    <tr>\n",
       "      <td>1</td>\n",
       "      <td>879898</td>\n",
       "      <td>166406</td>\n",
       "      <td>B</td>\n",
       "      <td>обзвоны</td>\n",
       "      <td>6633</td>\n",
       "      <td>0.0</td>\n",
       "      <td>0.0</td>\n",
       "      <td>35.470588</td>\n",
       "      <td>неэффективный</td>\n",
       "    </tr>\n",
       "    <tr>\n",
       "      <td>2</td>\n",
       "      <td>880020</td>\n",
       "      <td>166377</td>\n",
       "      <td>B</td>\n",
       "      <td>обзвоны</td>\n",
       "      <td>32</td>\n",
       "      <td>0.0</td>\n",
       "      <td>0.0</td>\n",
       "      <td>2.133333</td>\n",
       "      <td>эффективный</td>\n",
       "    </tr>\n",
       "    <tr>\n",
       "      <td>3</td>\n",
       "      <td>880022</td>\n",
       "      <td>166377</td>\n",
       "      <td>B</td>\n",
       "      <td>обзвоны</td>\n",
       "      <td>154</td>\n",
       "      <td>0.0</td>\n",
       "      <td>0.0</td>\n",
       "      <td>2.905660</td>\n",
       "      <td>эффективный</td>\n",
       "    </tr>\n",
       "    <tr>\n",
       "      <td>4</td>\n",
       "      <td>880026</td>\n",
       "      <td>166377</td>\n",
       "      <td>B</td>\n",
       "      <td>обзвоны</td>\n",
       "      <td>2006</td>\n",
       "      <td>0.0</td>\n",
       "      <td>0.0</td>\n",
       "      <td>13.025974</td>\n",
       "      <td>неэффективный</td>\n",
       "    </tr>\n",
       "  </tbody>\n",
       "</table>\n",
       "</div>"
      ],
      "text/plain": [
       "   operator_id  user_id tariff_plan in_out_group  calls_count  waiting  \\\n",
       "0       879896   166406           B      обзвоны          668      0.0   \n",
       "1       879898   166406           B      обзвоны         6633      0.0   \n",
       "2       880020   166377           B      обзвоны           32      0.0   \n",
       "3       880022   166377           B      обзвоны          154      0.0   \n",
       "4       880026   166377           B      обзвоны         2006      0.0   \n",
       "\n",
       "   missed_part  count_calls_out  effective_not  \n",
       "0          0.0         7.590909    эффективный  \n",
       "1          0.0        35.470588  неэффективный  \n",
       "2          0.0         2.133333    эффективный  \n",
       "3          0.0         2.905660    эффективный  \n",
       "4          0.0        13.025974  неэффективный  "
      ]
     },
     "execution_count": 53,
     "metadata": {},
     "output_type": "execute_result"
    }
   ],
   "source": [
    "#data_fin.head()\n",
    "operator_user=data_fin.pivot_table(index=[\"operator_id\",'user_id','tariff_plan','in_out_group'],\n",
    "               values=[\"calls_count\"],aggfunc={ \"calls_count\": np.sum},fill_value=0).reset_index()# сводная по количеству звонков\n",
    "operator_user=operator_user.merge(effective, on='operator_id', how='inner').apply(lambda x: x.fillna(0))\n",
    "operator_user.head() #данные по операторам/тарифам/клиентам/эффективности\n",
    "#operator_user['effective_not'].nunique()"
   ]
  },
  {
   "cell_type": "markdown",
   "metadata": {},
   "source": [
    "### Целевая аудитория клиентов"
   ]
  },
  {
   "cell_type": "code",
   "execution_count": 54,
   "metadata": {},
   "outputs": [
    {
     "data": {
      "text/html": [
       "<div>\n",
       "<style scoped>\n",
       "    .dataframe tbody tr th:only-of-type {\n",
       "        vertical-align: middle;\n",
       "    }\n",
       "\n",
       "    .dataframe tbody tr th {\n",
       "        vertical-align: top;\n",
       "    }\n",
       "\n",
       "    .dataframe thead th {\n",
       "        text-align: right;\n",
       "    }\n",
       "</style>\n",
       "<table border=\"1\" class=\"dataframe\">\n",
       "  <thead>\n",
       "    <tr style=\"text-align: right;\">\n",
       "      <th></th>\n",
       "      <th>неэффективный</th>\n",
       "      <th>эффективный</th>\n",
       "      <th>total</th>\n",
       "      <th>not_effective_part</th>\n",
       "    </tr>\n",
       "  </thead>\n",
       "  <tbody>\n",
       "    <tr>\n",
       "      <td>count</td>\n",
       "      <td>194.000000</td>\n",
       "      <td>194.000000</td>\n",
       "      <td>194.000000</td>\n",
       "      <td>194.000000</td>\n",
       "    </tr>\n",
       "    <tr>\n",
       "      <td>mean</td>\n",
       "      <td>3.000000</td>\n",
       "      <td>5.175258</td>\n",
       "      <td>8.175258</td>\n",
       "      <td>39.302238</td>\n",
       "    </tr>\n",
       "    <tr>\n",
       "      <td>std</td>\n",
       "      <td>20.916563</td>\n",
       "      <td>36.113239</td>\n",
       "      <td>57.001320</td>\n",
       "      <td>32.642047</td>\n",
       "    </tr>\n",
       "    <tr>\n",
       "      <td>min</td>\n",
       "      <td>0.000000</td>\n",
       "      <td>0.000000</td>\n",
       "      <td>1.000000</td>\n",
       "      <td>0.000000</td>\n",
       "    </tr>\n",
       "    <tr>\n",
       "      <td>25%</td>\n",
       "      <td>0.250000</td>\n",
       "      <td>1.000000</td>\n",
       "      <td>1.000000</td>\n",
       "      <td>1.923077</td>\n",
       "    </tr>\n",
       "    <tr>\n",
       "      <td>50%</td>\n",
       "      <td>1.000000</td>\n",
       "      <td>1.000000</td>\n",
       "      <td>2.000000</td>\n",
       "      <td>37.037037</td>\n",
       "    </tr>\n",
       "    <tr>\n",
       "      <td>75%</td>\n",
       "      <td>2.000000</td>\n",
       "      <td>3.000000</td>\n",
       "      <td>4.750000</td>\n",
       "      <td>50.000000</td>\n",
       "    </tr>\n",
       "    <tr>\n",
       "      <td>max</td>\n",
       "      <td>291.000000</td>\n",
       "      <td>502.000000</td>\n",
       "      <td>793.000000</td>\n",
       "      <td>100.000000</td>\n",
       "    </tr>\n",
       "  </tbody>\n",
       "</table>\n",
       "</div>"
      ],
      "text/plain": [
       "       неэффективный  эффективный       total  not_effective_part\n",
       "count     194.000000   194.000000  194.000000          194.000000\n",
       "mean        3.000000     5.175258    8.175258           39.302238\n",
       "std        20.916563    36.113239   57.001320           32.642047\n",
       "min         0.000000     0.000000    1.000000            0.000000\n",
       "25%         0.250000     1.000000    1.000000            1.923077\n",
       "50%         1.000000     1.000000    2.000000           37.037037\n",
       "75%         2.000000     3.000000    4.750000           50.000000\n",
       "max       291.000000   502.000000  793.000000          100.000000"
      ]
     },
     "execution_count": 54,
     "metadata": {},
     "output_type": "execute_result"
    }
   ],
   "source": [
    "user=operator_user.pivot_table(index=[\"user_id\"],columns=[\"effective_not\"],\n",
    "               values=[\"operator_id\"],aggfunc='count',fill_value=0,margins=True,\n",
    "                       margins_name=\"total\")\n",
    "\n",
    "user.columns = user.columns.droplevel(0)                                        \n",
    "user = user.reset_index().rename_axis(None, axis=0)# преобразование сводной в плоскую таблицу\n",
    "new_names= ['user_id','неэффективный','эффективный','total']\n",
    "user.set_axis(new_names, axis = 'columns', inplace = True)# переименование столбцов\n",
    "\n",
    "user['not_effective_part']=user['неэффективный']/user['total']*100\n",
    "user.describe()\n"
   ]
  },
  {
   "cell_type": "code",
   "execution_count": 55,
   "metadata": {},
   "outputs": [
    {
     "data": {
      "text/html": [
       "<div>\n",
       "<style scoped>\n",
       "    .dataframe tbody tr th:only-of-type {\n",
       "        vertical-align: middle;\n",
       "    }\n",
       "\n",
       "    .dataframe tbody tr th {\n",
       "        vertical-align: top;\n",
       "    }\n",
       "\n",
       "    .dataframe thead th {\n",
       "        text-align: right;\n",
       "    }\n",
       "</style>\n",
       "<table border=\"1\" class=\"dataframe\">\n",
       "  <thead>\n",
       "    <tr style=\"text-align: right;\">\n",
       "      <th></th>\n",
       "      <th>index</th>\n",
       "      <th>user_id</th>\n",
       "      <th>неэффективный</th>\n",
       "      <th>эффективный</th>\n",
       "      <th>total</th>\n",
       "      <th>not_effective_part</th>\n",
       "    </tr>\n",
       "  </thead>\n",
       "  <tbody>\n",
       "    <tr>\n",
       "      <td>0</td>\n",
       "      <td>1</td>\n",
       "      <td>166405</td>\n",
       "      <td>5</td>\n",
       "      <td>5</td>\n",
       "      <td>10</td>\n",
       "      <td>50.000000</td>\n",
       "    </tr>\n",
       "    <tr>\n",
       "      <td>1</td>\n",
       "      <td>18</td>\n",
       "      <td>166658</td>\n",
       "      <td>8</td>\n",
       "      <td>9</td>\n",
       "      <td>17</td>\n",
       "      <td>47.058824</td>\n",
       "    </tr>\n",
       "    <tr>\n",
       "      <td>3</td>\n",
       "      <td>138</td>\n",
       "      <td>167828</td>\n",
       "      <td>4</td>\n",
       "      <td>5</td>\n",
       "      <td>9</td>\n",
       "      <td>44.444444</td>\n",
       "    </tr>\n",
       "    <tr>\n",
       "      <td>5</td>\n",
       "      <td>185</td>\n",
       "      <td>168412</td>\n",
       "      <td>4</td>\n",
       "      <td>5</td>\n",
       "      <td>9</td>\n",
       "      <td>44.444444</td>\n",
       "    </tr>\n",
       "    <tr>\n",
       "      <td>2</td>\n",
       "      <td>118</td>\n",
       "      <td>167626</td>\n",
       "      <td>21</td>\n",
       "      <td>27</td>\n",
       "      <td>48</td>\n",
       "      <td>43.750000</td>\n",
       "    </tr>\n",
       "    <tr>\n",
       "      <td>4</td>\n",
       "      <td>177</td>\n",
       "      <td>168252</td>\n",
       "      <td>9</td>\n",
       "      <td>14</td>\n",
       "      <td>23</td>\n",
       "      <td>39.130435</td>\n",
       "    </tr>\n",
       "  </tbody>\n",
       "</table>\n",
       "</div>"
      ],
      "text/plain": [
       "   index user_id  неэффективный  эффективный  total  not_effective_part\n",
       "0      1  166405              5            5     10           50.000000\n",
       "1     18  166658              8            9     17           47.058824\n",
       "3    138  167828              4            5      9           44.444444\n",
       "5    185  168412              4            5      9           44.444444\n",
       "2    118  167626             21           27     48           43.750000\n",
       "4    177  168252              9           14     23           39.130435"
      ]
     },
     "execution_count": 55,
     "metadata": {},
     "output_type": "execute_result"
    }
   ],
   "source": [
    "user_TOP=user[(user['total'] > 8) & (user['not_effective_part'] > 39)].reset_index()\n",
    "user_TOP.sort_values('not_effective_part',ascending=False)"
   ]
  },
  {
   "cell_type": "markdown",
   "metadata": {},
   "source": [
    "<div class=\"alert alert-info\">\n",
    "На основе анализа средних значений показателей среди клиентов,для которых новая услуга \"Нупозвони\" может  представлять интерес произведен отбор по средним значениям колл-центров с количеством операторов более 8 человек, с долей неэффективных операторов более 39%."
   ]
  },
  {
   "cell_type": "markdown",
   "metadata": {},
   "source": [
    "## Проверка гипотез"
   ]
  },
  {
   "cell_type": "markdown",
   "metadata": {},
   "source": [
    "**Проверка гипотезы \"Время ожидания на входящих звонках зависит от тарифного плана.\"**\n",
    "**Нулевая гипотеза:** Среднее значение времени ожидания на входящих звонках тарифа  «A» и «B» одинаково.\n",
    "**Альтернативная гипотеза:** Среднее значение времени ожидания на входящих звонках тарифа  «A» и «B» различается."
   ]
  },
  {
   "cell_type": "code",
   "execution_count": 56,
   "metadata": {},
   "outputs": [
    {
     "data": {
      "text/html": [
       "<div>\n",
       "<style scoped>\n",
       "    .dataframe tbody tr th:only-of-type {\n",
       "        vertical-align: middle;\n",
       "    }\n",
       "\n",
       "    .dataframe tbody tr th {\n",
       "        vertical-align: top;\n",
       "    }\n",
       "\n",
       "    .dataframe thead th {\n",
       "        text-align: right;\n",
       "    }\n",
       "</style>\n",
       "<table border=\"1\" class=\"dataframe\">\n",
       "  <thead>\n",
       "    <tr style=\"text-align: right;\">\n",
       "      <th></th>\n",
       "      <th>user_id</th>\n",
       "      <th>date</th>\n",
       "      <th>direction</th>\n",
       "      <th>internal</th>\n",
       "      <th>operator_id</th>\n",
       "      <th>is_missed_call</th>\n",
       "      <th>calls_count</th>\n",
       "      <th>call_duration</th>\n",
       "      <th>total_call_duration</th>\n",
       "      <th>weekday</th>\n",
       "      <th>waiting</th>\n",
       "      <th>duration_mean</th>\n",
       "      <th>tariff_plan</th>\n",
       "      <th>date_start</th>\n",
       "      <th>in_out_group</th>\n",
       "    </tr>\n",
       "  </thead>\n",
       "  <tbody>\n",
       "    <tr>\n",
       "      <td>398</td>\n",
       "      <td>166391</td>\n",
       "      <td>2019-08-06</td>\n",
       "      <td>in</td>\n",
       "      <td>False</td>\n",
       "      <td>882476</td>\n",
       "      <td>False</td>\n",
       "      <td>1</td>\n",
       "      <td>175</td>\n",
       "      <td>186</td>\n",
       "      <td>Tuesday</td>\n",
       "      <td>11</td>\n",
       "      <td>186</td>\n",
       "      <td>C</td>\n",
       "      <td>2019-08-01</td>\n",
       "      <td>входящие звонки</td>\n",
       "    </tr>\n",
       "    <tr>\n",
       "      <td>399</td>\n",
       "      <td>166391</td>\n",
       "      <td>2019-08-07</td>\n",
       "      <td>in</td>\n",
       "      <td>False</td>\n",
       "      <td>882478</td>\n",
       "      <td>False</td>\n",
       "      <td>1</td>\n",
       "      <td>57</td>\n",
       "      <td>70</td>\n",
       "      <td>Wednesday</td>\n",
       "      <td>13</td>\n",
       "      <td>70</td>\n",
       "      <td>C</td>\n",
       "      <td>2019-08-01</td>\n",
       "      <td>входящие звонки</td>\n",
       "    </tr>\n",
       "  </tbody>\n",
       "</table>\n",
       "</div>"
      ],
      "text/plain": [
       "    user_id        date direction  internal  operator_id  is_missed_call  \\\n",
       "398  166391  2019-08-06        in     False       882476           False   \n",
       "399  166391  2019-08-07        in     False       882478           False   \n",
       "\n",
       "     calls_count  call_duration  total_call_duration    weekday  waiting  \\\n",
       "398            1            175                  186    Tuesday       11   \n",
       "399            1             57                   70  Wednesday       13   \n",
       "\n",
       "     duration_mean tariff_plan  date_start     in_out_group  \n",
       "398            186           C  2019-08-01  входящие звонки  \n",
       "399             70           C  2019-08-01  входящие звонки  "
      ]
     },
     "execution_count": 56,
     "metadata": {},
     "output_type": "execute_result"
    }
   ],
   "source": [
    "data_in.head(2)"
   ]
  },
  {
   "cell_type": "code",
   "execution_count": 57,
   "metadata": {},
   "outputs": [
    {
     "name": "stdout",
     "output_type": "stream",
     "text": [
      "Среднее время ожидания звонка на входящих вызовах для  разных тарифов\n"
     ]
    },
    {
     "data": {
      "text/html": [
       "<div>\n",
       "<style scoped>\n",
       "    .dataframe tbody tr th:only-of-type {\n",
       "        vertical-align: middle;\n",
       "    }\n",
       "\n",
       "    .dataframe tbody tr th {\n",
       "        vertical-align: top;\n",
       "    }\n",
       "\n",
       "    .dataframe thead th {\n",
       "        text-align: right;\n",
       "    }\n",
       "</style>\n",
       "<table border=\"1\" class=\"dataframe\">\n",
       "  <thead>\n",
       "    <tr style=\"text-align: right;\">\n",
       "      <th></th>\n",
       "      <th>index</th>\n",
       "      <th>tariff_plan</th>\n",
       "      <th>date</th>\n",
       "      <th>waiting</th>\n",
       "    </tr>\n",
       "  </thead>\n",
       "  <tbody>\n",
       "    <tr>\n",
       "      <td>0</td>\n",
       "      <td>398</td>\n",
       "      <td>C</td>\n",
       "      <td>2019-08-06</td>\n",
       "      <td>11</td>\n",
       "    </tr>\n",
       "    <tr>\n",
       "      <td>1</td>\n",
       "      <td>399</td>\n",
       "      <td>C</td>\n",
       "      <td>2019-08-07</td>\n",
       "      <td>13</td>\n",
       "    </tr>\n",
       "    <tr>\n",
       "      <td>2</td>\n",
       "      <td>400</td>\n",
       "      <td>C</td>\n",
       "      <td>2019-09-23</td>\n",
       "      <td>20</td>\n",
       "    </tr>\n",
       "    <tr>\n",
       "      <td>3</td>\n",
       "      <td>401</td>\n",
       "      <td>C</td>\n",
       "      <td>2019-11-22</td>\n",
       "      <td>64</td>\n",
       "    </tr>\n",
       "    <tr>\n",
       "      <td>4</td>\n",
       "      <td>402</td>\n",
       "      <td>C</td>\n",
       "      <td>2019-08-20</td>\n",
       "      <td>58</td>\n",
       "    </tr>\n",
       "  </tbody>\n",
       "</table>\n",
       "</div>"
      ],
      "text/plain": [
       "   index tariff_plan        date  waiting\n",
       "0    398           C  2019-08-06       11\n",
       "1    399           C  2019-08-07       13\n",
       "2    400           C  2019-09-23       20\n",
       "3    401           C  2019-11-22       64\n",
       "4    402           C  2019-08-20       58"
      ]
     },
     "metadata": {},
     "output_type": "display_data"
    }
   ],
   "source": [
    "#расчет среднего времени ожидания для  разных тарифов\n",
    "#tariff_waiting=data_in.pivot_table(index= ['tariff_plan','date'], values = ['waiting'],aggfunc='mean').reset_index()\n",
    "tariff_waiting=data_in[['tariff_plan','date','waiting']].reset_index()\n",
    "#tariff_waiting.waiting = tariff_waiting.waiting.astype('int')# целочисленный тип\n",
    "print('Среднее время ожидания звонка на входящих вызовах для  разных тарифов')\n",
    "display(tariff_waiting.head())\n",
    "\n",
    "#Срезы данных по тарифам\n",
    "A_waiting=tariff_waiting.query('tariff_plan == \"A\"')\n",
    "B_waiting=tariff_waiting.query('tariff_plan == \"B\"') \n",
    "C_waiting=tariff_waiting.query('tariff_plan == \"C\"') \n"
   ]
  },
  {
   "cell_type": "code",
   "execution_count": 58,
   "metadata": {},
   "outputs": [
    {
     "name": "stdout",
     "output_type": "stream",
     "text": [
      "Нулевая гипотеза: Среднее значение времени ожидания на входящих звонках тарифа «A» и «B» одинаково\n",
      "p-значение: 9.149435971549438e-11\n",
      "Отвергаем нулевую гипотезу\n"
     ]
    }
   ],
   "source": [
    "print('Нулевая гипотеза: Среднее значение времени ожидания на входящих звонках тарифа «A» и «B» одинаково')\n",
    "\n",
    "alpha = 0.05  # критический уровень статистической значимости\n",
    "# если p-value окажется меньше него - отвергнем гипотезу\n",
    "\n",
    "results = st.ttest_ind(A_waiting['waiting'], B_waiting['waiting'])\n",
    "\n",
    "print('p-значение:', results.pvalue)\n",
    "\n",
    "if results.pvalue < alpha:\n",
    "    print('Отвергаем нулевую гипотезу')\n",
    "else:\n",
    "    print('Не получилось отвергнуть нулевую гипотезу') "
   ]
  },
  {
   "cell_type": "markdown",
   "metadata": {},
   "source": [
    "**Проверка гипотезы \"Время ожидания на входящих звонках зависит от тарифного плана.\" Нулевая гипотеза:** Среднее значение времени ожидания на входящих звонках тарифа «A» и «C» одинаково. **Альтернативная гипотеза:** Среднее значение времени ожидания на входящих звонках тарифа «A» и «C» различается."
   ]
  },
  {
   "cell_type": "code",
   "execution_count": 59,
   "metadata": {},
   "outputs": [
    {
     "name": "stdout",
     "output_type": "stream",
     "text": [
      "Нулевая гипотеза: Среднее значение времени ожидания на входящих звонках тарифа «A» и «С» одинаково\n",
      "p-значение: 7.566417670745576e-19\n",
      "Отвергаем нулевую гипотезу\n"
     ]
    }
   ],
   "source": [
    "print('Нулевая гипотеза: Среднее значение времени ожидания на входящих звонках тарифа «A» и «С» одинаково')\n",
    "\n",
    "alpha = 0.05/2  # критический уровень статистической значимости\n",
    "# если p-value окажется меньше него - отвергнем гипотезу\n",
    "\n",
    "results = st.ttest_ind(A_waiting['waiting'], C_waiting['waiting'])\n",
    "\n",
    "print('p-значение:', results.pvalue)\n",
    "\n",
    "if results.pvalue < alpha:\n",
    "    print('Отвергаем нулевую гипотезу')\n",
    "else:\n",
    "    print('Не получилось отвергнуть нулевую гипотезу') "
   ]
  },
  {
   "cell_type": "markdown",
   "metadata": {},
   "source": [
    "**Проверка гипотезы \"Время ожидания на входящих звонках зависит от тарифного плана.\"**\n",
    "\n",
    "**Нулевая гипотеза:** Среднее значение времени ожидания на входящих звонках тарифа «B» и «C» одинаково.\n",
    "\n",
    "**Альтернативная гипотеза:** Среднее значение времени ожидания на входящих звонках тарифа «B» и «C»  различается."
   ]
  },
  {
   "cell_type": "code",
   "execution_count": 60,
   "metadata": {},
   "outputs": [
    {
     "name": "stdout",
     "output_type": "stream",
     "text": [
      "Нулевая гипотеза: Среднее значение времени ожидания на входящих звонках тарифа «B» и «С» одинаково\n",
      "p-значение: 1.4203730262878e-45\n",
      "Отвергаем нулевую гипотезу\n"
     ]
    }
   ],
   "source": [
    "print('Нулевая гипотеза: Среднее значение времени ожидания на входящих звонках тарифа «B» и «С» одинаково')\n",
    "\n",
    "alpha = 0.05/2  # критический уровень статистической значимости\n",
    "# если p-value окажется меньше него - отвергнем гипотезу\n",
    "\n",
    "results = st.ttest_ind(B_waiting['waiting'], C_waiting['waiting'])\n",
    "\n",
    "print('p-значение:', results.pvalue)\n",
    "\n",
    "if results.pvalue < alpha:\n",
    "    print('Отвергаем нулевую гипотезу')\n",
    "else:\n",
    "    print('Не получилось отвергнуть нулевую гипотезу') "
   ]
  },
  {
   "cell_type": "markdown",
   "metadata": {},
   "source": [
    "**Гипотеза\"Время ожидания на входящих звонках зависит от тарифного плана.\" не подтверждена.**"
   ]
  },
  {
   "cell_type": "markdown",
   "metadata": {},
   "source": [
    "**Проверка гипотезы \"Доля пропущенных входящих звонков зависит от тарифного плана.\"**\n",
    "**Нулевая гипотеза:** Доля пропущенных входящих звонков тарифа  «A» и «B» одинакова.\n",
    "**Альтернативная гипотеза:** Доля пропущенных входящих звонков  «A» и «B» различается."
   ]
  },
  {
   "cell_type": "code",
   "execution_count": 61,
   "metadata": {},
   "outputs": [],
   "source": [
    "#Срезы данных по тарифам\n",
    "A_missed_part=operator_user.query('tariff_plan == \"A\"')\n",
    "B_missed_part=operator_user.query('tariff_plan == \"B\"') \n",
    "C_missed_part=operator_user.query('tariff_plan == \"C\"') "
   ]
  },
  {
   "cell_type": "code",
   "execution_count": 62,
   "metadata": {},
   "outputs": [
    {
     "name": "stdout",
     "output_type": "stream",
     "text": [
      "Нулевая гипотеза: Доля пропущенных входящих звонков тарифа  «A» и «B» одинакова\n",
      "p-значение: 0.5088337439246647\n",
      "Не получилось отвергнуть нулевую гипотезу\n"
     ]
    }
   ],
   "source": [
    "print('Нулевая гипотеза: Доля пропущенных входящих звонков тарифа  «A» и «B» одинакова')\n",
    "\n",
    "alpha = 0.05/2  # критический уровень статистической значимости, ужесточается в зависимости от клочества гипотез.\n",
    "# если p-value окажется меньше него - отвергнем гипотезу\n",
    "\n",
    "results = st.ttest_ind(A_missed_part['missed_part'], B_missed_part['missed_part'])\n",
    "\n",
    "print('p-значение:', results.pvalue)\n",
    "\n",
    "if results.pvalue < alpha:\n",
    "    print('Отвергаем нулевую гипотезу')\n",
    "else:\n",
    "    print('Не получилось отвергнуть нулевую гипотезу') "
   ]
  },
  {
   "cell_type": "code",
   "execution_count": 63,
   "metadata": {},
   "outputs": [
    {
     "name": "stdout",
     "output_type": "stream",
     "text": [
      "Нулевая гипотеза: Доля пропущенных входящих звонков тарифа  «A» и «C» одинакова\n",
      "p-значение: 0.01600735535022587\n",
      "Отвергаем нулевую гипотезу\n"
     ]
    }
   ],
   "source": [
    "print('Нулевая гипотеза: Доля пропущенных входящих звонков тарифа  «A» и «C» одинакова')\n",
    "\n",
    "alpha = 0.05/2  # критический уровень статистической значимости\n",
    "# если p-value окажется меньше него - отвергнем гипотезу\n",
    "\n",
    "results = st.ttest_ind(A_missed_part['missed_part'], C_missed_part['missed_part'])\n",
    "\n",
    "print('p-значение:', results.pvalue)\n",
    "\n",
    "if results.pvalue < alpha:\n",
    "    print('Отвергаем нулевую гипотезу')\n",
    "else:\n",
    "    print('Не получилось отвергнуть нулевую гипотезу') "
   ]
  },
  {
   "cell_type": "code",
   "execution_count": 64,
   "metadata": {},
   "outputs": [
    {
     "name": "stdout",
     "output_type": "stream",
     "text": [
      "Нулевая гипотеза: Доля пропущенных входящих звонков тарифа  «B» и «C» одинакова\n",
      "p-значение: 0.02815335304208786\n",
      "Не получилось отвергнуть нулевую гипотезу\n"
     ]
    }
   ],
   "source": [
    "print('Нулевая гипотеза: Доля пропущенных входящих звонков тарифа  «B» и «C» одинакова')\n",
    "\n",
    "alpha = 0.05/2  # критический уровень статистической значимости\n",
    "# если p-value окажется меньше него - отвергнем гипотезу\n",
    "\n",
    "results = st.ttest_ind(B_missed_part['missed_part'], C_missed_part['missed_part'])\n",
    "\n",
    "print('p-значение:', results.pvalue)\n",
    "\n",
    "if results.pvalue < alpha:\n",
    "    print('Отвергаем нулевую гипотезу')\n",
    "else:\n",
    "    print('Не получилось отвергнуть нулевую гипотезу') "
   ]
  },
  {
   "cell_type": "markdown",
   "metadata": {},
   "source": [
    "<div class=\"alert alert-info\">\n",
    "Доля пропущенных входящих звонков  на тарифах «A» и «C» различается, доля пропущенных входящих звонков тарифа  «B» и «C» одинакова."
   ]
  },
  {
   "cell_type": "code",
   "execution_count": 65,
   "metadata": {},
   "outputs": [
    {
     "data": {
      "text/html": [
       "<div>\n",
       "<style scoped>\n",
       "    .dataframe tbody tr th:only-of-type {\n",
       "        vertical-align: middle;\n",
       "    }\n",
       "\n",
       "    .dataframe tbody tr th {\n",
       "        vertical-align: top;\n",
       "    }\n",
       "\n",
       "    .dataframe thead th {\n",
       "        text-align: right;\n",
       "    }\n",
       "</style>\n",
       "<table border=\"1\" class=\"dataframe\">\n",
       "  <thead>\n",
       "    <tr style=\"text-align: right;\">\n",
       "      <th></th>\n",
       "      <th>operator_id</th>\n",
       "      <th>user_id</th>\n",
       "      <th>tariff_plan</th>\n",
       "      <th>in_out_group</th>\n",
       "      <th>calls_count</th>\n",
       "      <th>waiting</th>\n",
       "      <th>missed_part</th>\n",
       "      <th>count_calls_out</th>\n",
       "      <th>effective_not</th>\n",
       "    </tr>\n",
       "  </thead>\n",
       "  <tbody>\n",
       "    <tr>\n",
       "      <td>0</td>\n",
       "      <td>879896</td>\n",
       "      <td>166406</td>\n",
       "      <td>B</td>\n",
       "      <td>обзвоны</td>\n",
       "      <td>668</td>\n",
       "      <td>0.0</td>\n",
       "      <td>0.0</td>\n",
       "      <td>7.590909</td>\n",
       "      <td>эффективный</td>\n",
       "    </tr>\n",
       "    <tr>\n",
       "      <td>1</td>\n",
       "      <td>879898</td>\n",
       "      <td>166406</td>\n",
       "      <td>B</td>\n",
       "      <td>обзвоны</td>\n",
       "      <td>6633</td>\n",
       "      <td>0.0</td>\n",
       "      <td>0.0</td>\n",
       "      <td>35.470588</td>\n",
       "      <td>неэффективный</td>\n",
       "    </tr>\n",
       "  </tbody>\n",
       "</table>\n",
       "</div>"
      ],
      "text/plain": [
       "   operator_id  user_id tariff_plan in_out_group  calls_count  waiting  \\\n",
       "0       879896   166406           B      обзвоны          668      0.0   \n",
       "1       879898   166406           B      обзвоны         6633      0.0   \n",
       "\n",
       "   missed_part  count_calls_out  effective_not  \n",
       "0          0.0         7.590909    эффективный  \n",
       "1          0.0        35.470588  неэффективный  "
      ]
     },
     "execution_count": 65,
     "metadata": {},
     "output_type": "execute_result"
    }
   ],
   "source": [
    "operator_use.head(2)"
   ]
  },
  {
   "cell_type": "markdown",
   "metadata": {},
   "source": [
    "# Выводы\n"
   ]
  },
  {
   "cell_type": "markdown",
   "metadata": {},
   "source": [
    "<div class=\"alert alert-info\">\n",
    "\n",
    "- К неэффективным операторам, специализирующимся на входящих звонках отнесены те операторы, у которых средние показатели пропущенных звонков и среднее время ожидания ответа оператора больше средних показателей клиента, к которому операторы относятся.\n",
    "- Неэффективные  операторы колл-центров, специализирующихся обзвонах, совершающие в среднем меньшее количество звонков чем средний показатель по клиенту, сотрудниками которого они являются.\n",
    "- Определен перечень неэффективных операторов по клиентам, с указанием показателей неэффективности.\n",
    "- Составлен список колл-центров, для которых новая услуга \"Нупозвони\" может представлять интерес.\n"
   ]
  }
 ],
 "metadata": {
  "ExecuteTimeLog": [
   {
    "duration": 1066,
    "start_time": "2021-08-16T13:55:11.989Z"
   },
   {
    "duration": 1469,
    "start_time": "2021-08-16T13:55:13.057Z"
   },
   {
    "duration": -21,
    "start_time": "2021-08-16T13:55:14.550Z"
   },
   {
    "duration": -23,
    "start_time": "2021-08-16T13:55:14.554Z"
   },
   {
    "duration": -25,
    "start_time": "2021-08-16T13:55:14.557Z"
   },
   {
    "duration": -26,
    "start_time": "2021-08-16T13:55:14.560Z"
   },
   {
    "duration": -28,
    "start_time": "2021-08-16T13:55:14.563Z"
   },
   {
    "duration": -29,
    "start_time": "2021-08-16T13:55:14.566Z"
   },
   {
    "duration": -35,
    "start_time": "2021-08-16T13:55:14.573Z"
   },
   {
    "duration": -38,
    "start_time": "2021-08-16T13:55:14.578Z"
   },
   {
    "duration": -39,
    "start_time": "2021-08-16T13:55:14.580Z"
   },
   {
    "duration": -40,
    "start_time": "2021-08-16T13:55:14.583Z"
   },
   {
    "duration": -42,
    "start_time": "2021-08-16T13:55:14.586Z"
   },
   {
    "duration": -43,
    "start_time": "2021-08-16T13:55:14.588Z"
   },
   {
    "duration": -43,
    "start_time": "2021-08-16T13:55:14.590Z"
   },
   {
    "duration": -45,
    "start_time": "2021-08-16T13:55:14.593Z"
   },
   {
    "duration": -45,
    "start_time": "2021-08-16T13:55:14.595Z"
   },
   {
    "duration": -47,
    "start_time": "2021-08-16T13:55:14.598Z"
   },
   {
    "duration": -47,
    "start_time": "2021-08-16T13:55:14.600Z"
   },
   {
    "duration": -49,
    "start_time": "2021-08-16T13:55:14.603Z"
   },
   {
    "duration": -48,
    "start_time": "2021-08-16T13:55:14.604Z"
   },
   {
    "duration": -50,
    "start_time": "2021-08-16T13:55:14.607Z"
   },
   {
    "duration": -50,
    "start_time": "2021-08-16T13:55:14.609Z"
   },
   {
    "duration": -56,
    "start_time": "2021-08-16T13:55:14.616Z"
   },
   {
    "duration": -57,
    "start_time": "2021-08-16T13:55:14.619Z"
   },
   {
    "duration": -58,
    "start_time": "2021-08-16T13:55:14.621Z"
   },
   {
    "duration": -59,
    "start_time": "2021-08-16T13:55:14.624Z"
   },
   {
    "duration": -61,
    "start_time": "2021-08-16T13:55:14.627Z"
   },
   {
    "duration": -61,
    "start_time": "2021-08-16T13:55:14.629Z"
   },
   {
    "duration": -46,
    "start_time": "2021-08-16T13:55:14.631Z"
   },
   {
    "duration": -46,
    "start_time": "2021-08-16T13:55:14.633Z"
   },
   {
    "duration": -47,
    "start_time": "2021-08-16T13:55:14.635Z"
   },
   {
    "duration": -47,
    "start_time": "2021-08-16T13:55:14.637Z"
   },
   {
    "duration": -48,
    "start_time": "2021-08-16T13:55:14.639Z"
   },
   {
    "duration": -47,
    "start_time": "2021-08-16T13:55:14.640Z"
   },
   {
    "duration": -48,
    "start_time": "2021-08-16T13:55:14.642Z"
   },
   {
    "duration": -49,
    "start_time": "2021-08-16T13:55:14.645Z"
   },
   {
    "duration": -50,
    "start_time": "2021-08-16T13:55:14.647Z"
   },
   {
    "duration": -51,
    "start_time": "2021-08-16T13:55:14.649Z"
   },
   {
    "duration": -51,
    "start_time": "2021-08-16T13:55:14.651Z"
   },
   {
    "duration": -52,
    "start_time": "2021-08-16T13:55:14.653Z"
   },
   {
    "duration": -53,
    "start_time": "2021-08-16T13:55:14.655Z"
   },
   {
    "duration": -54,
    "start_time": "2021-08-16T13:55:14.657Z"
   },
   {
    "duration": -55,
    "start_time": "2021-08-16T13:55:14.659Z"
   },
   {
    "duration": -55,
    "start_time": "2021-08-16T13:55:14.660Z"
   },
   {
    "duration": -56,
    "start_time": "2021-08-16T13:55:14.662Z"
   },
   {
    "duration": -57,
    "start_time": "2021-08-16T13:55:14.664Z"
   },
   {
    "duration": -58,
    "start_time": "2021-08-16T13:55:14.666Z"
   },
   {
    "duration": -59,
    "start_time": "2021-08-16T13:55:14.668Z"
   },
   {
    "duration": -60,
    "start_time": "2021-08-16T13:55:14.670Z"
   },
   {
    "duration": -60,
    "start_time": "2021-08-16T13:55:14.671Z"
   },
   {
    "duration": -62,
    "start_time": "2021-08-16T13:55:14.674Z"
   },
   {
    "duration": -74,
    "start_time": "2021-08-16T13:55:14.687Z"
   },
   {
    "duration": -83,
    "start_time": "2021-08-16T13:55:14.698Z"
   },
   {
    "duration": -84,
    "start_time": "2021-08-16T13:55:14.700Z"
   },
   {
    "duration": -87,
    "start_time": "2021-08-16T13:55:14.704Z"
   },
   {
    "duration": -88,
    "start_time": "2021-08-16T13:55:14.706Z"
   },
   {
    "duration": -92,
    "start_time": "2021-08-16T13:55:14.711Z"
   },
   {
    "duration": -93,
    "start_time": "2021-08-16T13:55:14.713Z"
   },
   {
    "duration": 103,
    "start_time": "2021-08-16T13:58:47.324Z"
   },
   {
    "duration": 38,
    "start_time": "2021-08-16T13:58:56.721Z"
   },
   {
    "duration": 70,
    "start_time": "2021-08-16T14:00:38.965Z"
   },
   {
    "duration": 75,
    "start_time": "2021-08-16T14:00:39.037Z"
   },
   {
    "duration": 58,
    "start_time": "2021-08-16T14:00:39.114Z"
   },
   {
    "duration": 31,
    "start_time": "2021-08-16T14:00:39.174Z"
   },
   {
    "duration": 20,
    "start_time": "2021-08-16T14:00:39.207Z"
   },
   {
    "duration": 38,
    "start_time": "2021-08-16T14:00:39.228Z"
   },
   {
    "duration": 9,
    "start_time": "2021-08-16T14:00:39.268Z"
   },
   {
    "duration": 6,
    "start_time": "2021-08-16T14:00:39.279Z"
   },
   {
    "duration": 12,
    "start_time": "2021-08-16T14:00:39.288Z"
   },
   {
    "duration": 19,
    "start_time": "2021-08-16T14:00:39.303Z"
   },
   {
    "duration": 3,
    "start_time": "2021-08-16T14:00:39.323Z"
   },
   {
    "duration": 27,
    "start_time": "2021-08-16T14:00:39.327Z"
   },
   {
    "duration": 4,
    "start_time": "2021-08-16T14:00:39.355Z"
   },
   {
    "duration": 12,
    "start_time": "2021-08-16T14:00:39.385Z"
   },
   {
    "duration": 37,
    "start_time": "2021-08-16T14:00:39.399Z"
   },
   {
    "duration": 318,
    "start_time": "2021-08-16T14:00:39.437Z"
   },
   {
    "duration": 7,
    "start_time": "2021-08-16T14:00:39.756Z"
   },
   {
    "duration": 52,
    "start_time": "2021-08-16T14:00:39.765Z"
   },
   {
    "duration": 266,
    "start_time": "2021-08-16T14:00:39.818Z"
   },
   {
    "duration": 50,
    "start_time": "2021-08-16T14:00:40.086Z"
   },
   {
    "duration": 54,
    "start_time": "2021-08-16T14:00:40.137Z"
   },
   {
    "duration": 4,
    "start_time": "2021-08-16T14:00:40.192Z"
   },
   {
    "duration": 37,
    "start_time": "2021-08-16T14:00:40.198Z"
   },
   {
    "duration": 370,
    "start_time": "2021-08-16T14:00:40.236Z"
   },
   {
    "duration": 4,
    "start_time": "2021-08-16T14:00:40.607Z"
   },
   {
    "duration": 17,
    "start_time": "2021-08-16T14:00:40.613Z"
   },
   {
    "duration": 5,
    "start_time": "2021-08-16T14:00:40.634Z"
   },
   {
    "duration": 61,
    "start_time": "2021-08-16T14:00:40.641Z"
   },
   {
    "duration": 31,
    "start_time": "2021-08-16T14:00:40.704Z"
   },
   {
    "duration": 12,
    "start_time": "2021-08-16T14:00:40.737Z"
   },
   {
    "duration": 35,
    "start_time": "2021-08-16T14:00:40.751Z"
   },
   {
    "duration": 15,
    "start_time": "2021-08-16T14:00:40.788Z"
   },
   {
    "duration": 8,
    "start_time": "2021-08-16T14:00:40.805Z"
   },
   {
    "duration": 36,
    "start_time": "2021-08-16T14:00:40.814Z"
   },
   {
    "duration": 33,
    "start_time": "2021-08-16T14:00:40.852Z"
   },
   {
    "duration": 165,
    "start_time": "2021-08-16T14:00:40.887Z"
   },
   {
    "duration": 48,
    "start_time": "2021-08-16T14:00:41.054Z"
   },
   {
    "duration": 20,
    "start_time": "2021-08-16T14:00:41.104Z"
   },
   {
    "duration": 6,
    "start_time": "2021-08-16T14:00:41.126Z"
   },
   {
    "duration": 6,
    "start_time": "2021-08-16T14:00:41.134Z"
   },
   {
    "duration": 43,
    "start_time": "2021-08-16T14:00:41.142Z"
   },
   {
    "duration": 14,
    "start_time": "2021-08-16T14:00:41.187Z"
   },
   {
    "duration": 7,
    "start_time": "2021-08-16T14:00:41.203Z"
   },
   {
    "duration": 34,
    "start_time": "2021-08-16T14:00:41.212Z"
   },
   {
    "duration": 79,
    "start_time": "2021-08-16T14:00:41.248Z"
   },
   {
    "duration": 12,
    "start_time": "2021-08-16T14:00:41.329Z"
   },
   {
    "duration": 13,
    "start_time": "2021-08-16T14:00:41.343Z"
   },
   {
    "duration": 51,
    "start_time": "2021-08-16T14:00:41.357Z"
   },
   {
    "duration": 7,
    "start_time": "2021-08-16T14:00:41.409Z"
   },
   {
    "duration": 7,
    "start_time": "2021-08-16T14:00:41.418Z"
   },
   {
    "duration": 10,
    "start_time": "2021-08-16T14:00:41.426Z"
   },
   {
    "duration": 9,
    "start_time": "2021-08-16T14:00:41.438Z"
   },
   {
    "duration": 38,
    "start_time": "2021-08-16T14:00:41.449Z"
   },
   {
    "duration": 7,
    "start_time": "2021-08-16T14:00:41.489Z"
   },
   {
    "duration": 7,
    "start_time": "2021-08-16T14:00:41.498Z"
   },
   {
    "duration": 14,
    "start_time": "2021-08-16T14:00:41.507Z"
   },
   {
    "duration": 191,
    "start_time": "2021-08-16T14:00:41.522Z"
   },
   {
    "duration": 649,
    "start_time": "2021-08-16T14:00:41.714Z"
   },
   {
    "duration": 33,
    "start_time": "2021-08-16T14:06:47.502Z"
   },
   {
    "duration": 5,
    "start_time": "2021-08-16T14:19:05.754Z"
   },
   {
    "duration": 8,
    "start_time": "2021-08-16T15:19:15.897Z"
   },
   {
    "duration": 16,
    "start_time": "2021-08-16T15:20:20.273Z"
   },
   {
    "duration": 5,
    "start_time": "2021-08-16T15:23:32.786Z"
   },
   {
    "duration": 333,
    "start_time": "2021-08-16T18:10:36.997Z"
   },
   {
    "duration": 1479,
    "start_time": "2021-08-16T18:10:39.847Z"
   },
   {
    "duration": 92,
    "start_time": "2021-08-16T18:10:42.308Z"
   },
   {
    "duration": 1454,
    "start_time": "2021-08-17T07:24:05.269Z"
   },
   {
    "duration": 84,
    "start_time": "2021-08-17T07:24:07.226Z"
   },
   {
    "duration": 80,
    "start_time": "2021-08-17T07:24:08.869Z"
   },
   {
    "duration": 69,
    "start_time": "2021-08-17T07:24:09.357Z"
   },
   {
    "duration": 72,
    "start_time": "2021-08-17T07:24:09.854Z"
   },
   {
    "duration": 33,
    "start_time": "2021-08-17T07:24:10.997Z"
   },
   {
    "duration": 24,
    "start_time": "2021-08-17T07:24:11.540Z"
   },
   {
    "duration": 25,
    "start_time": "2021-08-17T07:24:11.773Z"
   },
   {
    "duration": 26,
    "start_time": "2021-08-17T07:24:12.260Z"
   },
   {
    "duration": 7,
    "start_time": "2021-08-17T07:24:12.500Z"
   },
   {
    "duration": 12,
    "start_time": "2021-08-17T07:24:12.725Z"
   },
   {
    "duration": 20,
    "start_time": "2021-08-17T07:24:12.949Z"
   },
   {
    "duration": 26,
    "start_time": "2021-08-17T07:24:13.436Z"
   },
   {
    "duration": 2,
    "start_time": "2021-08-17T07:24:14.116Z"
   },
   {
    "duration": 21,
    "start_time": "2021-08-17T07:24:14.357Z"
   },
   {
    "duration": 5,
    "start_time": "2021-08-17T07:24:14.583Z"
   },
   {
    "duration": 19,
    "start_time": "2021-08-17T07:24:14.796Z"
   },
   {
    "duration": 50,
    "start_time": "2021-08-17T07:24:15.468Z"
   },
   {
    "duration": 422,
    "start_time": "2021-08-17T07:24:15.932Z"
   },
   {
    "duration": 12,
    "start_time": "2021-08-17T07:24:16.371Z"
   },
   {
    "duration": 53,
    "start_time": "2021-08-17T07:24:16.836Z"
   },
   {
    "duration": 377,
    "start_time": "2021-08-17T07:24:17.532Z"
   },
   {
    "duration": 73,
    "start_time": "2021-08-17T07:24:18.668Z"
   },
   {
    "duration": 53,
    "start_time": "2021-08-17T07:24:18.905Z"
   },
   {
    "duration": 7,
    "start_time": "2021-08-17T07:24:19.132Z"
   },
   {
    "duration": 49,
    "start_time": "2021-08-17T07:24:19.828Z"
   },
   {
    "duration": 509,
    "start_time": "2021-08-17T07:24:20.061Z"
   },
   {
    "duration": 7,
    "start_time": "2021-08-17T07:24:20.772Z"
   },
   {
    "duration": 6,
    "start_time": "2021-08-17T07:24:21.412Z"
   },
   {
    "duration": 21,
    "start_time": "2021-08-17T07:24:21.685Z"
   },
   {
    "duration": 8,
    "start_time": "2021-08-17T07:24:21.932Z"
   },
   {
    "duration": 54,
    "start_time": "2021-08-17T07:24:22.189Z"
   },
   {
    "duration": 45,
    "start_time": "2021-08-17T07:24:22.444Z"
   },
   {
    "duration": 16,
    "start_time": "2021-08-17T07:24:23.166Z"
   },
   {
    "duration": 8,
    "start_time": "2021-08-17T07:24:23.420Z"
   },
   {
    "duration": 21,
    "start_time": "2021-08-17T07:24:23.692Z"
   },
   {
    "duration": 9,
    "start_time": "2021-08-17T07:24:23.956Z"
   },
   {
    "duration": 51,
    "start_time": "2021-08-17T07:24:24.732Z"
   },
   {
    "duration": 5,
    "start_time": "2021-08-17T07:24:25.013Z"
   },
   {
    "duration": 221,
    "start_time": "2021-08-17T07:24:25.261Z"
   },
   {
    "duration": 49,
    "start_time": "2021-08-17T07:24:25.764Z"
   },
   {
    "duration": 27,
    "start_time": "2021-08-17T07:24:26.269Z"
   },
   {
    "duration": 8,
    "start_time": "2021-08-17T07:24:26.838Z"
   },
   {
    "duration": 6,
    "start_time": "2021-08-17T07:24:27.101Z"
   },
   {
    "duration": 23,
    "start_time": "2021-08-17T07:24:27.397Z"
   },
   {
    "duration": 19,
    "start_time": "2021-08-17T07:24:27.948Z"
   },
   {
    "duration": 8,
    "start_time": "2021-08-17T07:24:28.221Z"
   },
   {
    "duration": 53,
    "start_time": "2021-08-17T07:24:29.060Z"
   },
   {
    "duration": 72,
    "start_time": "2021-08-17T07:24:30.109Z"
   },
   {
    "duration": 18,
    "start_time": "2021-08-17T07:24:30.373Z"
   },
   {
    "duration": 17,
    "start_time": "2021-08-17T07:24:32.556Z"
   },
   {
    "duration": 34,
    "start_time": "2021-08-17T07:24:33.014Z"
   },
   {
    "duration": 8,
    "start_time": "2021-08-17T07:24:34.252Z"
   },
   {
    "duration": 8,
    "start_time": "2021-08-17T07:24:35.460Z"
   },
   {
    "duration": 9,
    "start_time": "2021-08-17T07:24:36.980Z"
   },
   {
    "duration": 35,
    "start_time": "2021-08-17T07:25:13.256Z"
   },
   {
    "duration": 8820,
    "start_time": "2021-08-17T07:25:32.883Z"
   },
   {
    "duration": 8486,
    "start_time": "2021-08-17T07:27:14.639Z"
   },
   {
    "duration": 23,
    "start_time": "2021-08-17T07:28:07.513Z"
   },
   {
    "duration": 24,
    "start_time": "2021-08-17T07:28:27.296Z"
   },
   {
    "duration": 23,
    "start_time": "2021-08-17T07:29:02.679Z"
   },
   {
    "duration": 7,
    "start_time": "2021-08-17T07:29:22.589Z"
   },
   {
    "duration": 8,
    "start_time": "2021-08-17T07:29:23.813Z"
   },
   {
    "duration": 7,
    "start_time": "2021-08-17T07:29:28.542Z"
   },
   {
    "duration": 13,
    "start_time": "2021-08-17T07:29:43.541Z"
   },
   {
    "duration": 7,
    "start_time": "2021-08-17T07:29:44.071Z"
   },
   {
    "duration": 7,
    "start_time": "2021-08-17T07:29:44.910Z"
   },
   {
    "duration": 8,
    "start_time": "2021-08-17T07:29:47.102Z"
   },
   {
    "duration": 114,
    "start_time": "2021-08-17T07:31:08.425Z"
   },
   {
    "duration": 1544,
    "start_time": "2021-08-18T17:27:32.234Z"
   },
   {
    "duration": 91,
    "start_time": "2021-08-18T17:27:33.781Z"
   },
   {
    "duration": 97,
    "start_time": "2021-08-18T17:27:33.875Z"
   },
   {
    "duration": 86,
    "start_time": "2021-08-18T17:27:33.975Z"
   },
   {
    "duration": 103,
    "start_time": "2021-08-18T17:27:34.064Z"
   },
   {
    "duration": 53,
    "start_time": "2021-08-18T17:27:34.170Z"
   },
   {
    "duration": 53,
    "start_time": "2021-08-18T17:27:34.226Z"
   },
   {
    "duration": 37,
    "start_time": "2021-08-18T17:27:34.285Z"
   },
   {
    "duration": 39,
    "start_time": "2021-08-18T17:27:34.327Z"
   },
   {
    "duration": 24,
    "start_time": "2021-08-18T17:27:34.369Z"
   },
   {
    "duration": 24,
    "start_time": "2021-08-18T17:27:34.395Z"
   },
   {
    "duration": 41,
    "start_time": "2021-08-18T17:27:34.422Z"
   },
   {
    "duration": 36,
    "start_time": "2021-08-18T17:27:34.465Z"
   },
   {
    "duration": 3,
    "start_time": "2021-08-18T17:27:34.503Z"
   },
   {
    "duration": 34,
    "start_time": "2021-08-18T17:27:34.508Z"
   },
   {
    "duration": 17,
    "start_time": "2021-08-18T17:27:34.544Z"
   },
   {
    "duration": 34,
    "start_time": "2021-08-18T17:27:34.564Z"
   },
   {
    "duration": 66,
    "start_time": "2021-08-18T17:27:34.601Z"
   },
   {
    "duration": 475,
    "start_time": "2021-08-18T17:27:34.670Z"
   },
   {
    "duration": 13,
    "start_time": "2021-08-18T17:27:35.148Z"
   },
   {
    "duration": 64,
    "start_time": "2021-08-18T17:27:35.164Z"
   },
   {
    "duration": 432,
    "start_time": "2021-08-18T17:27:35.231Z"
   },
   {
    "duration": 101,
    "start_time": "2021-08-18T17:27:35.672Z"
   },
   {
    "duration": 55,
    "start_time": "2021-08-18T17:27:35.777Z"
   },
   {
    "duration": 24,
    "start_time": "2021-08-18T17:27:35.835Z"
   },
   {
    "duration": 66,
    "start_time": "2021-08-18T17:27:35.861Z"
   },
   {
    "duration": 626,
    "start_time": "2021-08-18T17:27:35.929Z"
   },
   {
    "duration": 6,
    "start_time": "2021-08-18T17:27:36.557Z"
   },
   {
    "duration": 9,
    "start_time": "2021-08-18T17:27:36.566Z"
   },
   {
    "duration": 21,
    "start_time": "2021-08-18T17:27:36.577Z"
   },
   {
    "duration": 7,
    "start_time": "2021-08-18T17:27:36.601Z"
   },
   {
    "duration": 97,
    "start_time": "2021-08-18T17:27:36.610Z"
   },
   {
    "duration": 68,
    "start_time": "2021-08-18T17:27:36.709Z"
   },
   {
    "duration": 19,
    "start_time": "2021-08-18T17:27:36.779Z"
   },
   {
    "duration": 24,
    "start_time": "2021-08-18T17:27:36.800Z"
   },
   {
    "duration": 45,
    "start_time": "2021-08-18T17:27:36.827Z"
   },
   {
    "duration": 13,
    "start_time": "2021-08-18T17:27:36.875Z"
   },
   {
    "duration": 84,
    "start_time": "2021-08-18T17:27:36.891Z"
   },
   {
    "duration": 6,
    "start_time": "2021-08-18T17:27:36.977Z"
   },
   {
    "duration": 257,
    "start_time": "2021-08-18T17:27:36.985Z"
   },
   {
    "duration": 55,
    "start_time": "2021-08-18T17:27:37.245Z"
   },
   {
    "duration": 28,
    "start_time": "2021-08-18T17:27:37.303Z"
   },
   {
    "duration": 29,
    "start_time": "2021-08-18T17:27:37.333Z"
   },
   {
    "duration": 10,
    "start_time": "2021-08-18T17:27:37.364Z"
   },
   {
    "duration": 26,
    "start_time": "2021-08-18T17:27:37.377Z"
   },
   {
    "duration": 50,
    "start_time": "2021-08-18T17:27:37.405Z"
   },
   {
    "duration": 9,
    "start_time": "2021-08-18T17:27:37.457Z"
   },
   {
    "duration": 59,
    "start_time": "2021-08-18T17:27:37.468Z"
   },
   {
    "duration": 95,
    "start_time": "2021-08-18T17:27:37.530Z"
   },
   {
    "duration": 39,
    "start_time": "2021-08-18T17:27:37.627Z"
   },
   {
    "duration": 20,
    "start_time": "2021-08-18T17:27:37.669Z"
   },
   {
    "duration": 34,
    "start_time": "2021-08-18T17:27:37.692Z"
   },
   {
    "duration": 33,
    "start_time": "2021-08-18T17:27:37.728Z"
   },
   {
    "duration": 8,
    "start_time": "2021-08-18T17:27:37.763Z"
   },
   {
    "duration": 20,
    "start_time": "2021-08-18T17:27:37.773Z"
   },
   {
    "duration": 17,
    "start_time": "2021-08-18T17:27:37.795Z"
   },
   {
    "duration": 9,
    "start_time": "2021-08-18T17:27:37.815Z"
   },
   {
    "duration": 44,
    "start_time": "2021-08-18T17:27:37.826Z"
   },
   {
    "duration": 9,
    "start_time": "2021-08-18T17:27:37.873Z"
   },
   {
    "duration": 24,
    "start_time": "2021-08-18T17:27:37.884Z"
   },
   {
    "duration": 137,
    "start_time": "2021-08-18T17:27:37.910Z"
   },
   {
    "duration": 1027,
    "start_time": "2021-08-18T17:27:38.050Z"
   },
   {
    "duration": 6,
    "start_time": "2021-08-18T17:29:28.418Z"
   },
   {
    "duration": 399,
    "start_time": "2021-08-18T17:32:27.075Z"
   },
   {
    "duration": 14,
    "start_time": "2021-08-18T17:32:53.522Z"
   },
   {
    "duration": 26,
    "start_time": "2021-08-18T17:33:11.204Z"
   },
   {
    "duration": 27,
    "start_time": "2021-08-18T17:33:15.691Z"
   },
   {
    "duration": 22,
    "start_time": "2021-08-18T17:35:53.756Z"
   },
   {
    "duration": 19,
    "start_time": "2021-08-18T17:37:37.897Z"
   },
   {
    "duration": 19,
    "start_time": "2021-08-18T17:39:43.274Z"
   },
   {
    "duration": 3,
    "start_time": "2021-08-18T17:39:56.919Z"
   },
   {
    "duration": 7,
    "start_time": "2021-08-18T17:40:03.724Z"
   },
   {
    "duration": 7,
    "start_time": "2021-08-18T17:41:22.408Z"
   },
   {
    "duration": 5,
    "start_time": "2021-08-18T17:41:30.111Z"
   },
   {
    "duration": 290,
    "start_time": "2021-08-18T17:41:40.027Z"
   },
   {
    "duration": 9,
    "start_time": "2021-08-18T17:42:37.232Z"
   },
   {
    "duration": 10,
    "start_time": "2021-08-18T17:42:46.851Z"
   },
   {
    "duration": 8,
    "start_time": "2021-08-18T17:42:58.524Z"
   },
   {
    "duration": 6,
    "start_time": "2021-08-18T17:43:08.013Z"
   },
   {
    "duration": 5,
    "start_time": "2021-08-18T17:43:14.013Z"
   },
   {
    "duration": 272,
    "start_time": "2021-08-18T17:43:43.893Z"
   },
   {
    "duration": 6,
    "start_time": "2021-08-18T17:44:04.184Z"
   },
   {
    "duration": 6,
    "start_time": "2021-08-18T17:46:38.084Z"
   },
   {
    "duration": 261,
    "start_time": "2021-08-18T17:46:52.002Z"
   },
   {
    "duration": 11,
    "start_time": "2021-08-18T17:47:42.104Z"
   },
   {
    "duration": 13,
    "start_time": "2021-08-18T17:48:57.597Z"
   },
   {
    "duration": 15,
    "start_time": "2021-08-18T17:49:16.719Z"
   },
   {
    "duration": 15,
    "start_time": "2021-08-18T17:49:28.784Z"
   },
   {
    "duration": 21,
    "start_time": "2021-08-18T17:50:46.893Z"
   },
   {
    "duration": 17,
    "start_time": "2021-08-18T17:50:57.763Z"
   },
   {
    "duration": 7,
    "start_time": "2021-08-18T17:51:27.203Z"
   },
   {
    "duration": 16,
    "start_time": "2021-08-18T17:51:36.627Z"
   },
   {
    "duration": 1516,
    "start_time": "2021-08-18T17:51:45.308Z"
   },
   {
    "duration": 94,
    "start_time": "2021-08-18T17:51:46.827Z"
   },
   {
    "duration": 93,
    "start_time": "2021-08-18T17:51:46.925Z"
   },
   {
    "duration": 83,
    "start_time": "2021-08-18T17:51:47.020Z"
   },
   {
    "duration": 87,
    "start_time": "2021-08-18T17:51:47.105Z"
   },
   {
    "duration": 35,
    "start_time": "2021-08-18T17:51:47.194Z"
   },
   {
    "duration": 42,
    "start_time": "2021-08-18T17:51:47.232Z"
   },
   {
    "duration": 26,
    "start_time": "2021-08-18T17:51:47.277Z"
   },
   {
    "duration": 36,
    "start_time": "2021-08-18T17:51:47.307Z"
   },
   {
    "duration": 10,
    "start_time": "2021-08-18T17:51:47.357Z"
   },
   {
    "duration": 13,
    "start_time": "2021-08-18T17:51:47.370Z"
   },
   {
    "duration": 22,
    "start_time": "2021-08-18T17:51:47.387Z"
   },
   {
    "duration": 63,
    "start_time": "2021-08-18T17:51:47.412Z"
   },
   {
    "duration": 2,
    "start_time": "2021-08-18T17:51:47.478Z"
   },
   {
    "duration": 25,
    "start_time": "2021-08-18T17:51:47.483Z"
   },
   {
    "duration": 5,
    "start_time": "2021-08-18T17:51:47.510Z"
   },
   {
    "duration": 52,
    "start_time": "2021-08-18T17:51:47.517Z"
   },
   {
    "duration": 56,
    "start_time": "2021-08-18T17:51:47.571Z"
   },
   {
    "duration": 480,
    "start_time": "2021-08-18T17:51:47.629Z"
   },
   {
    "duration": 10,
    "start_time": "2021-08-18T17:51:48.111Z"
   },
   {
    "duration": 76,
    "start_time": "2021-08-18T17:51:48.123Z"
   },
   {
    "duration": 408,
    "start_time": "2021-08-18T17:51:48.201Z"
   },
   {
    "duration": 88,
    "start_time": "2021-08-18T17:51:48.615Z"
   },
   {
    "duration": 66,
    "start_time": "2021-08-18T17:51:48.706Z"
   },
   {
    "duration": 7,
    "start_time": "2021-08-18T17:51:48.774Z"
   },
   {
    "duration": 74,
    "start_time": "2021-08-18T17:51:48.783Z"
   },
   {
    "duration": 562,
    "start_time": "2021-08-18T17:51:48.859Z"
   },
   {
    "duration": 6,
    "start_time": "2021-08-18T17:51:49.424Z"
   },
   {
    "duration": 25,
    "start_time": "2021-08-18T17:51:49.433Z"
   },
   {
    "duration": 20,
    "start_time": "2021-08-18T17:51:49.460Z"
   },
   {
    "duration": 21,
    "start_time": "2021-08-18T17:51:49.482Z"
   },
   {
    "duration": 396,
    "start_time": "2021-08-18T17:51:49.505Z"
   },
   {
    "duration": -643,
    "start_time": "2021-08-18T17:51:50.546Z"
   },
   {
    "duration": -675,
    "start_time": "2021-08-18T17:51:50.580Z"
   },
   {
    "duration": -840,
    "start_time": "2021-08-18T17:51:50.746Z"
   },
   {
    "duration": -867,
    "start_time": "2021-08-18T17:51:50.775Z"
   },
   {
    "duration": -898,
    "start_time": "2021-08-18T17:51:50.807Z"
   },
   {
    "duration": -939,
    "start_time": "2021-08-18T17:51:50.850Z"
   },
   {
    "duration": -999,
    "start_time": "2021-08-18T17:51:50.911Z"
   },
   {
    "duration": -1009,
    "start_time": "2021-08-18T17:51:50.922Z"
   },
   {
    "duration": -1024,
    "start_time": "2021-08-18T17:51:50.939Z"
   },
   {
    "duration": -1094,
    "start_time": "2021-08-18T17:51:51.010Z"
   },
   {
    "duration": -1164,
    "start_time": "2021-08-18T17:51:51.081Z"
   },
   {
    "duration": -1188,
    "start_time": "2021-08-18T17:51:51.107Z"
   },
   {
    "duration": -1249,
    "start_time": "2021-08-18T17:51:51.169Z"
   },
   {
    "duration": -1319,
    "start_time": "2021-08-18T17:51:51.240Z"
   },
   {
    "duration": -1336,
    "start_time": "2021-08-18T17:51:51.259Z"
   },
   {
    "duration": -1354,
    "start_time": "2021-08-18T17:51:51.278Z"
   },
   {
    "duration": -1419,
    "start_time": "2021-08-18T17:51:51.345Z"
   },
   {
    "duration": -1435,
    "start_time": "2021-08-18T17:51:51.362Z"
   },
   {
    "duration": -1477,
    "start_time": "2021-08-18T17:51:51.405Z"
   },
   {
    "duration": -1492,
    "start_time": "2021-08-18T17:51:51.422Z"
   },
   {
    "duration": -1501,
    "start_time": "2021-08-18T17:51:51.432Z"
   },
   {
    "duration": -1510,
    "start_time": "2021-08-18T17:51:51.443Z"
   },
   {
    "duration": -1521,
    "start_time": "2021-08-18T17:51:51.455Z"
   },
   {
    "duration": -1529,
    "start_time": "2021-08-18T17:51:51.464Z"
   },
   {
    "duration": -1539,
    "start_time": "2021-08-18T17:51:51.475Z"
   },
   {
    "duration": -1547,
    "start_time": "2021-08-18T17:51:51.485Z"
   },
   {
    "duration": -1540,
    "start_time": "2021-08-18T17:51:51.495Z"
   },
   {
    "duration": -1575,
    "start_time": "2021-08-18T17:51:51.532Z"
   },
   {
    "duration": -1588,
    "start_time": "2021-08-18T17:51:51.546Z"
   },
   {
    "duration": -1602,
    "start_time": "2021-08-18T17:51:51.562Z"
   },
   {
    "duration": -1619,
    "start_time": "2021-08-18T17:51:51.580Z"
   },
   {
    "duration": -1678,
    "start_time": "2021-08-18T17:51:51.640Z"
   },
   {
    "duration": 1462,
    "start_time": "2021-08-18T17:52:11.248Z"
   },
   {
    "duration": 98,
    "start_time": "2021-08-18T17:52:12.712Z"
   },
   {
    "duration": 86,
    "start_time": "2021-08-18T17:52:13.880Z"
   },
   {
    "duration": 73,
    "start_time": "2021-08-18T17:52:14.554Z"
   },
   {
    "duration": 78,
    "start_time": "2021-08-18T17:52:15.660Z"
   },
   {
    "duration": 34,
    "start_time": "2021-08-18T17:52:18.623Z"
   },
   {
    "duration": 26,
    "start_time": "2021-08-18T17:52:19.816Z"
   },
   {
    "duration": 26,
    "start_time": "2021-08-18T17:52:20.441Z"
   },
   {
    "duration": 33,
    "start_time": "2021-08-18T17:52:21.943Z"
   },
   {
    "duration": 9,
    "start_time": "2021-08-18T17:52:22.935Z"
   },
   {
    "duration": 12,
    "start_time": "2021-08-18T17:52:23.891Z"
   },
   {
    "duration": 23,
    "start_time": "2021-08-18T17:52:24.786Z"
   },
   {
    "duration": 10,
    "start_time": "2021-08-18T17:52:32.058Z"
   },
   {
    "duration": 22,
    "start_time": "2021-08-18T17:52:35.314Z"
   },
   {
    "duration": 26,
    "start_time": "2021-08-18T17:52:38.057Z"
   },
   {
    "duration": 25,
    "start_time": "2021-08-18T17:52:50.053Z"
   },
   {
    "duration": 5,
    "start_time": "2021-08-18T17:52:52.866Z"
   },
   {
    "duration": 18,
    "start_time": "2021-08-18T17:52:53.839Z"
   },
   {
    "duration": 16,
    "start_time": "2021-08-18T17:52:59.657Z"
   },
   {
    "duration": 52,
    "start_time": "2021-08-18T17:53:02.587Z"
   },
   {
    "duration": 456,
    "start_time": "2021-08-18T17:53:04.221Z"
   },
   {
    "duration": 10,
    "start_time": "2021-08-18T17:53:06.294Z"
   },
   {
    "duration": 9,
    "start_time": "2021-08-18T17:53:17.273Z"
   },
   {
    "duration": 56,
    "start_time": "2021-08-18T17:53:20.994Z"
   },
   {
    "duration": 398,
    "start_time": "2021-08-18T17:53:26.820Z"
   },
   {
    "duration": 78,
    "start_time": "2021-08-18T17:53:34.337Z"
   },
   {
    "duration": 56,
    "start_time": "2021-08-18T17:53:37.365Z"
   },
   {
    "duration": 45,
    "start_time": "2021-08-18T17:53:43.419Z"
   },
   {
    "duration": 40,
    "start_time": "2021-08-18T17:53:48.549Z"
   },
   {
    "duration": 7,
    "start_time": "2021-08-18T17:53:51.026Z"
   },
   {
    "duration": 55,
    "start_time": "2021-08-18T17:53:55.995Z"
   },
   {
    "duration": 522,
    "start_time": "2021-08-18T17:53:58.667Z"
   },
   {
    "duration": 7,
    "start_time": "2021-08-18T17:54:02.295Z"
   },
   {
    "duration": 8,
    "start_time": "2021-08-18T17:54:06.093Z"
   },
   {
    "duration": 16,
    "start_time": "2021-08-18T17:54:08.920Z"
   },
   {
    "duration": 13,
    "start_time": "2021-08-18T17:54:33.210Z"
   },
   {
    "duration": 12,
    "start_time": "2021-08-18T17:56:47.305Z"
   },
   {
    "duration": 398,
    "start_time": "2021-08-18T17:58:04.346Z"
   },
   {
    "duration": 8,
    "start_time": "2021-08-18T17:58:13.177Z"
   },
   {
    "duration": 10,
    "start_time": "2021-08-18T17:58:54.250Z"
   },
   {
    "duration": 10,
    "start_time": "2021-08-18T17:59:07.353Z"
   },
   {
    "duration": 9,
    "start_time": "2021-08-18T17:59:19.527Z"
   },
   {
    "duration": 19,
    "start_time": "2021-08-18T18:01:22.801Z"
   },
   {
    "duration": 32,
    "start_time": "2021-08-18T18:02:05.307Z"
   },
   {
    "duration": 22,
    "start_time": "2021-08-18T18:03:02.847Z"
   },
   {
    "duration": 102,
    "start_time": "2021-08-18T18:03:08.689Z"
   },
   {
    "duration": 33,
    "start_time": "2021-08-18T18:03:14.016Z"
   },
   {
    "duration": 215,
    "start_time": "2021-08-18T18:03:44.813Z"
   },
   {
    "duration": 99,
    "start_time": "2021-08-18T18:04:14.340Z"
   },
   {
    "duration": 16,
    "start_time": "2021-08-18T18:04:21.575Z"
   },
   {
    "duration": 1272,
    "start_time": "2021-08-18T18:04:41.977Z"
   },
   {
    "duration": 1064,
    "start_time": "2021-08-18T18:04:56.472Z"
   },
   {
    "duration": 8588,
    "start_time": "2021-08-18T18:05:40.258Z"
   },
   {
    "duration": 6952,
    "start_time": "2021-08-18T18:06:05.289Z"
   },
   {
    "duration": 1420,
    "start_time": "2021-08-18T18:06:46.288Z"
   },
   {
    "duration": 1249,
    "start_time": "2021-08-18T18:07:03.598Z"
   },
   {
    "duration": 1288,
    "start_time": "2021-08-18T18:07:24.637Z"
   },
   {
    "duration": 1258,
    "start_time": "2021-08-18T18:08:54.099Z"
   },
   {
    "duration": 1461,
    "start_time": "2021-08-18T18:09:05.236Z"
   },
   {
    "duration": 297,
    "start_time": "2021-08-18T18:09:25.800Z"
   },
   {
    "duration": 283,
    "start_time": "2021-08-18T18:10:11.087Z"
   },
   {
    "duration": 1090,
    "start_time": "2021-08-18T18:11:22.653Z"
   },
   {
    "duration": 13,
    "start_time": "2021-08-18T18:11:47.484Z"
   },
   {
    "duration": 1264,
    "start_time": "2021-08-18T18:12:59.215Z"
   },
   {
    "duration": 1085,
    "start_time": "2021-08-18T18:13:05.361Z"
   },
   {
    "duration": 9,
    "start_time": "2021-08-18T18:22:46.933Z"
   },
   {
    "duration": 91,
    "start_time": "2021-08-18T18:22:47.505Z"
   },
   {
    "duration": 87,
    "start_time": "2021-08-18T18:22:48.077Z"
   },
   {
    "duration": 72,
    "start_time": "2021-08-18T18:22:48.567Z"
   },
   {
    "duration": 73,
    "start_time": "2021-08-18T18:22:48.837Z"
   },
   {
    "duration": 48,
    "start_time": "2021-08-18T18:22:51.049Z"
   },
   {
    "duration": 22,
    "start_time": "2021-08-18T18:22:52.742Z"
   },
   {
    "duration": 22,
    "start_time": "2021-08-18T18:23:09.370Z"
   },
   {
    "duration": 27,
    "start_time": "2021-08-18T18:23:10.321Z"
   },
   {
    "duration": 38,
    "start_time": "2021-08-18T18:23:12.155Z"
   },
   {
    "duration": 8,
    "start_time": "2021-08-18T18:23:12.999Z"
   },
   {
    "duration": 10,
    "start_time": "2021-08-18T18:23:13.853Z"
   },
   {
    "duration": 19,
    "start_time": "2021-08-18T18:23:14.710Z"
   },
   {
    "duration": 28,
    "start_time": "2021-08-18T18:23:17.675Z"
   },
   {
    "duration": 27,
    "start_time": "2021-08-18T18:23:22.180Z"
   },
   {
    "duration": 6,
    "start_time": "2021-08-18T18:23:22.770Z"
   },
   {
    "duration": 19,
    "start_time": "2021-08-18T18:23:23.298Z"
   },
   {
    "duration": 49,
    "start_time": "2021-08-18T18:23:28.001Z"
   },
   {
    "duration": 457,
    "start_time": "2021-08-18T18:23:30.912Z"
   },
   {
    "duration": 11,
    "start_time": "2021-08-18T18:23:32.464Z"
   },
   {
    "duration": 54,
    "start_time": "2021-08-18T18:23:34.215Z"
   },
   {
    "duration": 395,
    "start_time": "2021-08-18T18:23:36.524Z"
   },
   {
    "duration": 160,
    "start_time": "2021-08-18T18:23:40.242Z"
   },
   {
    "duration": 54,
    "start_time": "2021-08-18T18:23:41.005Z"
   },
   {
    "duration": 6,
    "start_time": "2021-08-18T18:23:42.209Z"
   },
   {
    "duration": 55,
    "start_time": "2021-08-18T18:23:45.252Z"
   },
   {
    "duration": 644,
    "start_time": "2021-08-18T18:23:46.337Z"
   },
   {
    "duration": 7,
    "start_time": "2021-08-18T18:23:49.833Z"
   },
   {
    "duration": 9,
    "start_time": "2021-08-18T18:23:51.708Z"
   },
   {
    "duration": 9,
    "start_time": "2021-08-18T18:23:52.503Z"
   },
   {
    "duration": 22,
    "start_time": "2021-08-18T18:23:57.345Z"
   },
   {
    "duration": 30,
    "start_time": "2021-08-18T18:24:01.890Z"
   },
   {
    "duration": 1216,
    "start_time": "2021-08-18T18:24:19.911Z"
   },
   {
    "duration": 1229,
    "start_time": "2021-08-18T18:24:53.637Z"
   },
   {
    "duration": 17,
    "start_time": "2021-08-18T18:25:10.000Z"
   },
   {
    "duration": 14,
    "start_time": "2021-08-18T18:25:49.163Z"
   },
   {
    "duration": 15,
    "start_time": "2021-08-18T18:26:07.079Z"
   },
   {
    "duration": 15,
    "start_time": "2021-08-18T18:26:20.032Z"
   },
   {
    "duration": 17,
    "start_time": "2021-08-18T18:26:36.314Z"
   },
   {
    "duration": 279,
    "start_time": "2021-08-18T18:26:51.341Z"
   },
   {
    "duration": 7,
    "start_time": "2021-08-18T18:27:13.828Z"
   },
   {
    "duration": 22,
    "start_time": "2021-08-18T18:27:26.486Z"
   },
   {
    "duration": 34,
    "start_time": "2021-08-18T18:27:27.748Z"
   },
   {
    "duration": 87,
    "start_time": "2021-08-18T18:29:19.101Z"
   },
   {
    "duration": 7,
    "start_time": "2021-08-18T18:29:30.906Z"
   },
   {
    "duration": 9,
    "start_time": "2021-08-18T18:31:12.104Z"
   },
   {
    "duration": 14,
    "start_time": "2021-08-18T18:31:20.419Z"
   },
   {
    "duration": 261,
    "start_time": "2021-08-18T18:32:19.607Z"
   },
   {
    "duration": 13,
    "start_time": "2021-08-18T18:32:26.657Z"
   },
   {
    "duration": 275,
    "start_time": "2021-08-18T18:33:18.628Z"
   },
   {
    "duration": 19,
    "start_time": "2021-08-18T18:33:26.611Z"
   },
   {
    "duration": 15,
    "start_time": "2021-08-18T18:33:37.508Z"
   },
   {
    "duration": 21,
    "start_time": "2021-08-18T18:33:43.291Z"
   },
   {
    "duration": 26,
    "start_time": "2021-08-18T18:33:48.984Z"
   },
   {
    "duration": 32,
    "start_time": "2021-08-18T18:33:55.525Z"
   },
   {
    "duration": 25,
    "start_time": "2021-08-18T18:34:02.189Z"
   },
   {
    "duration": 1537,
    "start_time": "2021-08-18T18:34:46.446Z"
   },
   {
    "duration": 1333,
    "start_time": "2021-08-18T18:34:55.374Z"
   },
   {
    "duration": 3835,
    "start_time": "2021-08-18T18:35:13.073Z"
   },
   {
    "duration": 1104,
    "start_time": "2021-08-18T18:36:44.650Z"
   },
   {
    "duration": 2085,
    "start_time": "2021-08-18T18:37:05.924Z"
   },
   {
    "duration": 25,
    "start_time": "2021-08-18T18:37:38.758Z"
   },
   {
    "duration": 32,
    "start_time": "2021-08-18T18:37:54.649Z"
   },
   {
    "duration": 1542,
    "start_time": "2021-08-18T18:37:59.469Z"
   },
   {
    "duration": 2019,
    "start_time": "2021-08-18T18:39:06.547Z"
   },
   {
    "duration": 1040,
    "start_time": "2021-08-18T18:39:20.153Z"
   },
   {
    "duration": 1083,
    "start_time": "2021-08-18T18:40:14.882Z"
   },
   {
    "duration": 1055,
    "start_time": "2021-08-18T18:42:56.399Z"
   },
   {
    "duration": 6931,
    "start_time": "2021-08-18T18:43:59.808Z"
   },
   {
    "duration": 1034,
    "start_time": "2021-08-18T18:44:31.532Z"
   },
   {
    "duration": 1872,
    "start_time": "2021-08-18T18:44:42.412Z"
   },
   {
    "duration": 1280,
    "start_time": "2021-08-18T18:44:56.891Z"
   },
   {
    "duration": 1278,
    "start_time": "2021-08-18T18:45:02.578Z"
   },
   {
    "duration": 20,
    "start_time": "2021-08-18T18:45:09.492Z"
   },
   {
    "duration": 1789,
    "start_time": "2021-08-18T18:46:52.971Z"
   },
   {
    "duration": 1632,
    "start_time": "2021-08-18T18:47:08.000Z"
   },
   {
    "duration": 154,
    "start_time": "2021-08-18T18:48:05.168Z"
   },
   {
    "duration": 1276,
    "start_time": "2021-08-18T18:48:17.008Z"
   },
   {
    "duration": 5,
    "start_time": "2021-08-18T18:48:31.307Z"
   },
   {
    "duration": 419,
    "start_time": "2021-08-18T18:48:38.968Z"
   },
   {
    "duration": 467,
    "start_time": "2021-08-18T18:49:00.888Z"
   },
   {
    "duration": 481,
    "start_time": "2021-08-18T18:49:18.681Z"
   },
   {
    "duration": 431,
    "start_time": "2021-08-18T18:49:50.869Z"
   },
   {
    "duration": 4342,
    "start_time": "2021-08-18T18:49:56.618Z"
   },
   {
    "duration": 9137,
    "start_time": "2021-08-18T18:50:47.284Z"
   },
   {
    "duration": 11842,
    "start_time": "2021-08-18T18:53:26.625Z"
   },
   {
    "duration": 8362,
    "start_time": "2021-08-18T18:53:54.951Z"
   },
   {
    "duration": 432,
    "start_time": "2021-08-18T18:57:41.929Z"
   },
   {
    "duration": 426,
    "start_time": "2021-08-18T18:58:06.551Z"
   },
   {
    "duration": 9843,
    "start_time": "2021-08-18T18:58:14.015Z"
   },
   {
    "duration": 20,
    "start_time": "2021-08-18T18:58:30.175Z"
   },
   {
    "duration": 731,
    "start_time": "2021-08-18T18:59:06.455Z"
   },
   {
    "duration": 8038,
    "start_time": "2021-08-18T18:59:59.594Z"
   },
   {
    "duration": 286,
    "start_time": "2021-08-18T19:01:38.551Z"
   },
   {
    "duration": 1038,
    "start_time": "2021-08-18T19:01:56.256Z"
   },
   {
    "duration": 1289,
    "start_time": "2021-08-18T19:02:09.704Z"
   },
   {
    "duration": 1258,
    "start_time": "2021-08-18T19:04:18.607Z"
   },
   {
    "duration": 12959,
    "start_time": "2021-08-18T19:04:24.324Z"
   },
   {
    "duration": 12917,
    "start_time": "2021-08-18T19:04:38.479Z"
   },
   {
    "duration": 88,
    "start_time": "2021-08-18T19:05:24.835Z"
   },
   {
    "duration": 3556,
    "start_time": "2021-08-18T19:05:36.312Z"
   },
   {
    "duration": 1613,
    "start_time": "2021-08-18T19:06:39.394Z"
   },
   {
    "duration": 85,
    "start_time": "2021-08-18T19:07:05.861Z"
   },
   {
    "duration": 588,
    "start_time": "2021-08-18T19:07:14.952Z"
   },
   {
    "duration": 88,
    "start_time": "2021-08-18T19:07:25.971Z"
   },
   {
    "duration": 3618,
    "start_time": "2021-08-18T19:07:49.431Z"
   },
   {
    "duration": 435,
    "start_time": "2021-08-18T19:07:58.644Z"
   },
   {
    "duration": 3548,
    "start_time": "2021-08-18T19:08:21.021Z"
   },
   {
    "duration": 4312,
    "start_time": "2021-08-18T19:08:52.539Z"
   },
   {
    "duration": 284,
    "start_time": "2021-08-18T19:09:17.435Z"
   },
   {
    "duration": 37,
    "start_time": "2021-08-18T19:09:20.307Z"
   },
   {
    "duration": 4828,
    "start_time": "2021-08-18T19:10:04.916Z"
   },
   {
    "duration": 86,
    "start_time": "2021-08-18T19:10:36.777Z"
   },
   {
    "duration": 7477,
    "start_time": "2021-08-18T19:11:18.649Z"
   },
   {
    "duration": 279,
    "start_time": "2021-08-18T19:11:35.717Z"
   },
   {
    "duration": 3862,
    "start_time": "2021-08-18T19:11:44.276Z"
   },
   {
    "duration": 356,
    "start_time": "2021-08-18T19:14:27.468Z"
   },
   {
    "duration": 4339,
    "start_time": "2021-08-18T19:14:41.889Z"
   },
   {
    "duration": 8011,
    "start_time": "2021-08-18T19:15:55.821Z"
   },
   {
    "duration": 7827,
    "start_time": "2021-08-18T19:16:22.494Z"
   },
   {
    "duration": 281,
    "start_time": "2021-08-18T19:17:19.559Z"
   },
   {
    "duration": 20,
    "start_time": "2021-08-18T19:18:07.406Z"
   },
   {
    "duration": 30,
    "start_time": "2021-08-18T19:18:11.942Z"
   },
   {
    "duration": 30,
    "start_time": "2021-08-18T19:18:20.531Z"
   },
   {
    "duration": 26,
    "start_time": "2021-08-18T19:18:49.961Z"
   },
   {
    "duration": 109,
    "start_time": "2021-08-18T19:18:59.870Z"
   },
   {
    "duration": 99,
    "start_time": "2021-08-18T19:19:15.950Z"
   },
   {
    "duration": 97,
    "start_time": "2021-08-18T19:19:34.150Z"
   },
   {
    "duration": 33,
    "start_time": "2021-08-18T19:19:39.610Z"
   },
   {
    "duration": 33,
    "start_time": "2021-08-18T19:20:13.063Z"
   },
   {
    "duration": 9,
    "start_time": "2021-08-18T19:20:53.712Z"
   },
   {
    "duration": 64,
    "start_time": "2021-08-18T19:21:03.781Z"
   },
   {
    "duration": 47,
    "start_time": "2021-08-18T19:21:10.928Z"
   },
   {
    "duration": 292,
    "start_time": "2021-08-18T19:22:54.989Z"
   },
   {
    "duration": 71,
    "start_time": "2021-08-18T19:23:15.900Z"
   },
   {
    "duration": 48,
    "start_time": "2021-08-18T19:23:37.252Z"
   },
   {
    "duration": 60,
    "start_time": "2021-08-18T19:24:06.172Z"
   },
   {
    "duration": 64,
    "start_time": "2021-08-18T19:24:30.277Z"
   },
   {
    "duration": 93,
    "start_time": "2021-08-18T19:25:38.215Z"
   },
   {
    "duration": 7358,
    "start_time": "2021-08-18T19:27:12.113Z"
   },
   {
    "duration": 7358,
    "start_time": "2021-08-18T19:28:07.837Z"
   },
   {
    "duration": 70,
    "start_time": "2021-08-18T19:28:18.654Z"
   },
   {
    "duration": 69,
    "start_time": "2021-08-18T19:28:48.735Z"
   },
   {
    "duration": 66,
    "start_time": "2021-08-18T19:30:02.662Z"
   },
   {
    "duration": 70,
    "start_time": "2021-08-18T19:30:11.980Z"
   },
   {
    "duration": 61,
    "start_time": "2021-08-18T19:30:25.614Z"
   },
   {
    "duration": 271,
    "start_time": "2021-08-18T19:31:40.431Z"
   },
   {
    "duration": 93,
    "start_time": "2021-08-18T19:31:56.552Z"
   },
   {
    "duration": 92,
    "start_time": "2021-08-18T19:32:12.820Z"
   },
   {
    "duration": 269,
    "start_time": "2021-08-18T19:32:13.557Z"
   },
   {
    "duration": 286,
    "start_time": "2021-08-18T19:33:11.573Z"
   },
   {
    "duration": 1284,
    "start_time": "2021-08-18T19:33:45.668Z"
   },
   {
    "duration": 106,
    "start_time": "2021-08-18T19:34:07.615Z"
   },
   {
    "duration": 20,
    "start_time": "2021-08-18T19:34:14.106Z"
   },
   {
    "duration": 32,
    "start_time": "2021-08-18T19:37:39.420Z"
   },
   {
    "duration": 8,
    "start_time": "2021-08-18T19:37:45.511Z"
   },
   {
    "duration": 28,
    "start_time": "2021-08-18T19:37:52.308Z"
   },
   {
    "duration": 274,
    "start_time": "2021-08-18T19:39:48.278Z"
   },
   {
    "duration": 26,
    "start_time": "2021-08-18T19:39:59.301Z"
   },
   {
    "duration": 28,
    "start_time": "2021-08-18T19:40:50.156Z"
   },
   {
    "duration": 11,
    "start_time": "2021-08-18T19:40:55.022Z"
   },
   {
    "duration": 53,
    "start_time": "2021-08-18T19:43:28.479Z"
   },
   {
    "duration": 6,
    "start_time": "2021-08-18T19:43:29.900Z"
   },
   {
    "duration": 236,
    "start_time": "2021-08-18T19:43:32.305Z"
   },
   {
    "duration": 54,
    "start_time": "2021-08-18T19:43:35.450Z"
   },
   {
    "duration": 17,
    "start_time": "2021-08-18T19:46:23.674Z"
   },
   {
    "duration": 29,
    "start_time": "2021-08-18T19:46:36.410Z"
   },
   {
    "duration": 11293,
    "start_time": "2021-08-18T19:47:44.360Z"
   },
   {
    "duration": 28,
    "start_time": "2021-08-18T19:48:08.339Z"
   },
   {
    "duration": 28,
    "start_time": "2021-08-18T19:48:19.633Z"
   },
   {
    "duration": 112,
    "start_time": "2021-08-18T19:48:22.933Z"
   },
   {
    "duration": 24,
    "start_time": "2021-08-18T19:48:30.501Z"
   },
   {
    "duration": 1190,
    "start_time": "2021-08-18T19:49:42.160Z"
   },
   {
    "duration": 25,
    "start_time": "2021-08-18T19:49:57.165Z"
   },
   {
    "duration": 13,
    "start_time": "2021-08-18T19:51:10.075Z"
   },
   {
    "duration": 19,
    "start_time": "2021-08-18T19:51:56.748Z"
   },
   {
    "duration": 30,
    "start_time": "2021-08-18T19:52:11.670Z"
   },
   {
    "duration": 37,
    "start_time": "2021-08-18T19:53:14.793Z"
   },
   {
    "duration": 55,
    "start_time": "2021-08-18T19:55:45.932Z"
   },
   {
    "duration": 9,
    "start_time": "2021-08-18T19:55:51.904Z"
   },
   {
    "duration": 6,
    "start_time": "2021-08-18T19:56:10.468Z"
   },
   {
    "duration": 24,
    "start_time": "2021-08-18T19:56:16.346Z"
   },
   {
    "duration": 37,
    "start_time": "2021-08-18T19:56:34.984Z"
   },
   {
    "duration": 22,
    "start_time": "2021-08-18T19:56:48.643Z"
   },
   {
    "duration": 19,
    "start_time": "2021-08-18T19:56:51.156Z"
   },
   {
    "duration": 8,
    "start_time": "2021-08-18T19:56:58.612Z"
   },
   {
    "duration": 56,
    "start_time": "2021-08-18T19:57:26.137Z"
   },
   {
    "duration": 77,
    "start_time": "2021-08-18T19:57:46.479Z"
   },
   {
    "duration": 19,
    "start_time": "2021-08-18T19:59:27.667Z"
   },
   {
    "duration": 19,
    "start_time": "2021-08-18T20:01:09.243Z"
   },
   {
    "duration": 26,
    "start_time": "2021-08-18T20:01:17.977Z"
   },
   {
    "duration": 8,
    "start_time": "2021-08-18T20:01:25.662Z"
   },
   {
    "duration": 8,
    "start_time": "2021-08-18T20:01:29.165Z"
   },
   {
    "duration": 8,
    "start_time": "2021-08-18T20:02:34.842Z"
   },
   {
    "duration": 7,
    "start_time": "2021-08-18T20:02:58.052Z"
   },
   {
    "duration": 8,
    "start_time": "2021-08-18T20:03:06.929Z"
   },
   {
    "duration": 8,
    "start_time": "2021-08-18T20:03:11.143Z"
   },
   {
    "duration": 15,
    "start_time": "2021-08-18T20:03:22.064Z"
   },
   {
    "duration": 8,
    "start_time": "2021-08-18T20:03:27.814Z"
   },
   {
    "duration": 8,
    "start_time": "2021-08-18T20:03:36.809Z"
   },
   {
    "duration": 8,
    "start_time": "2021-08-18T20:03:42.945Z"
   },
   {
    "duration": 7,
    "start_time": "2021-08-18T20:04:19.979Z"
   },
   {
    "duration": 15,
    "start_time": "2021-08-18T20:05:31.394Z"
   },
   {
    "duration": 152,
    "start_time": "2021-08-18T20:05:35.142Z"
   },
   {
    "duration": 753,
    "start_time": "2021-08-18T20:05:36.451Z"
   },
   {
    "duration": 15,
    "start_time": "2021-08-18T20:08:32.813Z"
   },
   {
    "duration": 1620,
    "start_time": "2021-08-18T20:13:13.512Z"
   },
   {
    "duration": 114,
    "start_time": "2021-08-18T20:13:15.135Z"
   },
   {
    "duration": 82,
    "start_time": "2021-08-18T20:13:15.255Z"
   },
   {
    "duration": 88,
    "start_time": "2021-08-18T20:13:15.340Z"
   },
   {
    "duration": 100,
    "start_time": "2021-08-18T20:13:15.431Z"
   },
   {
    "duration": 50,
    "start_time": "2021-08-18T20:13:15.533Z"
   },
   {
    "duration": 25,
    "start_time": "2021-08-18T20:13:15.586Z"
   },
   {
    "duration": 56,
    "start_time": "2021-08-18T20:13:15.616Z"
   },
   {
    "duration": 33,
    "start_time": "2021-08-18T20:13:15.676Z"
   },
   {
    "duration": 19,
    "start_time": "2021-08-18T20:13:15.712Z"
   },
   {
    "duration": 13,
    "start_time": "2021-08-18T20:13:15.734Z"
   },
   {
    "duration": 35,
    "start_time": "2021-08-18T20:13:15.749Z"
   },
   {
    "duration": 34,
    "start_time": "2021-08-18T20:13:15.787Z"
   },
   {
    "duration": 58,
    "start_time": "2021-08-18T20:13:15.824Z"
   },
   {
    "duration": 8,
    "start_time": "2021-08-18T20:13:15.885Z"
   },
   {
    "duration": 25,
    "start_time": "2021-08-18T20:13:15.896Z"
   },
   {
    "duration": 85,
    "start_time": "2021-08-18T20:13:15.924Z"
   },
   {
    "duration": 556,
    "start_time": "2021-08-18T20:13:16.012Z"
   },
   {
    "duration": 11,
    "start_time": "2021-08-18T20:13:16.571Z"
   },
   {
    "duration": 85,
    "start_time": "2021-08-18T20:13:16.586Z"
   },
   {
    "duration": 461,
    "start_time": "2021-08-18T20:13:16.674Z"
   },
   {
    "duration": 93,
    "start_time": "2021-08-18T20:13:17.138Z"
   },
   {
    "duration": 72,
    "start_time": "2021-08-18T20:13:17.239Z"
   },
   {
    "duration": 8,
    "start_time": "2021-08-18T20:13:17.317Z"
   },
   {
    "duration": 110,
    "start_time": "2021-08-18T20:13:17.329Z"
   },
   {
    "duration": 634,
    "start_time": "2021-08-18T20:13:17.441Z"
   },
   {
    "duration": 7,
    "start_time": "2021-08-18T20:13:18.078Z"
   },
   {
    "duration": 11,
    "start_time": "2021-08-18T20:13:18.088Z"
   },
   {
    "duration": 55,
    "start_time": "2021-08-18T20:13:18.102Z"
   },
   {
    "duration": 23,
    "start_time": "2021-08-18T20:13:18.160Z"
   },
   {
    "duration": 33,
    "start_time": "2021-08-18T20:13:18.186Z"
   },
   {
    "duration": 44,
    "start_time": "2021-08-18T20:13:18.256Z"
   },
   {
    "duration": 9,
    "start_time": "2021-08-18T20:13:18.302Z"
   },
   {
    "duration": 98,
    "start_time": "2021-08-18T20:13:18.314Z"
   },
   {
    "duration": 123,
    "start_time": "2021-08-18T20:13:18.416Z"
   },
   {
    "duration": 32,
    "start_time": "2021-08-18T20:13:18.542Z"
   },
   {
    "duration": 36,
    "start_time": "2021-08-18T20:13:18.577Z"
   },
   {
    "duration": 13,
    "start_time": "2021-08-18T20:13:18.616Z"
   },
   {
    "duration": 61,
    "start_time": "2021-08-18T20:13:18.632Z"
   },
   {
    "duration": 11,
    "start_time": "2021-08-18T20:13:18.697Z"
   },
   {
    "duration": 115,
    "start_time": "2021-08-18T20:13:18.712Z"
   },
   {
    "duration": 8,
    "start_time": "2021-08-18T20:13:18.831Z"
   },
   {
    "duration": 251,
    "start_time": "2021-08-18T20:13:18.857Z"
   },
   {
    "duration": 92,
    "start_time": "2021-08-18T20:13:19.111Z"
   },
   {
    "duration": 53,
    "start_time": "2021-08-18T20:13:19.206Z"
   },
   {
    "duration": 54,
    "start_time": "2021-08-18T20:13:19.262Z"
   },
   {
    "duration": 93,
    "start_time": "2021-08-18T20:13:19.319Z"
   },
   {
    "duration": 13,
    "start_time": "2021-08-18T20:13:19.415Z"
   },
   {
    "duration": 37,
    "start_time": "2021-08-18T20:13:19.431Z"
   },
   {
    "duration": 31,
    "start_time": "2021-08-18T20:13:19.471Z"
   },
   {
    "duration": 50,
    "start_time": "2021-08-18T20:13:19.506Z"
   },
   {
    "duration": 11,
    "start_time": "2021-08-18T20:13:19.559Z"
   },
   {
    "duration": 85,
    "start_time": "2021-08-18T20:13:19.573Z"
   },
   {
    "duration": 108,
    "start_time": "2021-08-18T20:13:19.660Z"
   },
   {
    "duration": 26,
    "start_time": "2021-08-18T20:13:19.771Z"
   },
   {
    "duration": 38,
    "start_time": "2021-08-18T20:13:19.800Z"
   },
   {
    "duration": 29,
    "start_time": "2021-08-18T20:13:19.857Z"
   },
   {
    "duration": 9,
    "start_time": "2021-08-18T20:13:19.888Z"
   },
   {
    "duration": 10,
    "start_time": "2021-08-18T20:13:19.900Z"
   },
   {
    "duration": 47,
    "start_time": "2021-08-18T20:13:19.912Z"
   },
   {
    "duration": 23,
    "start_time": "2021-08-18T20:13:19.962Z"
   },
   {
    "duration": 26,
    "start_time": "2021-08-18T20:13:19.987Z"
   },
   {
    "duration": 21,
    "start_time": "2021-08-18T20:13:20.016Z"
   },
   {
    "duration": 21,
    "start_time": "2021-08-18T20:13:20.040Z"
   },
   {
    "duration": 40,
    "start_time": "2021-08-18T20:13:20.063Z"
   },
   {
    "duration": 161,
    "start_time": "2021-08-18T20:13:20.106Z"
   },
   {
    "duration": 953,
    "start_time": "2021-08-18T20:13:20.270Z"
   },
   {
    "duration": 507,
    "start_time": "2021-08-18T20:18:56.673Z"
   },
   {
    "duration": 380,
    "start_time": "2021-08-18T20:19:31.648Z"
   },
   {
    "duration": 325,
    "start_time": "2021-08-18T20:19:36.846Z"
   },
   {
    "duration": 2497,
    "start_time": "2021-08-18T20:19:43.185Z"
   },
   {
    "duration": 159,
    "start_time": "2021-08-18T20:20:50.274Z"
   },
   {
    "duration": 1027,
    "start_time": "2021-08-18T20:20:51.153Z"
   },
   {
    "duration": 323,
    "start_time": "2021-08-18T20:28:07.475Z"
   },
   {
    "duration": 967,
    "start_time": "2021-08-18T20:28:08.528Z"
   },
   {
    "duration": 179,
    "start_time": "2021-08-18T20:38:37.258Z"
   },
   {
    "duration": 827,
    "start_time": "2021-08-18T20:38:38.609Z"
   },
   {
    "duration": 157,
    "start_time": "2021-08-18T20:43:28.989Z"
   },
   {
    "duration": 1063,
    "start_time": "2021-08-18T20:43:29.765Z"
   }
  ],
  "kernelspec": {
   "display_name": "Python 3",
   "language": "python",
   "name": "python3"
  },
  "language_info": {
   "codemirror_mode": {
    "name": "ipython",
    "version": 3
   },
   "file_extension": ".py",
   "mimetype": "text/x-python",
   "name": "python",
   "nbconvert_exporter": "python",
   "pygments_lexer": "ipython3",
   "version": "3.7.8"
  },
  "toc": {
   "base_numbering": 1,
   "nav_menu": {},
   "number_sections": true,
   "sideBar": true,
   "skip_h1_title": true,
   "title_cell": "Table of Contents",
   "title_sidebar": "Contents",
   "toc_cell": false,
   "toc_position": {},
   "toc_section_display": true,
   "toc_window_display": false
  }
 },
 "nbformat": 4,
 "nbformat_minor": 5
}
